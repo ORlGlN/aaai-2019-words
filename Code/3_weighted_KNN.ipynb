{
 "cells": [
  {
   "cell_type": "markdown",
   "metadata": {
    "deletable": true,
    "editable": true
   },
   "source": [
    "### weight KNN neighbors by similarity\n",
    "> sum of weighted similarity/k <br>\n",
    "> Re-calculate correlation with weighted AMT in 20180821\\_weighted\\_AMT.ipynb <br>"
   ]
  },
  {
   "cell_type": "code",
   "execution_count": 2,
   "metadata": {
    "collapsed": true,
    "deletable": true,
    "editable": true
   },
   "outputs": [],
   "source": [
    "import requests, time, operator, re, json, csv, pickle, copy\n",
    "import pandas as pd\n",
    "import numpy as np\n",
    "from collections import Counter\n",
    "from scipy.stats import pearsonr, spearmanr\n",
    "from bs4 import BeautifulSoup\n",
    "from sklearn.feature_extraction.text import CountVectorizer, TfidfVectorizer\n",
    "from sklearn.metrics.pairwise import cosine_similarity\n",
    "from sklearn.neighbors import KNeighborsClassifier\n",
    "from sklearn.linear_model import LogisticRegression\n",
    "from sklearn.model_selection import StratifiedKFold\n",
    "from sklearn.model_selection import cross_val_score\n",
    "from sklearn.model_selection import KFold\n",
    "from nltk.corpus import stopwords\n",
    "from sklearn.preprocessing import StandardScaler\n",
    "from sklearn.pipeline import Pipeline\n",
    "from ast import literal_eval\n",
    "from scipy.sparse import vstack\n",
    "from scipy.spatial.distance import cdist\n",
    "import sklearn.metrics.pairwise\n",
    "import matplotlib.pyplot as plt\n",
    "#%matplotlib inline\n",
    "\n",
    "import warnings\n",
    "warnings.filterwarnings(\"ignore\")\n",
    "airbnb_path = '/data/2/zwang/2018_S_WordTreatment/V2_airbnb/'\n",
    "tw_path = '/data/2/zwang/2018_S_WordTreatment/V2_twitter/'\n",
    "yp_path = '/data/2/zwang/2018_S_WordTreatment/V2_yelp/'\n",
    "AMT_path = '/data/2/zwang/2018_S_WordTreatment/V2_AMT/'"
   ]
  },
  {
   "cell_type": "code",
   "execution_count": 13,
   "metadata": {
    "collapsed": false,
    "deletable": true,
    "editable": true
   },
   "outputs": [],
   "source": [
    "def weighted_knn_treatment_for_pair(swd,swdi,twd,twdi,X_sents,source_sents,source_labels,X_source,target_sents,target_labels,X_target,n_neighbors):\n",
    "    source_pos_treatment = []\n",
    "    source_neg_treatment = []\n",
    "    target_pos_treatment = []\n",
    "    target_neg_treatment = []\n",
    "    \n",
    "    if(X_sents.shape[0]*X_sents.shape[1] < 600000000): # control for memory error\n",
    "        X_src_ = X_source[:]\n",
    "        X_src_[:,swdi] = 0\n",
    "        X_tar_ = X_target[:]\n",
    "        X_tar_[:,twdi] = 0\n",
    "        \n",
    "        s_t_sim = cosine_similarity(X_src_,X_target)\n",
    "        t_s_sim = cosine_similarity(X_tar_,X_source)\n",
    "        s_s_sim = cosine_similarity(X_src_, X_source)\n",
    "        t_t_sim = cosine_similarity(X_tar_, X_target)\n",
    "        \n",
    "        for i in range(X_src_.shape[0]):\n",
    "            treat_neighbor_idx = s_t_sim[i].argsort()[::-1][:min(n_neighbors,X_target.shape[0])]\n",
    "            treat_neighbor_labels = [target_labels[idx] for idx in treat_neighbor_idx]\n",
    "            treat_neighbor_sims = [s_t_sim[i][idx] for idx in treat_neighbor_idx]\n",
    "            \n",
    "            contrl_neighbor_idx = s_s_sim[i].argsort()[::-1][1:min(n_neighbors+1,X_source.shape[0])]\n",
    "            contrl_neighbor_labels = [source_labels[idx] for idx in contrl_neighbor_idx]\n",
    "            contrl_neighbor_sims = [s_s_sim[i][idx] for idx in contrl_neighbor_idx]\n",
    "            \n",
    "            effect = np.mean(treat_neighbor_labels) - np.mean(contrl_neighbor_labels)\n",
    "            sim_effect = np.mean([x * y+(x-1) * y for x, y in zip(treat_neighbor_labels, treat_neighbor_sims)]) - np.mean([x * y+(x-1) * y for x, y in zip(contrl_neighbor_labels, contrl_neighbor_sims)])\n",
    "            \n",
    "            if(source_labels[i]==1):\n",
    "                source_pos_treatment.append((source_sents[i],round(float(sim_effect),5)))\n",
    "            elif(source_labels[i]==0):\n",
    "                source_neg_treatment.append((source_sents[i],round(float(sim_effect),5)))\n",
    "    \n",
    "        for j in range(X_tar_.shape[0]):\n",
    "            treat_neighbor_idx = t_s_sim[j].argsort()[::-1][:min(n_neighbors,X_source.shape[0])]\n",
    "            treat_neighbor_labels = [source_labels[idx] for idx in treat_neighbor_idx]\n",
    "            treat_neighbor_sims = [t_s_sim[j][idx] for idx in treat_neighbor_idx]\n",
    "        \n",
    "            contrl_neighbor_idx = t_t_sim[j].argsort()[::-1][1:min(n_neighbors+1,X_target.shape[0])]\n",
    "            contrl_neighbor_labels = [target_labels[idx] for idx in contrl_neighbor_idx]\n",
    "            contrl_neighbor_sims = [t_t_sim[j][idx] for idx in contrl_neighbor_idx]\n",
    "        \n",
    "            effect = np.mean(treat_neighbor_labels) - np.mean(contrl_neighbor_labels)\n",
    "            sim_effect = np.mean([x * y+(x-1) * y for x, y in zip(treat_neighbor_labels, treat_neighbor_sims)]) - np.mean([x * y+(x-1) * y for x, y in zip(contrl_neighbor_labels, contrl_neighbor_sims)])\n",
    "            \n",
    "        \n",
    "            if(target_labels[j]==1):\n",
    "                target_pos_treatment.append((target_sents[j],round(float(sim_effect),5)))\n",
    "            elif(target_labels[j]==0):\n",
    "                target_neg_treatment.append((target_sents[j],round(float(sim_effect),5)))\n",
    "        \n",
    "        return {'source':swd,'target':twd,\n",
    "            'source_pos_sents_treatment':[source_pos_treatment],'source_neg_sents_treatment':[source_neg_treatment],\n",
    "            'target_pos_sents_treatment':[target_pos_treatment],'target_neg_sents_treatment':[target_neg_treatment]}\n",
    "    else:\n",
    "        print(\"Large matrix!\",swd,twd)\n",
    "        return None"
   ]
  },
  {
   "cell_type": "code",
   "execution_count": 21,
   "metadata": {
    "collapsed": true,
    "deletable": true,
    "editable": true
   },
   "outputs": [],
   "source": [
    "def weighted_KNN_treatment(pair_file,treat_file,vocab_file,n_neighbors):\n",
    "    wdpairs_pos_neg_pd = pd.DataFrame(pickle.load(open(pair_file,'rb')))\n",
    "    if(vocab_file):\n",
    "        my_vocab = list(set(pd.read_csv(vocab_file).word.values))\n",
    "        tfidf_vec = TfidfVectorizer(norm='l2',vocabulary=my_vocab)\n",
    "        print(len(my_vocab))\n",
    "    else:\n",
    "        tfidf_vec = TfidfVectorizer(norm='l2')\n",
    "    \n",
    "    with open(treat_file,'wt') as fw:\n",
    "        my_fields = ['source','target','source_pos_sents_treatment','source_neg_sents_treatment','target_pos_sents_treatment','target_neg_sents_treatment']\n",
    "        csv_f = csv.DictWriter(fw,fieldnames=my_fields)\n",
    "        csv_f.writeheader()\n",
    "            \n",
    "        for idx, row in wdpairs_pos_neg_pd.iterrows():\n",
    "            if(idx % 100 == 0):\n",
    "                print(\"-------------\",idx,\"-------------\")\n",
    "            swd = row['source']\n",
    "            twd = row['target']\n",
    "            swd_pos_sents = row['source_pos_sents']\n",
    "            swd_neg_sents = row['source_neg_sents']\n",
    "            twd_pos_sents = row['target_pos_sents']\n",
    "            twd_neg_sents = row['target_neg_sents']\n",
    "            \n",
    "            source_sents = swd_pos_sents + swd_neg_sents\n",
    "            target_sents = twd_pos_sents + twd_neg_sents\n",
    "            source_labels = list(np.ones(len(swd_pos_sents)))+list(np.zeros(len(swd_neg_sents)))\n",
    "            target_labels = list(np.ones(len(twd_pos_sents)))+list(np.zeros(len(twd_neg_sents)))\n",
    "    \n",
    "            X_sents = tfidf_vec.fit_transform(source_sents+target_sents)\n",
    "            vocab = tfidf_vec.vocabulary_\n",
    "            \n",
    "            swdi = vocab[swd]\n",
    "            twdi = vocab[twd]\n",
    "            \n",
    "            X_source = X_sents[:len(source_sents)]\n",
    "            X_target = X_sents[len(source_sents):]\n",
    "            \n",
    "            \n",
    "            #logger.debug(\"swd: %s, twd: %s, X_sents.shape: %s\" % (swd,twd,X_sents.shape))\n",
    "            #print(swd, twd, X_sents.shape)\n",
    "            \n",
    "            treat_info = {}\n",
    "            treat_info = weighted_knn_treatment_for_pair(swd,swdi,twd,twdi, X_sents,\n",
    "                                                source_sents,source_labels,X_source,\n",
    "                                                target_sents,target_labels,X_target,n_neighbors)\n",
    "            \n",
    "            if(treat_info):\n",
    "                csv_f.writerow({'source':treat_info['source'],'target':treat_info['target'],\n",
    "                            'source_pos_sents_treatment':treat_info['source_pos_sents_treatment'],'source_neg_sents_treatment':treat_info['source_neg_sents_treatment'],\n",
    "                            'target_pos_sents_treatment':treat_info['target_pos_sents_treatment'],'target_neg_sents_treatment':treat_info['target_neg_sents_treatment']})"
   ]
  },
  {
   "cell_type": "markdown",
   "metadata": {
    "collapsed": true,
    "deletable": true,
    "editable": true
   },
   "source": [
    "- Only using AMT labeled data"
   ]
  },
  {
   "cell_type": "code",
   "execution_count": 25,
   "metadata": {
    "collapsed": true,
    "deletable": true,
    "editable": true
   },
   "outputs": [
    {
     "name": "stdout",
     "output_type": "stream",
     "text": [
      "------------- 0 -------------\n"
     ]
    },
    {
     "ename": "MemoryError",
     "evalue": "",
     "output_type": "error",
     "traceback": [
      "\u001b[0;31m\u001b[0m",
      "\u001b[0;31mMemoryError\u001b[0mTraceback (most recent call last)",
      "\u001b[0;32m<ipython-input-25-8dd4685958d3>\u001b[0m in \u001b[0;36m<module>\u001b[0;34m()\u001b[0m\n\u001b[1;32m      4\u001b[0m \u001b[0;31m#vocab_file=airbnb_path+'0_Data/common_wds.csv'\u001b[0m\u001b[0;34m\u001b[0m\u001b[0;34m\u001b[0m\u001b[0m\n\u001b[1;32m      5\u001b[0m \u001b[0mstart\u001b[0m \u001b[0;34m=\u001b[0m \u001b[0mtime\u001b[0m\u001b[0;34m.\u001b[0m\u001b[0mtime\u001b[0m\u001b[0;34m(\u001b[0m\u001b[0;34m)\u001b[0m\u001b[0;34m\u001b[0m\u001b[0m\n\u001b[0;32m----> 6\u001b[0;31m \u001b[0mweighted_KNN_treatment\u001b[0m\u001b[0;34m(\u001b[0m\u001b[0mpair_file\u001b[0m\u001b[0;34m,\u001b[0m\u001b[0mtreat_file\u001b[0m\u001b[0;34m,\u001b[0m\u001b[0mvocab_file\u001b[0m\u001b[0;34m=\u001b[0m\u001b[0;34m''\u001b[0m\u001b[0;34m,\u001b[0m\u001b[0mn_neighbors\u001b[0m\u001b[0;34m=\u001b[0m\u001b[0;36m30\u001b[0m\u001b[0;34m)\u001b[0m\u001b[0;34m\u001b[0m\u001b[0m\n\u001b[0m\u001b[1;32m      7\u001b[0m \u001b[0mend\u001b[0m \u001b[0;34m=\u001b[0m \u001b[0mtime\u001b[0m\u001b[0;34m.\u001b[0m\u001b[0mtime\u001b[0m\u001b[0;34m(\u001b[0m\u001b[0;34m)\u001b[0m\u001b[0;34m\u001b[0m\u001b[0m\n\u001b[1;32m      8\u001b[0m \u001b[0mprint\u001b[0m\u001b[0;34m(\u001b[0m\u001b[0;34m(\u001b[0m\u001b[0mend\u001b[0m\u001b[0;34m-\u001b[0m\u001b[0mstart\u001b[0m\u001b[0;34m)\u001b[0m\u001b[0;34m/\u001b[0m\u001b[0;36m60\u001b[0m\u001b[0;34m)\u001b[0m\u001b[0;34m\u001b[0m\u001b[0m\n",
      "\u001b[0;32m<ipython-input-21-657c411883a1>\u001b[0m in \u001b[0;36mweighted_KNN_treatment\u001b[0;34m(pair_file, treat_file, vocab_file, n_neighbors)\u001b[0m\n\u001b[1;32m     44\u001b[0m             treat_info = weighted_knn_treatment_for_pair(swd,swdi,twd,twdi, X_sents,\n\u001b[1;32m     45\u001b[0m                                                 \u001b[0msource_sents\u001b[0m\u001b[0;34m,\u001b[0m\u001b[0msource_labels\u001b[0m\u001b[0;34m,\u001b[0m\u001b[0mX_source\u001b[0m\u001b[0;34m,\u001b[0m\u001b[0;34m\u001b[0m\u001b[0m\n\u001b[0;32m---> 46\u001b[0;31m                                                 target_sents,target_labels,X_target,n_neighbors)\n\u001b[0m\u001b[1;32m     47\u001b[0m \u001b[0;34m\u001b[0m\u001b[0m\n\u001b[1;32m     48\u001b[0m             \u001b[0;32mif\u001b[0m\u001b[0;34m(\u001b[0m\u001b[0mtreat_info\u001b[0m\u001b[0;34m)\u001b[0m\u001b[0;34m:\u001b[0m\u001b[0;34m\u001b[0m\u001b[0m\n",
      "\u001b[0;32m<ipython-input-13-5b29c8f0b5fa>\u001b[0m in \u001b[0;36mweighted_knn_treatment_for_pair\u001b[0;34m(swd, swdi, twd, twdi, X_sents, source_sents, source_labels, X_source, target_sents, target_labels, X_target, n_neighbors)\u001b[0m\n\u001b[1;32m     14\u001b[0m         \u001b[0mt_s_sim\u001b[0m \u001b[0;34m=\u001b[0m \u001b[0mcosine_similarity\u001b[0m\u001b[0;34m(\u001b[0m\u001b[0mX_tar_\u001b[0m\u001b[0;34m,\u001b[0m\u001b[0mX_source\u001b[0m\u001b[0;34m)\u001b[0m\u001b[0;34m\u001b[0m\u001b[0m\n\u001b[1;32m     15\u001b[0m         \u001b[0ms_s_sim\u001b[0m \u001b[0;34m=\u001b[0m \u001b[0mcosine_similarity\u001b[0m\u001b[0;34m(\u001b[0m\u001b[0mX_src_\u001b[0m\u001b[0;34m,\u001b[0m \u001b[0mX_source\u001b[0m\u001b[0;34m)\u001b[0m\u001b[0;34m\u001b[0m\u001b[0m\n\u001b[0;32m---> 16\u001b[0;31m         \u001b[0mt_t_sim\u001b[0m \u001b[0;34m=\u001b[0m \u001b[0mcosine_similarity\u001b[0m\u001b[0;34m(\u001b[0m\u001b[0mX_tar_\u001b[0m\u001b[0;34m,\u001b[0m \u001b[0mX_target\u001b[0m\u001b[0;34m)\u001b[0m\u001b[0;34m\u001b[0m\u001b[0m\n\u001b[0m\u001b[1;32m     17\u001b[0m \u001b[0;34m\u001b[0m\u001b[0m\n\u001b[1;32m     18\u001b[0m         \u001b[0;32mfor\u001b[0m \u001b[0mi\u001b[0m \u001b[0;32min\u001b[0m \u001b[0mrange\u001b[0m\u001b[0;34m(\u001b[0m\u001b[0mX_src_\u001b[0m\u001b[0;34m.\u001b[0m\u001b[0mshape\u001b[0m\u001b[0;34m[\u001b[0m\u001b[0;36m0\u001b[0m\u001b[0;34m]\u001b[0m\u001b[0;34m)\u001b[0m\u001b[0;34m:\u001b[0m\u001b[0;34m\u001b[0m\u001b[0m\n",
      "\u001b[0;32m/home/zwang/.local/lib/python3.4/site-packages/sklearn/metrics/pairwise.py\u001b[0m in \u001b[0;36mcosine_similarity\u001b[0;34m(X, Y, dense_output)\u001b[0m\n\u001b[1;32m    911\u001b[0m         \u001b[0mY_normalized\u001b[0m \u001b[0;34m=\u001b[0m \u001b[0mnormalize\u001b[0m\u001b[0;34m(\u001b[0m\u001b[0mY\u001b[0m\u001b[0;34m,\u001b[0m \u001b[0mcopy\u001b[0m\u001b[0;34m=\u001b[0m\u001b[0;32mTrue\u001b[0m\u001b[0;34m)\u001b[0m\u001b[0;34m\u001b[0m\u001b[0m\n\u001b[1;32m    912\u001b[0m \u001b[0;34m\u001b[0m\u001b[0m\n\u001b[0;32m--> 913\u001b[0;31m     \u001b[0mK\u001b[0m \u001b[0;34m=\u001b[0m \u001b[0msafe_sparse_dot\u001b[0m\u001b[0;34m(\u001b[0m\u001b[0mX_normalized\u001b[0m\u001b[0;34m,\u001b[0m \u001b[0mY_normalized\u001b[0m\u001b[0;34m.\u001b[0m\u001b[0mT\u001b[0m\u001b[0;34m,\u001b[0m \u001b[0mdense_output\u001b[0m\u001b[0;34m=\u001b[0m\u001b[0mdense_output\u001b[0m\u001b[0;34m)\u001b[0m\u001b[0;34m\u001b[0m\u001b[0m\n\u001b[0m\u001b[1;32m    914\u001b[0m \u001b[0;34m\u001b[0m\u001b[0m\n\u001b[1;32m    915\u001b[0m     \u001b[0;32mreturn\u001b[0m \u001b[0mK\u001b[0m\u001b[0;34m\u001b[0m\u001b[0m\n",
      "\u001b[0;32m/home/zwang/.local/lib/python3.4/site-packages/sklearn/utils/extmath.py\u001b[0m in \u001b[0;36msafe_sparse_dot\u001b[0;34m(a, b, dense_output)\u001b[0m\n\u001b[1;32m    184\u001b[0m         \u001b[0mret\u001b[0m \u001b[0;34m=\u001b[0m \u001b[0ma\u001b[0m \u001b[0;34m*\u001b[0m \u001b[0mb\u001b[0m\u001b[0;34m\u001b[0m\u001b[0m\n\u001b[1;32m    185\u001b[0m         \u001b[0;32mif\u001b[0m \u001b[0mdense_output\u001b[0m \u001b[0;32mand\u001b[0m \u001b[0mhasattr\u001b[0m\u001b[0;34m(\u001b[0m\u001b[0mret\u001b[0m\u001b[0;34m,\u001b[0m \u001b[0;34m\"toarray\"\u001b[0m\u001b[0;34m)\u001b[0m\u001b[0;34m:\u001b[0m\u001b[0;34m\u001b[0m\u001b[0m\n\u001b[0;32m--> 186\u001b[0;31m             \u001b[0mret\u001b[0m \u001b[0;34m=\u001b[0m \u001b[0mret\u001b[0m\u001b[0;34m.\u001b[0m\u001b[0mtoarray\u001b[0m\u001b[0;34m(\u001b[0m\u001b[0;34m)\u001b[0m\u001b[0;34m\u001b[0m\u001b[0m\n\u001b[0m\u001b[1;32m    187\u001b[0m         \u001b[0;32mreturn\u001b[0m \u001b[0mret\u001b[0m\u001b[0;34m\u001b[0m\u001b[0m\n\u001b[1;32m    188\u001b[0m     \u001b[0;32melse\u001b[0m\u001b[0;34m:\u001b[0m\u001b[0;34m\u001b[0m\u001b[0m\n",
      "\u001b[0;32m/usr/lib64/python3.4/site-packages/scipy/sparse/compressed.py\u001b[0m in \u001b[0;36mtoarray\u001b[0;34m(self, order, out)\u001b[0m\n\u001b[1;32m    962\u001b[0m     \u001b[0;32mdef\u001b[0m \u001b[0mtoarray\u001b[0m\u001b[0;34m(\u001b[0m\u001b[0mself\u001b[0m\u001b[0;34m,\u001b[0m \u001b[0morder\u001b[0m\u001b[0;34m=\u001b[0m\u001b[0;32mNone\u001b[0m\u001b[0;34m,\u001b[0m \u001b[0mout\u001b[0m\u001b[0;34m=\u001b[0m\u001b[0;32mNone\u001b[0m\u001b[0;34m)\u001b[0m\u001b[0;34m:\u001b[0m\u001b[0;34m\u001b[0m\u001b[0m\n\u001b[1;32m    963\u001b[0m         \u001b[0;34m\"\"\"See the docstring for `spmatrix.toarray`.\"\"\"\u001b[0m\u001b[0;34m\u001b[0m\u001b[0m\n\u001b[0;32m--> 964\u001b[0;31m         \u001b[0;32mreturn\u001b[0m \u001b[0mself\u001b[0m\u001b[0;34m.\u001b[0m\u001b[0mtocoo\u001b[0m\u001b[0;34m(\u001b[0m\u001b[0mcopy\u001b[0m\u001b[0;34m=\u001b[0m\u001b[0;32mFalse\u001b[0m\u001b[0;34m)\u001b[0m\u001b[0;34m.\u001b[0m\u001b[0mtoarray\u001b[0m\u001b[0;34m(\u001b[0m\u001b[0morder\u001b[0m\u001b[0;34m=\u001b[0m\u001b[0morder\u001b[0m\u001b[0;34m,\u001b[0m \u001b[0mout\u001b[0m\u001b[0;34m=\u001b[0m\u001b[0mout\u001b[0m\u001b[0;34m)\u001b[0m\u001b[0;34m\u001b[0m\u001b[0m\n\u001b[0m\u001b[1;32m    965\u001b[0m \u001b[0;34m\u001b[0m\u001b[0m\n\u001b[1;32m    966\u001b[0m     \u001b[0;31m##############################################################\u001b[0m\u001b[0;34m\u001b[0m\u001b[0;34m\u001b[0m\u001b[0m\n",
      "\u001b[0;32m/usr/lib64/python3.4/site-packages/scipy/sparse/coo.py\u001b[0m in \u001b[0;36mtoarray\u001b[0;34m(self, order, out)\u001b[0m\n\u001b[1;32m    250\u001b[0m     \u001b[0;32mdef\u001b[0m \u001b[0mtoarray\u001b[0m\u001b[0;34m(\u001b[0m\u001b[0mself\u001b[0m\u001b[0;34m,\u001b[0m \u001b[0morder\u001b[0m\u001b[0;34m=\u001b[0m\u001b[0;32mNone\u001b[0m\u001b[0;34m,\u001b[0m \u001b[0mout\u001b[0m\u001b[0;34m=\u001b[0m\u001b[0;32mNone\u001b[0m\u001b[0;34m)\u001b[0m\u001b[0;34m:\u001b[0m\u001b[0;34m\u001b[0m\u001b[0m\n\u001b[1;32m    251\u001b[0m         \u001b[0;34m\"\"\"See the docstring for `spmatrix.toarray`.\"\"\"\u001b[0m\u001b[0;34m\u001b[0m\u001b[0m\n\u001b[0;32m--> 252\u001b[0;31m         \u001b[0mB\u001b[0m \u001b[0;34m=\u001b[0m \u001b[0mself\u001b[0m\u001b[0;34m.\u001b[0m\u001b[0m_process_toarray_args\u001b[0m\u001b[0;34m(\u001b[0m\u001b[0morder\u001b[0m\u001b[0;34m,\u001b[0m \u001b[0mout\u001b[0m\u001b[0;34m)\u001b[0m\u001b[0;34m\u001b[0m\u001b[0m\n\u001b[0m\u001b[1;32m    253\u001b[0m         \u001b[0mfortran\u001b[0m \u001b[0;34m=\u001b[0m \u001b[0mint\u001b[0m\u001b[0;34m(\u001b[0m\u001b[0mB\u001b[0m\u001b[0;34m.\u001b[0m\u001b[0mflags\u001b[0m\u001b[0;34m.\u001b[0m\u001b[0mf_contiguous\u001b[0m\u001b[0;34m)\u001b[0m\u001b[0;34m\u001b[0m\u001b[0m\n\u001b[1;32m    254\u001b[0m         \u001b[0;32mif\u001b[0m \u001b[0;32mnot\u001b[0m \u001b[0mfortran\u001b[0m \u001b[0;32mand\u001b[0m \u001b[0;32mnot\u001b[0m \u001b[0mB\u001b[0m\u001b[0;34m.\u001b[0m\u001b[0mflags\u001b[0m\u001b[0;34m.\u001b[0m\u001b[0mc_contiguous\u001b[0m\u001b[0;34m:\u001b[0m\u001b[0;34m\u001b[0m\u001b[0m\n",
      "\u001b[0;32m/usr/lib64/python3.4/site-packages/scipy/sparse/base.py\u001b[0m in \u001b[0;36m_process_toarray_args\u001b[0;34m(self, order, out)\u001b[0m\n\u001b[1;32m   1037\u001b[0m             \u001b[0;32mreturn\u001b[0m \u001b[0mout\u001b[0m\u001b[0;34m\u001b[0m\u001b[0m\n\u001b[1;32m   1038\u001b[0m         \u001b[0;32melse\u001b[0m\u001b[0;34m:\u001b[0m\u001b[0;34m\u001b[0m\u001b[0m\n\u001b[0;32m-> 1039\u001b[0;31m             \u001b[0;32mreturn\u001b[0m \u001b[0mnp\u001b[0m\u001b[0;34m.\u001b[0m\u001b[0mzeros\u001b[0m\u001b[0;34m(\u001b[0m\u001b[0mself\u001b[0m\u001b[0;34m.\u001b[0m\u001b[0mshape\u001b[0m\u001b[0;34m,\u001b[0m \u001b[0mdtype\u001b[0m\u001b[0;34m=\u001b[0m\u001b[0mself\u001b[0m\u001b[0;34m.\u001b[0m\u001b[0mdtype\u001b[0m\u001b[0;34m,\u001b[0m \u001b[0morder\u001b[0m\u001b[0;34m=\u001b[0m\u001b[0morder\u001b[0m\u001b[0;34m)\u001b[0m\u001b[0;34m\u001b[0m\u001b[0m\n\u001b[0m\u001b[1;32m   1040\u001b[0m \u001b[0;34m\u001b[0m\u001b[0m\n\u001b[1;32m   1041\u001b[0m     \u001b[0;32mdef\u001b[0m \u001b[0m__numpy_ufunc__\u001b[0m\u001b[0;34m(\u001b[0m\u001b[0mself\u001b[0m\u001b[0;34m,\u001b[0m \u001b[0mfunc\u001b[0m\u001b[0;34m,\u001b[0m \u001b[0mmethod\u001b[0m\u001b[0;34m,\u001b[0m \u001b[0mpos\u001b[0m\u001b[0;34m,\u001b[0m \u001b[0minputs\u001b[0m\u001b[0;34m,\u001b[0m \u001b[0;34m**\u001b[0m\u001b[0mkwargs\u001b[0m\u001b[0;34m)\u001b[0m\u001b[0;34m:\u001b[0m\u001b[0;34m\u001b[0m\u001b[0m\n",
      "\u001b[0;31mMemoryError\u001b[0m: "
     ]
    }
   ],
   "source": [
    "prefix = \"yp\"\n",
    "pair_file = AMT_path+'AMT_WdSents/Data/'+prefix+'_AMT_wdsents_markPPN.pickle'\n",
    "treat_file = AMT_path +\"AMT_WdSents/3_KNN/\"+prefix+\"_weightedknn_30_treatment.csv\"\n",
    "#vocab_file=airbnb_path+'0_Data/common_wds.csv'\n",
    "start = time.time()\n",
    "weighted_KNN_treatment(pair_file,treat_file,vocab_file='',n_neighbors=30)\n",
    "end = time.time()\n",
    "print((end-start)/60)"
   ]
  },
  {
   "cell_type": "code",
   "execution_count": 26,
   "metadata": {
    "collapsed": false,
    "deletable": true,
    "editable": true
   },
   "outputs": [
    {
     "data": {
      "text/plain": [
       "(25, 6)"
      ]
     },
     "execution_count": 26,
     "metadata": {},
     "output_type": "execute_result"
    }
   ],
   "source": [
    "res_pd = pd.read_csv(AMT_path +\"AMT_WdSents/3_KNN/tw_weightedknn_30_treatment.csv\",index_col=False)\n",
    "res_pd.shape"
   ]
  },
  {
   "cell_type": "code",
   "execution_count": null,
   "metadata": {
    "collapsed": true,
    "deletable": true,
    "editable": true
   },
   "outputs": [],
   "source": []
  }
 ],
 "metadata": {
  "kernelspec": {
   "display_name": "Python 3",
   "language": "python",
   "name": "python3"
  },
  "language_info": {
   "codemirror_mode": {
    "name": "ipython",
    "version": 3
   },
   "file_extension": ".py",
   "mimetype": "text/x-python",
   "name": "python",
   "nbconvert_exporter": "python",
   "pygments_lexer": "ipython3",
   "version": "3.4.3"
  }
 },
 "nbformat": 4,
 "nbformat_minor": 2
}
