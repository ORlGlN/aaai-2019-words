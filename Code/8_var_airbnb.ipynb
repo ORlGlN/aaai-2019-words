{
 "cells": [
  {
   "cell_type": "markdown",
   "metadata": {
    "deletable": true,
    "editable": true
   },
   "source": [
    "###  Get variance for each amt labeled sentence\n",
    "> Variance for each (word pair, sentence pair) of each method (e.g., variance among 200 trees in RF).\n",
    "\n",
    "#### 0 Randomly select 90% of the whole data to fit the following methods and repeat to get variance\n",
    "#### 1 VT-RF variance\n",
    "> 1.1 Fit VT-RF with all sentences containing source and target except the current one <br>\n",
    "> 1.2 Get path for source sentence and target sentence, each tree has a path, 200 trees in total, path with max and min probability <br>\n",
    "> 1.3 Compute treatment effect of each pair of sentence, get variance for source and target sentence separately <br>\n",
    "\n",
    "#### 2 CTF-RF variance\n",
    "> 2.1 Fit source RF with all sentences containing source word, target RF with all sentences containing target word, except current one <br>\n",
    "> 2.2 Get path for source sentence and target sentence, path with max and min probability <br>\n",
    "> 2.3 Compute treatment effect of each pair of sentence, get variance for source and target sentence separately <br>\n",
    "\n",
    "#### 3 CSF variance\n",
    "> 3.1 Fit causal forest and get variance directly <br>"
   ]
  },
  {
   "cell_type": "code",
   "execution_count": 1,
   "metadata": {
    "collapsed": true,
    "deletable": true,
    "editable": true
   },
   "outputs": [],
   "source": [
    "import pickle, pydot, random, re, time\n",
    "import pandas as pd\n",
    "import numpy as np\n",
    "from scipy.sparse import vstack\n",
    "from sklearn.externals.six import StringIO  \n",
    "from sklearn.datasets import load_iris\n",
    "from sklearn import tree\n",
    "from IPython.display import Image\n",
    "from sklearn.ensemble import RandomForestClassifier\n",
    "from sklearn.metrics.pairwise import cosine_similarity\n",
    "from sklearn.feature_extraction.text import CountVectorizer, TfidfVectorizer\n",
    "%matplotlib inline"
   ]
  },
  {
   "cell_type": "code",
   "execution_count": 2,
   "metadata": {
    "collapsed": true,
    "deletable": true,
    "editable": true
   },
   "outputs": [],
   "source": [
    "import rpy2\n",
    "import rpy2.robjects as ro\n",
    "from rpy2.robjects import r\n",
    "from rpy2.robjects import Matrix\n",
    "import rpy2.robjects.numpy2ri\n",
    "from rpy2.robjects.vectors import Matrix\n",
    "from rpy2.robjects.packages import importr\n",
    "importr('grf')\n",
    "rpy2.robjects.numpy2ri.activate()\n",
    "import warnings\n",
    "warnings.filterwarnings(\"ignore\")"
   ]
  },
  {
   "cell_type": "code",
   "execution_count": 3,
   "metadata": {
    "collapsed": true,
    "deletable": true,
    "editable": true
   },
   "outputs": [],
   "source": [
    "project_path = '/data/2/zwang/2018_S_WordTreatment/'\n",
    "amt_path = '/data/2/zwang/2018_S_WordTreatment/V2_AMT/6_amt/'\n",
    "full_name = {'yp':'Yelp','tw':'Twitter','airbnb':'Airbnb'}"
   ]
  },
  {
   "cell_type": "code",
   "execution_count": 4,
   "metadata": {
    "collapsed": false,
    "deletable": true,
    "editable": true
   },
   "outputs": [],
   "source": [
    "def fit_KNN(X_src_tf,src_smp_lbs,X_tar_tf,tar_smp_lbs,X_test_tf,src_wdi_tf,tar_wdi_tf):\n",
    "    \"\"\"\n",
    "    Get 30 neighbors from target sentences, and 30 from source sentences, take difference to get treatment effect.\n",
    "    \"\"\"\n",
    "    X_test_tf_ = X_test_tf[:]\n",
    "    X_test_tf_[:,src_wdi_tf]=0\n",
    "    \n",
    "    src_sim = cosine_similarity(X_test_tf_,X_src_tf)\n",
    "    tar_sim = cosine_similarity(X_test_tf_,X_tar_tf)\n",
    "\n",
    "    KNN_srcp = []\n",
    "    KNN_tarp = []\n",
    "    KNN_effects = []\n",
    "    for i in range(X_test_tf_.shape[0]):\n",
    "        src_neighbor_idx = src_sim[i].argsort()[::-1][:min(30,len(src_sim[i]))]\n",
    "        src_neighbor_labels = [src_smp_lbs[idx] for idx in src_neighbor_idx]\n",
    "\n",
    "        tar_neighbor_idx = tar_sim[i].argsort()[::-1][:min(30,len(tar_sim[i]))]\n",
    "        tar_neighbor_labels = [tar_smp_lbs[idx] for idx in tar_neighbor_idx]\n",
    "        \n",
    "        KNN_srcp.append(float('%.3f' % (np.mean(src_neighbor_labels))))\n",
    "        KNN_tarp.append(float('%.3f' % (np.mean(tar_neighbor_labels))))\n",
    "        KNN_effects.append(float('%.3f' % (np.mean(tar_neighbor_labels) - np.mean(src_neighbor_labels))))\n",
    "        \n",
    "    return KNN_srcp,KNN_tarp,KNN_effects"
   ]
  },
  {
   "cell_type": "code",
   "execution_count": 5,
   "metadata": {
    "collapsed": false,
    "deletable": true,
    "editable": true
   },
   "outputs": [],
   "source": [
    "def fit_VTRF(X_src_ct,src_smp_lbs,X_tar_ct,tar_smp_lbs,X_test_ct,src_wdi_ct,tar_wdi_ct):\n",
    "    \"\"\"\n",
    "    Fit one random forest using both source and target sentences.\n",
    "    Make virtual twins for test instances.\n",
    "    Predict for test instances and virtual instances, take difference as treatment effects.\n",
    "    \"\"\"\n",
    "    X_train = vstack((X_src_ct,X_tar_ct))\n",
    "    Y_train = list(src_smp_lbs) + list(tar_smp_lbs)\n",
    "    \n",
    "    RF_clf = RandomForestClassifier(n_estimators = min(200,X_train.shape[0]), max_features='log2', min_samples_leaf=2, \n",
    "                                        random_state=42, n_jobs=-1, oob_score=True)\n",
    "    RF_clf.fit(X_train, Y_train)\n",
    "    \n",
    "    # create virtual twins for test instances\n",
    "    X_test_vt = X_test_ct[:]\n",
    "    X_test_vt[:,src_wdi_ct] = 0\n",
    "    X_test_vt[:,tar_wdi_ct] = 1\n",
    "    \n",
    "    # Take difference as treatment effect\n",
    "    vt_pred = np.array(RF_clf.predict_proba(X_test_vt)[:,list(RF_clf.classes_).index(1)])\n",
    "    src_pred = np.array(RF_clf.predict_proba(X_test_ct)[:,list(RF_clf.classes_).index(1)])\n",
    "        \n",
    "    return [float('%.3f' % (src_e)) for src_e in src_pred],[float('%.3f' % (tar_e)) for tar_e in vt_pred],[float('%.3f' % (effect)) for effect in vt_pred-src_pred]"
   ]
  },
  {
   "cell_type": "code",
   "execution_count": 6,
   "metadata": {
    "collapsed": true,
    "deletable": true,
    "editable": true
   },
   "outputs": [],
   "source": [
    "def fit_CFRF(X_src_ct,src_smp_lbs,X_tar_ct,tar_smp_lbs,X_test_ct,src_wdi_ct,tar_wdi_ct):\n",
    "    \"\"\"\n",
    "    Fit one source random forest using source sentences and one target random forest using target sentences.\n",
    "    Make virtual twins for test instances.\n",
    "    Predict for test instances using source random forest, and predict for virtual instances using target random forest.\n",
    "    Take difference as treatment effects.\n",
    "    \"\"\"\n",
    "    src_RF_clf = RandomForestClassifier(n_estimators = min(200,X_src_ct.shape[0]), max_features='log2', min_samples_leaf=2, \n",
    "                                        random_state=42, n_jobs=-1, oob_score=True)\n",
    "    tar_RF_clf = RandomForestClassifier(n_estimators = min(200,X_tar_ct.shape[0]), max_features='log2', min_samples_leaf=2, \n",
    "                                        random_state=42, n_jobs=-1, oob_score=True)\n",
    "\n",
    "    src_RF_clf.fit(X_src_ct, src_smp_lbs)\n",
    "    tar_RF_clf.fit(X_tar_ct, tar_smp_lbs)\n",
    "    \n",
    "    # create virtual twins for test instances\n",
    "    X_test_vt = X_test_ct[:]\n",
    "    X_test_vt[:,src_wdi_ct] = 0\n",
    "    X_test_vt[:,tar_wdi_ct] = 1\n",
    "\n",
    "    vt_pred = np.array(tar_RF_clf.predict_proba(X_test_vt)[:,list(tar_RF_clf.classes_).index(1)])\n",
    "    src_pred = np.array(src_RF_clf.predict_proba(X_test_ct)[:,list(src_RF_clf.classes_).index(1)])\n",
    "        \n",
    "    return [float('%.3f' % (src_e)) for src_e in src_pred],[float('%.3f' % (tar_e)) for tar_e in vt_pred],[float('%.3f' % (effect)) for effect in vt_pred-src_pred]"
   ]
  },
  {
   "cell_type": "code",
   "execution_count": 7,
   "metadata": {
    "collapsed": true,
    "deletable": true,
    "editable": true
   },
   "outputs": [],
   "source": [
    "def fit_CSF(X_src_ct,src_smp_lbs,X_tar_ct,tar_smp_lbs,X_test_ct,src_wdi_ct,tar_wdi_ct):\n",
    "    \"\"\"\n",
    "    Fit one causal forest, set treatment variable values.\n",
    "    Calculate treatment effect directly.\n",
    "    \"\"\"\n",
    "    X_test_arr = X_test_ct.toarray()\n",
    "    R_test_ct = r.matrix(X_test_arr, nrow=X_test_arr.shape[0], ncol=X_test_arr.shape[1])\n",
    "    train_vec = vstack((X_src_ct,X_tar_ct)).toarray()\n",
    "    R_train_vec = r.matrix(train_vec, nrow=train_vec.shape[0], ncol=train_vec.shape[1])\n",
    "    R_train_y = list(src_smp_lbs) + list(tar_smp_lbs)\n",
    "    R_train_w = list(np.zeros(len(src_smp_lbs))) + list(np.ones(len(tar_smp_lbs)))\n",
    "    \n",
    "    r.assign('X.train',R_train_vec)\n",
    "    r.assign('X.test',R_test_ct)\n",
    "    r.assign('Y',ro.FloatVector(R_train_y))\n",
    "    r.assign('W',ro.IntVector(R_train_w))\n",
    "    \n",
    "    r('c.src_forest200 <- causal_forest(X.train,Y,W, num.trees=200, num.threads=8, seed=set.seed(10),precompute.nuisance = FALSE)')\n",
    "    r('c.pred_src200 <- predict(c.src_forest200, X.test, num.threads=8, estimate.variance = TRUE)')\n",
    "\n",
    "    r('c.src_forest2000 <- causal_forest(X.train,Y,W, num.trees=2000, num.threads=8, seed=set.seed(10),precompute.nuisance = FALSE)')\n",
    "    r('c.pred_src2000 <- predict(c.src_forest2000, X.test, num.threads=8, estimate.variance = TRUE)')\n",
    "\n",
    "    \n",
    "    CSF_pred_200 = [float('%.3f' % (pred)) for pred in r('c.pred_src200')[0]]\n",
    "    CSF_var_200 = [float('%.3f' % (var)) for var in r('c.pred_src200')[1]]\n",
    "    CSF_pred_2000 = [float('%.3f' % (pred)) for pred in r('c.pred_src2000')[0]]\n",
    "    CSF_var_2000 = [float('%.3f' % (var)) for var in r('c.pred_src2000')[1]]\n",
    "    \n",
    "    return CSF_pred_200,CSF_var_200,CSF_pred_2000,CSF_var_2000\n",
    "    #return r('c.pred_src200'),r('c.pred_src2000')"
   ]
  },
  {
   "cell_type": "code",
   "execution_count": 8,
   "metadata": {
    "collapsed": true,
    "deletable": true,
    "editable": true
   },
   "outputs": [],
   "source": [
    "def get_containing_sents(word_pair,data_file):\n",
    "    \"\"\"\n",
    "    Get all sentences containing source word and target word\n",
    "    \"\"\"\n",
    "    data_pd = pd.DataFrame(pickle.load(open(data_file,'rb')))\n",
    "    src_tar_pd = data_pd[(data_pd.source == word_pair[0]) & (data_pd.target == word_pair[1])]\n",
    "    tar_src_pd = data_pd[(data_pd.source == word_pair[1]) & (data_pd.target == word_pair[0])]\n",
    "    \n",
    "    src_sents = []\n",
    "    for sent in src_tar_pd.sentence.values:\n",
    "        src_sents.append(re.sub('-RRB-',')',re.sub('-LRB-','(',sent)))\n",
    "        \n",
    "    tar_sents = []\n",
    "    for sent in tar_src_pd.sentence.values:\n",
    "        tar_sents.append(re.sub('-RRB-',')',re.sub('-LRB-','(',sent)))\n",
    "        \n",
    "    return src_sents, list(src_tar_pd.true_y.values), tar_sents, list(tar_src_pd.true_y.values)"
   ]
  },
  {
   "cell_type": "code",
   "execution_count": 9,
   "metadata": {
    "collapsed": true,
    "deletable": true,
    "editable": true
   },
   "outputs": [],
   "source": [
    "def vectorize_sents(src_sents,tar_sents,current_sents,my_vocab):\n",
    "    if(len(my_vocab)>0):\n",
    "        ct_vec = CountVectorizer(min_df=3,binary=True,vocabulary=my_vocab)\n",
    "        tfidf_vec = TfidfVectorizer(norm='l2',vocabulary=my_vocab)\n",
    "    else:\n",
    "        ct_vec = CountVectorizer(min_df=3,binary=True)\n",
    "        tfidf_vec = TfidfVectorizer(norm='l2')\n",
    "    \n",
    "    X_ct = ct_vec.fit_transform(src_sents+tar_sents+current_sents)\n",
    "    X_tfidf = tfidf_vec.fit_transform(src_sents+tar_sents+current_sents)\n",
    "    return X_ct[:len(src_sents)],X_ct[len(src_sents):X_ct.shape[0]-len(current_sents)],X_ct[-len(current_sents):], X_tfidf[:len(src_sents)],X_tfidf[len(src_sents):X_tfidf.shape[0]-len(current_sents)],X_tfidf[-len(current_sents):], ct_vec.vocabulary_, tfidf_vec.vocabulary_    "
   ]
  },
  {
   "cell_type": "code",
   "execution_count": 10,
   "metadata": {
    "collapsed": true,
    "deletable": true,
    "editable": true
   },
   "outputs": [],
   "source": [
    "def get_samples(X_ct,X_tf,labels,perct):\n",
    "    smp_idx = random.sample(range(X_ct.shape[0]),int(X_ct.shape[0]*perct))\n",
    "    X_smp_ct = X_ct[smp_idx]\n",
    "    X_smp_tf = X_tf[smp_idx]\n",
    "    smp_lbs = [labels[idx] for idx in smp_idx]\n",
    "    return X_smp_ct,X_smp_tf,smp_lbs"
   ]
  },
  {
   "cell_type": "code",
   "execution_count": 11,
   "metadata": {
    "collapsed": true,
    "deletable": true,
    "editable": true
   },
   "outputs": [],
   "source": [
    "def compute_variance(amt_path,data_file,vocab_file,n_repeat,perct):\n",
    "    \"\"\"\n",
    "    Get containing sentences for each word pair, and exclude the 3 sentences present in file.\n",
    "    Select 90% of containing sentences as training instances, fit model and return prediction, repeat for 100 times.\n",
    "    Compute variance using 100 repeated predictions.\n",
    "    \"\"\"\n",
    "    for dataset in ['yp','tw','airbnb']:\n",
    "        if(dataset != 'airbnb'):\n",
    "            continue\n",
    "        amt_pd = pd.read_csv(amt_path+'results/'+dataset+'_result_summary_nodummy.csv')\n",
    "\n",
    "        all_info = []\n",
    "        for wdpair, row in amt_pd.groupby(['source','target']):\n",
    "            print(wdpair)\n",
    "            \n",
    "            # Step 1, get all containing sentences\n",
    "            current_sents = list(row.src_sentence.values)\n",
    "            all_src_sents, all_src_labels, all_tar_sents, all_tar_labels = get_containing_sents(wdpair,data_file[dataset])\n",
    "            \n",
    "            # Step 2: exclude current sentences from containing sentences, for out-of-bag prediction.\n",
    "            current_ids = [all_src_sents.index(cur_sent) for cur_sent in current_sents]\n",
    "            src_train_sents = []\n",
    "            src_train_labels = []\n",
    "            for i in range(len(all_src_sents)):\n",
    "                if(i not in current_ids):\n",
    "                    src_train_sents.append(all_src_sents[i])\n",
    "                    src_train_labels.append(all_src_labels[i])\n",
    "\n",
    "            # Vectorize sentences\n",
    "            if(dataset == 'airbnb'):\n",
    "                my_vocab = list(set(pd.read_csv(vocab_file).word.values))\n",
    "            else:\n",
    "                my_vocab = []\n",
    "\n",
    "            X_src_ct,X_tar_ct,X_test_ct,X_src_tf,X_tar_tf,X_test_tf,ct_vocab,tf_vocab = vectorize_sents(src_train_sents,all_tar_sents,current_sents,my_vocab)\n",
    "\n",
    "            #return X_src_ct,X_tar_ct,X_test_ct,X_src_tf,X_tar_tf,X_test_tf\n",
    "            src_wdi_ct = ct_vocab[wdpair[0]]\n",
    "            src_wdi_tf = tf_vocab[wdpair[0]]\n",
    "            tar_wdi_ct = ct_vocab[wdpair[1]]\n",
    "            tar_wdi_tf = tf_vocab[wdpair[1]]\n",
    "\n",
    "            # Step 3: select 90% as training samples to fit different models and predict for testing data, repeat for 100 times\n",
    "            KNN_src = []\n",
    "            KNN_tar = []\n",
    "            KNN_effect = []\n",
    "            VTRF_src = []\n",
    "            VTRF_tar = []\n",
    "            VTRF_effect = []\n",
    "            CFRF_src = []\n",
    "            CFRF_tar = []\n",
    "            CFRF_effect = []\n",
    "            CSF_effect200 = []\n",
    "            CSF_effect2000 = []\n",
    "\n",
    "            for i in range(n_repeat):\n",
    "                \"\"\"\n",
    "                Separate sample selection for source and target, to keep source and target in same ratio.\n",
    "                \"\"\"\n",
    "                X_src_smp_ct,X_src_smp_tf,src_smp_lbs = get_samples(X_src_ct,X_src_tf,src_train_labels,perct)\n",
    "                X_tar_smp_ct,X_tar_smp_tf,tar_smp_lbs = get_samples(X_tar_ct,X_tar_tf,all_tar_labels,perct)\n",
    "\n",
    "                KNN_srcp,KNN_tarp,KNN_eft = fit_KNN(X_src_smp_tf,src_smp_lbs,X_tar_smp_tf,tar_smp_lbs,X_test_tf,src_wdi_tf,tar_wdi_tf)\n",
    "                KNN_src.append(KNN_srcp)\n",
    "                KNN_tar.append(KNN_tarp)\n",
    "                KNN_effect.append(KNN_eft)\n",
    "                VT_src,VT_tar,VT_effect = fit_VTRF(X_src_smp_ct,src_smp_lbs,X_tar_smp_ct,tar_smp_lbs,X_test_ct,src_wdi_ct,tar_wdi_ct)\n",
    "                VTRF_src.append(VT_src)\n",
    "                VTRF_tar.append(VT_tar)\n",
    "                VTRF_effect.append(VT_effect)\n",
    "                CTF_src,CTF_tar,CTF_effect = fit_CFRF(X_src_smp_ct,src_smp_lbs,X_tar_smp_ct,tar_smp_lbs,X_test_ct,src_wdi_ct,tar_wdi_ct)\n",
    "                CFRF_src.append(CTF_src)\n",
    "                CFRF_tar.append(CTF_tar)\n",
    "                CFRF_effect.append(CTF_effect)\n",
    "#                 rpred200,rpred2000 = fit_CSF(X_src_smp_ct,src_smp_lbs,X_tar_smp_ct,tar_smp_lbs,X_test_ct,src_wdi_ct,tar_wdi_ct)\n",
    "#                 return rpred200, rpred2000\n",
    "                pred200,var200,pred2000,var2000 = fit_CSF(X_src_smp_ct,src_smp_lbs,X_tar_smp_ct,tar_smp_lbs,X_test_ct,src_wdi_ct,tar_wdi_ct)\n",
    "                CSF_effect200.append(pred200)\n",
    "                CSF_effect2000.append(pred2000)\n",
    "\n",
    "            # Step 4: calculate variance using repeated predictions.\n",
    "\n",
    "            CSF_direct_pred200,CSF_direct_var200, CSF_direct_pred2000,CSF_direct_var2000 = fit_CSF(X_src_ct,src_train_labels,X_tar_ct,all_tar_labels,X_test_ct,src_wdi_ct,tar_wdi_ct)\n",
    "\n",
    "            for i in range(row.shape[0]):\n",
    "                new_info = row.iloc[i].to_dict()\n",
    "                new_info['n_src'] = len(all_src_sents)\n",
    "                new_info['n_tar'] = len(all_tar_sents)\n",
    "                new_info['KNN_srcp'] = list(np.array(KNN_src)[:,i])\n",
    "                new_info['KNN_tarp'] = list(np.array(KNN_tar)[:,i])\n",
    "                new_info['KNN_var'] = list(np.array(KNN_effect)[:,i])\n",
    "                new_info['VTRF_srcp'] = list(np.array(VTRF_src)[:,i])\n",
    "                new_info['VTRF_tarp'] = list(np.array(VTRF_tar)[:,i])\n",
    "                new_info['VTRF_var'] = list(np.array(VTRF_effect)[:,i])\n",
    "                new_info['CFRF_srcp'] = list(np.array(CFRF_src)[:,i])\n",
    "                new_info['CFRF_tarp'] = list(np.array(CFRF_tar)[:,i])\n",
    "                new_info['CFRF_var'] = list(np.array(CFRF_effect)[:,i])\n",
    "                new_info['CSF_pred_var200'] = list(np.array(CSF_effect200)[:,i])\n",
    "                new_info['CSF_pred_var2000'] = list(np.array(CSF_effect2000)[:,i])\n",
    "                new_info['CSF_direct_var200'] = CSF_direct_var200[i]\n",
    "                new_info['CSF_direct_var2000'] = CSF_direct_var2000[i]\n",
    "\n",
    "                all_info.append(new_info)\n",
    "            \n",
    "\n",
    "        pd.DataFrame(all_info).to_csv(project_path+'V2_'+full_name[dataset].lower()+'/8_Var/'+dataset+'_effect_var_prob4.csv',\n",
    "        columns = list(amt_pd.columns)+['n_src','n_tar','KNN_srcp','KNN_tarp','KNN_var','VTRF_srcp','VTRF_tarp','VTRF_var','CFRF_srcp','CFRF_tarp','CFRF_var','CSF_pred_var200','CSF_pred_var2000','CSF_direct_var200','CSF_direct_var2000'],\n",
    "                                      index = False)   "
   ]
  },
  {
   "cell_type": "code",
   "execution_count": 12,
   "metadata": {
    "collapsed": false,
    "deletable": true,
    "editable": true
   },
   "outputs": [
    {
     "name": "stdout",
     "output_type": "stream",
     "text": [
      "('amazing', 'fabulous')\n",
      "('amazing', 'fantastic')\n",
      "('amazing', 'incredible')\n",
      "('amazing', 'outstanding')\n",
      "('amazing', 'spectacular')\n",
      "('amazing', 'wonderful')\n",
      "('apartment', 'condo')\n",
      "('apartments', 'homes')\n",
      "('best', 'nicest')\n",
      "('cheap', 'inexpensive')\n",
      "('comfortable', 'cozy')\n",
      "('dynamic', 'vibrant')\n",
      "('events', 'festivals')\n",
      "('exciting', 'fabulous')\n",
      "('exciting', 'interesting')\n",
      "('exciting', 'spectacular')\n",
      "('exciting', 'stunning')\n",
      "('famous', 'big')\n",
      "('famous', 'excellent')\n",
      "('famous', 'grand')\n",
      "('famous', 'old')\n",
      "('famous', 'renowned')\n",
      "('famous', 'special')\n",
      "('famous', 'wonderful')\n",
      "('hot', 'excellent')\n",
      "('huge', 'spectacular')\n",
      "('nice', 'gorgeous')\n",
      "('notable', 'unique')\n",
      "('open', 'outstanding')\n",
      "('predominantly', 'especially')\n",
      "('predominantly', 'mostly')\n",
      "('rapidly', 'quickly')\n",
      "('square', 'plaza')\n",
      "('store', 'boutique')\n",
      "('trips', 'tours')\n",
      "('various', 'several')\n",
      "('yummy', 'delicious')\n",
      "('yummy', 'good')\n",
      "394.30571784178414\n"
     ]
    }
   ],
   "source": [
    "data_file = {}\n",
    "data_file['yp'] = project_path + 'V2_yelp/5_Select/yp_wdpair_sents_4effects_posinters_poscom1_bigramcheck_limit.pickle'\n",
    "data_file['tw'] = project_path + 'V2_twitter/5_Select/tw_wdpair_sents_4effects_posinters_poscom1_bigramcheck_limit.pickle'\n",
    "data_file['airbnb'] = project_path + 'V2_airbnb/5_Select/airbnb_wdpair_sents_4effects_posinters_poscom1_bigramcheck_limit_limitvocab.pickle'\n",
    "\n",
    "vocab_file = project_path + 'V2_airbnb/0_Data/common_wds.csv'\n",
    "#effect_var_file = project_path+'V2_yelp/8_Var/yp_effect_var.csv'\n",
    "start = time.time()\n",
    "compute_variance(amt_path,data_file,vocab_file,n_repeat=100,perct=0.85)\n",
    "end = time.time()\n",
    "print((end-start)/60)"
   ]
  },
  {
   "cell_type": "code",
   "execution_count": null,
   "metadata": {
    "collapsed": true,
    "deletable": true,
    "editable": true
   },
   "outputs": [],
   "source": []
  },
  {
   "cell_type": "code",
   "execution_count": null,
   "metadata": {
    "collapsed": true,
    "deletable": true,
    "editable": true
   },
   "outputs": [],
   "source": []
  },
  {
   "cell_type": "code",
   "execution_count": 11,
   "metadata": {
    "collapsed": true,
    "deletable": true,
    "editable": true
   },
   "outputs": [],
   "source": [
    "def compute_variance(amt_path,data_file,vocab_file,dataset,n_repeat,perct):\n",
    "    \"\"\"\n",
    "    Get containing sentences for each word pair, and exclude the 3 sentences present in file.\n",
    "    Select 90% of containing sentences as training instances, fit model and return prediction, repeat for 100 times.\n",
    "    Compute variance using 100 repeated predictions.\n",
    "    \"\"\"\n",
    "    \n",
    "    amt_pd = pd.read_csv(amt_path+'results/airbnb_result_summary_nodummy.csv')\n",
    "\n",
    "    all_info = []\n",
    "    for wdpair, row in amt_pd.groupby(['source','target']):\n",
    "        print(wdpair)\n",
    "        # Step 1, get all containing sentences\n",
    "        current_sents = list(row.src_sentence.values)\n",
    "        all_src_sents, all_src_labels, all_tar_sents, all_tar_labels = get_containing_sents(wdpair,data_file)\n",
    "\n",
    "        # Step 2: exclude current sentences from containing sentences, for out-of-bag prediction.\n",
    "        current_ids = [all_src_sents.index(cur_sent) for cur_sent in current_sents]\n",
    "        src_train_sents = []\n",
    "        src_train_labels = []\n",
    "        for i in range(len(all_src_sents)):\n",
    "            if(i not in current_ids):\n",
    "                src_train_sents.append(all_src_sents[i])\n",
    "                src_train_labels.append(all_src_labels[i])\n",
    "\n",
    "        # Vectorize sentences\n",
    "        if(dataset == 'airbnb'):\n",
    "            my_vocab = list(set(pd.read_csv(vocab_file).word.values))\n",
    "        else:\n",
    "            my_vocab = []\n",
    "\n",
    "        X_src_ct,X_tar_ct,X_test_ct,X_src_tf,X_tar_tf,X_test_tf,ct_vocab,tf_vocab = vectorize_sents(src_train_sents,all_tar_sents,current_sents,my_vocab)\n",
    "\n",
    "        #return X_src_ct,X_tar_ct,X_test_ct,X_src_tf,X_tar_tf,X_test_tf\n",
    "        src_wdi_ct = ct_vocab[wdpair[0]]\n",
    "        src_wdi_tf = tf_vocab[wdpair[0]]\n",
    "        tar_wdi_ct = ct_vocab[wdpair[1]]\n",
    "        tar_wdi_tf = tf_vocab[wdpair[1]]\n",
    "\n",
    "        # Step 3: select 90% as training samples to fit different models and predict for testing data, repeat for 100 times\n",
    "        KNN_pred = []\n",
    "        VTRF_pred = []\n",
    "        CFRF_pred = []\n",
    "        CSF_pred200 = []\n",
    "        CSF_pred2000 = []\n",
    "\n",
    "        for i in range(n_repeat):\n",
    "            X_src_smp_ct,X_src_smp_tf,src_smp_lbs = get_samples(X_src_ct,X_src_tf,src_train_labels,perct)\n",
    "            X_tar_smp_ct,X_tar_smp_tf,tar_smp_lbs = get_samples(X_tar_ct,X_tar_tf,all_tar_labels,perct)\n",
    "\n",
    "            KNN_pred.append(fit_KNN(X_src_smp_tf,src_smp_lbs,X_tar_smp_tf,tar_smp_lbs,X_test_tf,src_wdi_tf,tar_wdi_tf))\n",
    "            VTRF_pred.append(fit_VTRF(X_src_smp_ct,src_smp_lbs,X_tar_smp_ct,tar_smp_lbs,X_test_ct,src_wdi_ct,tar_wdi_ct))\n",
    "            CFRF_pred.append(fit_CFRF(X_src_smp_ct,src_smp_lbs,X_tar_smp_ct,tar_smp_lbs,X_test_ct,src_wdi_ct,tar_wdi_ct))\n",
    "            pred200,var200,pred2000,var2000 = fit_CSF(X_src_smp_ct,src_smp_lbs,X_tar_smp_ct,tar_smp_lbs,X_test_ct,src_wdi_ct,tar_wdi_ct)\n",
    "            CSF_pred200.append(pred200)\n",
    "            CSF_pred2000.append(pred2000)\n",
    "\n",
    "        # Step 4: calculate variance using repeated predictions.\n",
    "\n",
    "        CSF_direct_pred200,CSF_direct_var200, CSF_direct_pred2000,CSF_direct_var2000 = fit_CSF(X_src_ct,src_train_labels,X_tar_ct,all_tar_labels,X_test_ct,src_wdi_ct,tar_wdi_ct)\n",
    "\n",
    "        for i in range(row.shape[0]):\n",
    "            new_info = row.iloc[i].to_dict()\n",
    "            new_info['n_src'] = len(all_src_sents)\n",
    "            new_info['n_tar'] = len(all_tar_sents)\n",
    "            new_info['KNN_var'] = list(np.array(KNN_pred)[:,i])\n",
    "            new_info['VTRF_var'] = list(np.array(VTRF_pred)[:,i])\n",
    "            new_info['CFRF_var'] = list(np.array(CFRF_pred)[:,i])\n",
    "            new_info['CSF_pred_var200'] = list(np.array(CSF_pred200)[:,i])\n",
    "            new_info['CSF_pred_var2000'] = list(np.array(CSF_pred2000)[:,i])\n",
    "            new_info['CSF_direct_var200'] = CSF_direct_var200[i]\n",
    "            new_info['CSF_direct_var2000'] = CSF_direct_var2000[i]\n",
    "\n",
    "            all_info.append(new_info)\n",
    "\n",
    "\n",
    "    pd.DataFrame(all_info).to_csv(project_path+'V2_airbnb/8_Var/airbnb_effect_var.csv',\n",
    "                                  columns = list(amt_pd.columns)+['n_src','n_tar','KNN_var','VTRF_var','CFRF_var','CSF_pred_var200','CSF_pred_var2000','CSF_direct_var200','CSF_direct_var2000'],\n",
    "                                  index = False)   "
   ]
  },
  {
   "cell_type": "code",
   "execution_count": 13,
   "metadata": {
    "collapsed": false,
    "deletable": true,
    "editable": true
   },
   "outputs": [
    {
     "name": "stdout",
     "output_type": "stream",
     "text": [
      "('amazing', 'fabulous')\n",
      "('amazing', 'fantastic')\n",
      "('amazing', 'incredible')\n",
      "('amazing', 'outstanding')\n",
      "('amazing', 'spectacular')\n",
      "('amazing', 'wonderful')\n",
      "('apartment', 'condo')\n",
      "('apartments', 'homes')\n",
      "('best', 'nicest')\n",
      "('cheap', 'inexpensive')\n",
      "('comfortable', 'cozy')\n",
      "('dynamic', 'vibrant')\n",
      "('events', 'festivals')\n",
      "('exciting', 'fabulous')\n",
      "('exciting', 'interesting')\n",
      "('exciting', 'spectacular')\n",
      "('exciting', 'stunning')\n",
      "('famous', 'big')\n",
      "('famous', 'excellent')\n",
      "('famous', 'grand')\n",
      "('famous', 'old')\n",
      "('famous', 'renowned')\n",
      "('famous', 'special')\n",
      "('famous', 'wonderful')\n",
      "('hot', 'excellent')\n",
      "('huge', 'spectacular')\n",
      "('nice', 'gorgeous')\n",
      "('notable', 'unique')\n",
      "('open', 'outstanding')\n",
      "('predominantly', 'especially')\n",
      "('predominantly', 'mostly')\n",
      "('rapidly', 'quickly')\n",
      "('square', 'plaza')\n",
      "('store', 'boutique')\n",
      "('trips', 'tours')\n",
      "('various', 'several')\n",
      "('yummy', 'delicious')\n",
      "('yummy', 'good')\n"
     ]
    }
   ],
   "source": [
    "data_file = project_path + 'V2_airbnb/5_Select/airbnb_wdpair_sents_4effects_posinters_poscom1_bigramcheck_limit_limitvocab.pickle'\n",
    "vocab_file = project_path + 'V2_airbnb/0_Data/common_wds.csv'\n",
    "#effect_var_file = project_path+'V2_yelp/8_Var/yp_effect_var.csv'\n",
    "compute_variance(amt_path,data_file,vocab_file,dataset='airbnb',n_repeat=100,perct=0.85)"
   ]
  },
  {
   "cell_type": "code",
   "execution_count": 314,
   "metadata": {
    "collapsed": true,
    "deletable": true,
    "editable": true
   },
   "outputs": [],
   "source": [
    "res_pd = pd.read_csv(project_path+'V2_yelp/8_Var/yp_effect_var.csv')"
   ]
  },
  {
   "cell_type": "code",
   "execution_count": 323,
   "metadata": {
    "collapsed": false,
    "deletable": true,
    "editable": true
   },
   "outputs": [
    {
     "data": {
      "text/plain": [
       "'[-0.29999999999999999, -0.29999999999999999, -0.33300000000000002, -0.33300000000000002, -0.23300000000000001, -0.36699999999999999, -0.23300000000000001, -0.33300000000000002, -0.26700000000000002, -0.29999999999999999]'"
      ]
     },
     "execution_count": 323,
     "metadata": {},
     "output_type": "execute_result"
    }
   ],
   "source": [
    "(res_pd.KNN_var.values[0])"
   ]
  },
  {
   "cell_type": "code",
   "execution_count": 342,
   "metadata": {
    "collapsed": false,
    "deletable": true,
    "editable": true
   },
   "outputs": [
    {
     "data": {
      "text/plain": [
       "'yelp'"
      ]
     },
     "execution_count": 342,
     "metadata": {},
     "output_type": "execute_result"
    }
   ],
   "source": [
    "full_name['yp'].lower()"
   ]
  },
  {
   "cell_type": "code",
   "execution_count": 325,
   "metadata": {
    "collapsed": false,
    "deletable": true,
    "editable": true
   },
   "outputs": [
    {
     "data": {
      "text/plain": [
       "[-0.3, -0.3, -0.333, -0.333, -0.233, -0.367, -0.233, -0.333, -0.267, -0.3]"
      ]
     },
     "execution_count": 325,
     "metadata": {},
     "output_type": "execute_result"
    }
   ],
   "source": [
    "test = ast.literal_eval(res_pd.KNN_var.values[0])\n",
    "test"
   ]
  },
  {
   "cell_type": "code",
   "execution_count": 337,
   "metadata": {
    "collapsed": false,
    "deletable": true,
    "editable": true
   },
   "outputs": [
    {
     "data": {
      "text/plain": [
       "2.25"
      ]
     },
     "execution_count": 337,
     "metadata": {},
     "output_type": "execute_result"
    }
   ],
   "source": [
    "np.var([6,9])"
   ]
  },
  {
   "cell_type": "code",
   "execution_count": 340,
   "metadata": {
    "collapsed": false,
    "deletable": true,
    "editable": true
   },
   "outputs": [
    {
     "data": {
      "text/plain": [
       "<Container object of 3 artists>"
      ]
     },
     "execution_count": 340,
     "metadata": {},
     "output_type": "execute_result"
    },
    {
     "data": {
      "image/png": "[encoded data removed]",
      "text/plain": [
       "<matplotlib.figure.Figure at 0x7ffbada72400>"
      ]
     },
     "metadata": {},
     "output_type": "display_data"
    }
   ],
   "source": [
    "import matplotlib.pyplot as plt\n",
    "x = [1,2,3,4,5,6]\n",
    "y = [[1,2,3],[2,3,5],[1,3,9],[6,8,7],[5,4,6],[8,2,0]]\n",
    "y_mean = [np.mean(l) for l in y]\n",
    "y_floor = [np.mean(l)-np.min(l) for l in y]\n",
    "y_ceil = [np.max(l)-np.mean(l) for l in y]\n",
    "y_err = [np.var(l) for l in y]\n",
    "plt.errorbar(x,y_mean,yerr=[y_floor,y_ceil],fmt='-o')"
   ]
  },
  {
   "cell_type": "code",
   "execution_count": 334,
   "metadata": {
    "collapsed": false,
    "deletable": true,
    "editable": true
   },
   "outputs": [
    {
     "data": {
      "text/plain": [
       "1.5"
      ]
     },
     "execution_count": 334,
     "metadata": {},
     "output_type": "execute_result"
    }
   ],
   "source": [
    "np.mean([1,2])"
   ]
  },
  {
   "cell_type": "code",
   "execution_count": 298,
   "metadata": {
    "collapsed": false,
    "deletable": true,
    "editable": true
   },
   "outputs": [
    {
     "data": {
      "text/plain": [
       "\"This cute girl in a pink shirt ( I 'm not sure if this was intentional but she matched some of the macaroons and gelato ) waited on me .\""
      ]
     },
     "execution_count": 298,
     "metadata": {},
     "output_type": "execute_result"
    }
   ],
   "source": [
    "new1 = re.sub('-LRB-','(',my_sent)\n",
    "new2 = re.sub('-RRB-',')',new1)\n",
    "new2"
   ]
  },
  {
   "cell_type": "code",
   "execution_count": 278,
   "metadata": {
    "collapsed": false,
    "deletable": true,
    "editable": true
   },
   "outputs": [
    {
     "data": {
      "text/plain": [
       "((1394, 1076), (194, 1076), (12, 1076))"
      ]
     },
     "execution_count": 278,
     "metadata": {},
     "output_type": "execute_result"
    }
   ],
   "source": [
    "X_src_ct.shape, X_tar_ct.shape, X_test_ct.shape, "
   ]
  },
  {
   "cell_type": "code",
   "execution_count": 270,
   "metadata": {
    "collapsed": false,
    "deletable": true,
    "editable": true
   },
   "outputs": [
    {
     "data": {
      "text/plain": [
       "((1600, 1076), 1394, 194)"
      ]
     },
     "execution_count": 270,
     "metadata": {},
     "output_type": "execute_result"
    }
   ],
   "source": [
    "X_ct.shape, nsrc_sents, ntar_sents"
   ]
  },
  {
   "cell_type": "code",
   "execution_count": 241,
   "metadata": {
    "collapsed": false,
    "deletable": true,
    "editable": true
   },
   "outputs": [
    {
     "ename": "IndexError",
     "evalue": "list index out of range",
     "output_type": "error",
     "traceback": [
      "\u001b[0;31m\u001b[0m",
      "\u001b[0;31mIndexError\u001b[0mTraceback (most recent call last)",
      "\u001b[0;32m<ipython-input-241-3b871724a824>\u001b[0m in \u001b[0;36m<module>\u001b[0;34m()\u001b[0m\n\u001b[0;32m----> 1\u001b[0;31m \u001b[0mX_smp_ct\u001b[0m\u001b[0;34m,\u001b[0m\u001b[0mX_smp_tf\u001b[0m\u001b[0;34m,\u001b[0m\u001b[0msmp_lbs\u001b[0m \u001b[0;34m=\u001b[0m \u001b[0mget_samples\u001b[0m\u001b[0;34m(\u001b[0m\u001b[0mX_tar_ct\u001b[0m\u001b[0;34m,\u001b[0m\u001b[0mX_tar_tf\u001b[0m\u001b[0;34m,\u001b[0m\u001b[0mall_tar_labels\u001b[0m\u001b[0;34m,\u001b[0m\u001b[0;36m0.9\u001b[0m\u001b[0;34m)\u001b[0m\u001b[0;34m\u001b[0m\u001b[0m\n\u001b[0m",
      "\u001b[0;32m<ipython-input-75-4f889fd1eba6>\u001b[0m in \u001b[0;36mget_samples\u001b[0;34m(X_ct, X_tf, labels, perct)\u001b[0m\n\u001b[1;32m      3\u001b[0m     \u001b[0mX_smp_ct\u001b[0m \u001b[0;34m=\u001b[0m \u001b[0mX_ct\u001b[0m\u001b[0;34m[\u001b[0m\u001b[0msmp_idx\u001b[0m\u001b[0;34m]\u001b[0m\u001b[0;34m\u001b[0m\u001b[0m\n\u001b[1;32m      4\u001b[0m     \u001b[0mX_smp_tf\u001b[0m \u001b[0;34m=\u001b[0m \u001b[0mX_tf\u001b[0m\u001b[0;34m[\u001b[0m\u001b[0msmp_idx\u001b[0m\u001b[0;34m]\u001b[0m\u001b[0;34m\u001b[0m\u001b[0m\n\u001b[0;32m----> 5\u001b[0;31m     \u001b[0msmp_lbs\u001b[0m \u001b[0;34m=\u001b[0m \u001b[0;34m[\u001b[0m\u001b[0mlabels\u001b[0m\u001b[0;34m[\u001b[0m\u001b[0midx\u001b[0m\u001b[0;34m]\u001b[0m \u001b[0;32mfor\u001b[0m \u001b[0midx\u001b[0m \u001b[0;32min\u001b[0m \u001b[0msmp_idx\u001b[0m\u001b[0;34m]\u001b[0m\u001b[0;34m\u001b[0m\u001b[0m\n\u001b[0m\u001b[1;32m      6\u001b[0m     \u001b[0;32mreturn\u001b[0m \u001b[0mX_smp_ct\u001b[0m\u001b[0;34m,\u001b[0m\u001b[0mX_smp_tf\u001b[0m\u001b[0;34m,\u001b[0m\u001b[0msmp_lbs\u001b[0m\u001b[0;34m\u001b[0m\u001b[0m\n",
      "\u001b[0;32m<ipython-input-75-4f889fd1eba6>\u001b[0m in \u001b[0;36m<listcomp>\u001b[0;34m(.0)\u001b[0m\n\u001b[1;32m      3\u001b[0m     \u001b[0mX_smp_ct\u001b[0m \u001b[0;34m=\u001b[0m \u001b[0mX_ct\u001b[0m\u001b[0;34m[\u001b[0m\u001b[0msmp_idx\u001b[0m\u001b[0;34m]\u001b[0m\u001b[0;34m\u001b[0m\u001b[0m\n\u001b[1;32m      4\u001b[0m     \u001b[0mX_smp_tf\u001b[0m \u001b[0;34m=\u001b[0m \u001b[0mX_tf\u001b[0m\u001b[0;34m[\u001b[0m\u001b[0msmp_idx\u001b[0m\u001b[0;34m]\u001b[0m\u001b[0;34m\u001b[0m\u001b[0m\n\u001b[0;32m----> 5\u001b[0;31m     \u001b[0msmp_lbs\u001b[0m \u001b[0;34m=\u001b[0m \u001b[0;34m[\u001b[0m\u001b[0mlabels\u001b[0m\u001b[0;34m[\u001b[0m\u001b[0midx\u001b[0m\u001b[0;34m]\u001b[0m \u001b[0;32mfor\u001b[0m \u001b[0midx\u001b[0m \u001b[0;32min\u001b[0m \u001b[0msmp_idx\u001b[0m\u001b[0;34m]\u001b[0m\u001b[0;34m\u001b[0m\u001b[0m\n\u001b[0m\u001b[1;32m      6\u001b[0m     \u001b[0;32mreturn\u001b[0m \u001b[0mX_smp_ct\u001b[0m\u001b[0;34m,\u001b[0m\u001b[0mX_smp_tf\u001b[0m\u001b[0;34m,\u001b[0m\u001b[0msmp_lbs\u001b[0m\u001b[0;34m\u001b[0m\u001b[0m\n",
      "\u001b[0;31mIndexError\u001b[0m: list index out of range"
     ]
    }
   ],
   "source": [
    "X_smp_ct,X_smp_tf,smp_lbs = get_samples(X_tar_ct,X_tar_tf,all_tar_labels,0.9)"
   ]
  },
  {
   "cell_type": "code",
   "execution_count": 174,
   "metadata": {
    "collapsed": false,
    "deletable": true,
    "editable": true
   },
   "outputs": [
    {
     "ename": "NameError",
     "evalue": "name 'CFRF_pred200' is not defined",
     "output_type": "error",
     "traceback": [
      "\u001b[0;31m\u001b[0m",
      "\u001b[0;31mNameError\u001b[0mTraceback (most recent call last)",
      "\u001b[0;32m<ipython-input-174-37418f697e88>\u001b[0m in \u001b[0;36m<module>\u001b[0;34m()\u001b[0m\n\u001b[0;32m----> 1\u001b[0;31m \u001b[0mlen\u001b[0m\u001b[0;34m(\u001b[0m\u001b[0mnp\u001b[0m\u001b[0;34m.\u001b[0m\u001b[0marray\u001b[0m\u001b[0;34m(\u001b[0m\u001b[0mCFRF_pred200\u001b[0m\u001b[0;34m)\u001b[0m\u001b[0;34m[\u001b[0m\u001b[0;34m:\u001b[0m\u001b[0;34m,\u001b[0m\u001b[0;36m0\u001b[0m\u001b[0;34m]\u001b[0m\u001b[0;34m)\u001b[0m\u001b[0;34m\u001b[0m\u001b[0m\n\u001b[0m",
      "\u001b[0;31mNameError\u001b[0m: name 'CFRF_pred200' is not defined"
     ]
    }
   ],
   "source": [
    "len(np.array(CFRF_pred200)[:,0])"
   ]
  },
  {
   "cell_type": "code",
   "execution_count": 151,
   "metadata": {
    "collapsed": false,
    "deletable": true,
    "editable": true
   },
   "outputs": [
    {
     "data": {
      "text/html": [
       "<div>\n",
       "<table border=\"1\" class=\"dataframe\">\n",
       "  <thead>\n",
       "    <tr style=\"text-align: right;\">\n",
       "      <th></th>\n",
       "      <th>CFRF</th>\n",
       "    </tr>\n",
       "  </thead>\n",
       "  <tbody>\n",
       "    <tr>\n",
       "      <th>108</th>\n",
       "      <td>0.283</td>\n",
       "    </tr>\n",
       "    <tr>\n",
       "      <th>109</th>\n",
       "      <td>0.063</td>\n",
       "    </tr>\n",
       "    <tr>\n",
       "      <th>110</th>\n",
       "      <td>0.266</td>\n",
       "    </tr>\n",
       "  </tbody>\n",
       "</table>\n",
       "</div>"
      ],
      "text/plain": [
       "      CFRF\n",
       "108  0.283\n",
       "109  0.063\n",
       "110  0.266"
      ]
     },
     "execution_count": 151,
     "metadata": {},
     "output_type": "execute_result"
    }
   ],
   "source": [
    "test_pd = pd.DataFrame(CFRF_pred[0],columns=['CFRF']).rename({0:108,1:109,2:110})\n",
    "test_pd"
   ]
  },
  {
   "cell_type": "code",
   "execution_count": 169,
   "metadata": {
    "collapsed": false,
    "deletable": true,
    "editable": true
   },
   "outputs": [
    {
     "data": {
      "text/plain": [
       "{'amt_effect_mean': 0.19999999999999973,\n",
       " 'amt_effect_median': 0.0,\n",
       " 'amt_effect_mostcom': -0.5,\n",
       " 'csf_effect': 0.49689,\n",
       " 'ctf_effect': 0.45440999999999998,\n",
       " 'id': 1867234,\n",
       " 'knn_effect': 0.40000000000000002,\n",
       " 'source': 'belongings',\n",
       " 'src_ratings': '[2, 3, 3, 3, 4, 4, 4, 4, 4, 5]',\n",
       " 'src_sentence': \"This company should change their name to ` No Longer Starving ' , because the customers will pay ANY amount just to get their belongings back .\",\n",
       " 'tar_ratings': '[3, 3, 3, 3, 4, 4, 4, 4, 5, 5]',\n",
       " 'tar_sentence': \"This company should change their name to ` No Longer Starving ' , because the customers will pay ANY amount just to get their properties back .\",\n",
       " 'target': 'properties',\n",
       " 'true_y': 0,\n",
       " 'vt_effect': 0.087720000000000006}"
      ]
     },
     "execution_count": 169,
     "metadata": {},
     "output_type": "execute_result"
    }
   ],
   "source": [
    "row.iloc[0].to_dict()"
   ]
  },
  {
   "cell_type": "code",
   "execution_count": 152,
   "metadata": {
    "collapsed": false,
    "deletable": true,
    "editable": true
   },
   "outputs": [
    {
     "data": {
      "text/html": [
       "<div>\n",
       "<table border=\"1\" class=\"dataframe\">\n",
       "  <thead>\n",
       "    <tr style=\"text-align: right;\">\n",
       "      <th></th>\n",
       "      <th>source</th>\n",
       "      <th>target</th>\n",
       "      <th>src_sentence</th>\n",
       "      <th>tar_sentence</th>\n",
       "      <th>knn_effect</th>\n",
       "      <th>vt_effect</th>\n",
       "      <th>ctf_effect</th>\n",
       "      <th>csf_effect</th>\n",
       "      <th>true_y</th>\n",
       "      <th>id</th>\n",
       "      <th>src_ratings</th>\n",
       "      <th>tar_ratings</th>\n",
       "      <th>amt_effect_mean</th>\n",
       "      <th>amt_effect_median</th>\n",
       "      <th>amt_effect_mostcom</th>\n",
       "      <th>CFRF</th>\n",
       "    </tr>\n",
       "  </thead>\n",
       "  <tbody>\n",
       "    <tr>\n",
       "      <th>108</th>\n",
       "      <td>belongings</td>\n",
       "      <td>properties</td>\n",
       "      <td>This company should change their name to ` No ...</td>\n",
       "      <td>This company should change their name to ` No ...</td>\n",
       "      <td>0.40000</td>\n",
       "      <td>0.08772</td>\n",
       "      <td>0.45441</td>\n",
       "      <td>0.49689</td>\n",
       "      <td>0</td>\n",
       "      <td>1867234</td>\n",
       "      <td>[2, 3, 3, 3, 4, 4, 4, 4, 4, 5]</td>\n",
       "      <td>[3, 3, 3, 3, 4, 4, 4, 4, 5, 5]</td>\n",
       "      <td>0.2</td>\n",
       "      <td>0.0</td>\n",
       "      <td>-0.5</td>\n",
       "      <td>0.283</td>\n",
       "    </tr>\n",
       "    <tr>\n",
       "      <th>109</th>\n",
       "      <td>belongings</td>\n",
       "      <td>properties</td>\n",
       "      <td>You can store your belongings in a locker .</td>\n",
       "      <td>You can store your properties in a locker .</td>\n",
       "      <td>0.16667</td>\n",
       "      <td>0.05213</td>\n",
       "      <td>0.17848</td>\n",
       "      <td>0.11292</td>\n",
       "      <td>0</td>\n",
       "      <td>1867247</td>\n",
       "      <td>[2, 3, 3, 3, 3, 4, 4, 4, 5, 5]</td>\n",
       "      <td>[3, 3, 3, 3, 3, 3, 4, 4, 4, 5]</td>\n",
       "      <td>-0.1</td>\n",
       "      <td>-0.5</td>\n",
       "      <td>0.0</td>\n",
       "      <td>0.063</td>\n",
       "    </tr>\n",
       "    <tr>\n",
       "      <th>110</th>\n",
       "      <td>belongings</td>\n",
       "      <td>properties</td>\n",
       "      <td>After two hours of putting up a fuss about my ...</td>\n",
       "      <td>After two hours of putting up a fuss about my ...</td>\n",
       "      <td>0.26667</td>\n",
       "      <td>0.10390</td>\n",
       "      <td>0.29366</td>\n",
       "      <td>0.28979</td>\n",
       "      <td>0</td>\n",
       "      <td>1867252</td>\n",
       "      <td>[1, 1, 2, 3, 3, 3, 3, 4, 4, 4]</td>\n",
       "      <td>[1, 1, 2, 2, 3, 3, 3, 4, 4, 5]</td>\n",
       "      <td>0.0</td>\n",
       "      <td>0.0</td>\n",
       "      <td>0.0</td>\n",
       "      <td>0.266</td>\n",
       "    </tr>\n",
       "  </tbody>\n",
       "</table>\n",
       "</div>"
      ],
      "text/plain": [
       "         source      target  \\\n",
       "108  belongings  properties   \n",
       "109  belongings  properties   \n",
       "110  belongings  properties   \n",
       "\n",
       "                                          src_sentence  \\\n",
       "108  This company should change their name to ` No ...   \n",
       "109        You can store your belongings in a locker .   \n",
       "110  After two hours of putting up a fuss about my ...   \n",
       "\n",
       "                                          tar_sentence  knn_effect  vt_effect  \\\n",
       "108  This company should change their name to ` No ...     0.40000    0.08772   \n",
       "109        You can store your properties in a locker .     0.16667    0.05213   \n",
       "110  After two hours of putting up a fuss about my ...     0.26667    0.10390   \n",
       "\n",
       "     ctf_effect  csf_effect  true_y       id                     src_ratings  \\\n",
       "108     0.45441     0.49689       0  1867234  [2, 3, 3, 3, 4, 4, 4, 4, 4, 5]   \n",
       "109     0.17848     0.11292       0  1867247  [2, 3, 3, 3, 3, 4, 4, 4, 5, 5]   \n",
       "110     0.29366     0.28979       0  1867252  [1, 1, 2, 3, 3, 3, 3, 4, 4, 4]   \n",
       "\n",
       "                        tar_ratings  amt_effect_mean  amt_effect_median  \\\n",
       "108  [3, 3, 3, 3, 4, 4, 4, 4, 5, 5]              0.2                0.0   \n",
       "109  [3, 3, 3, 3, 3, 3, 4, 4, 4, 5]             -0.1               -0.5   \n",
       "110  [1, 1, 2, 2, 3, 3, 3, 4, 4, 5]              0.0                0.0   \n",
       "\n",
       "     amt_effect_mostcom   CFRF  \n",
       "108                -0.5  0.283  \n",
       "109                 0.0  0.063  \n",
       "110                 0.0  0.266  "
      ]
     },
     "execution_count": 152,
     "metadata": {},
     "output_type": "execute_result"
    }
   ],
   "source": [
    "pd.concat([row,test_pd],axis=1)"
   ]
  },
  {
   "cell_type": "markdown",
   "metadata": {
    "collapsed": true,
    "deletable": true,
    "editable": true
   },
   "source": [
    "### Possible imporvement\n",
    "- Increase minimal node size\n",
    "- Print total number of containing sentences for each source and target word\n",
    "- plot error bar"
   ]
  },
  {
   "cell_type": "code",
   "execution_count": 5,
   "metadata": {
    "collapsed": false,
    "deletable": true,
    "editable": true
   },
   "outputs": [
    {
     "data": {
      "text/plain": [
       "['a', 'b', 'c', 'd', 'e', 'f']"
      ]
     },
     "execution_count": 5,
     "metadata": {},
     "output_type": "execute_result"
    }
   ],
   "source": [
    "['a','b','c']+['d','e','f']"
   ]
  },
  {
   "cell_type": "code",
   "execution_count": null,
   "metadata": {
    "collapsed": true,
    "deletable": true,
    "editable": true
   },
   "outputs": [],
   "source": []
  }
 ],
 "metadata": {
  "kernelspec": {
   "display_name": "Python 3",
   "language": "python",
   "name": "python3"
  },
  "language_info": {
   "codemirror_mode": {
    "name": "ipython",
    "version": 3
   },
   "file_extension": ".py",
   "mimetype": "text/x-python",
   "name": "python",
   "nbconvert_exporter": "python",
   "pygments_lexer": "ipython3",
   "version": "3.4.3"
  }
 },
 "nbformat": 4,
 "nbformat_minor": 2
}
