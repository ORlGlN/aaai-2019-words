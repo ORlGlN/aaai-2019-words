{
 "cells": [
  {
   "cell_type": "markdown",
   "metadata": {
    "collapsed": true
   },
   "source": [
    "# Data Preprocess"
   ]
  },
  {
   "cell_type": "markdown",
   "metadata": {},
   "source": [
    "- 1 Label samples <br>\n",
    "> 1.1 Label by user, and fit LR to get high coefficient features <br>\n",
    "> 1.2 Label by sentence, for future use of find containing sentences <br>\n",
    "\n",
    "- 2 Get paraphrase <br>\n",
    "> 2.1 Get all paraphrase pairs <br>\n",
    "> 2.2 Limit paraphrase pairs by equal_score <br>\n",
    "> 2.3 Limit paraphrase with at least one has high coef <br>\n",
    "\n",
    "- 3 Map candidate word to containing instances <br>\n",
    "> 3.1 Get word frequency, ratio, and remove low frequent words <br>\n",
    "- 4 Map word pair to containing sentences <br>"
   ]
  },
  {
   "cell_type": "code",
   "execution_count": 1,
   "metadata": {
    "collapsed": true
   },
   "outputs": [],
   "source": [
    "import pickle, csv, time, re, random\n",
    "import pandas as pd\n",
    "import numpy as np\n",
    "from collections import Counter\n",
    "from scipy.stats import zscore\n",
    "from nltk import pos_tag, word_tokenize, sent_tokenize\n",
    "from sklearn.feature_extraction.text import CountVectorizer, TfidfVectorizer\n",
    "from sklearn.linear_model import LogisticRegression\n",
    "from sklearn.model_selection import StratifiedKFold, cross_val_score\n",
    "from sklearn import preprocessing\n",
    "import nltk\n",
    "from collections import defaultdict, Counter\n",
    "from nltk.corpus import brown\n",
    "from nltk.corpus import wordnet as wn\n",
    "from nltk.stem import SnowballStemmer, WordNetLemmatizer\n",
    "snowball_stemmer = SnowballStemmer(\"english\")\n",
    "\n",
    "import matplotlib.pyplot as plt\n",
    "%matplotlib inline"
   ]
  },
  {
   "cell_type": "code",
   "execution_count": 2,
   "metadata": {
    "collapsed": true
   },
   "outputs": [],
   "source": [
    "data_path = '/data/2/zwang/2018_S_WordTreatment/'\n",
    "airbnb_path = '/data/2/zwang/2018_S_WordTreatment/V2_airbnb/'\n",
    "tw_path = '/data/2/zwang/2018_S_WordTreatment/V2_twitter/'\n",
    "yp_path = '/data/2/zwang/2018_S_WordTreatment/V2_yelp/'"
   ]
  },
  {
   "cell_type": "markdown",
   "metadata": {},
   "source": [
    "## 1. Label samples <br>\n",
    "- 1.1 label by user/hood, fit LR to get high coefficient word features.\n",
    "- 1.2 label by sentence, for treatment effect estimation."
   ]
  },
  {
   "cell_type": "code",
   "execution_count": 7,
   "metadata": {
    "collapsed": true
   },
   "outputs": [],
   "source": [
    "def mark_postag(text):\n",
    "    \"\"\"\n",
    "    Mark proper noun (place names, people's names), numbers.\n",
    "    \"\"\"\n",
    "    mark_sent = ''\n",
    "    for tag_item in pos_tag(text.split()):\n",
    "        if(tag_item[1]=='NNP'):\n",
    "            mark_sent += \"_NNP_ \"\n",
    "        elif(tag_item[1]=='CD'):\n",
    "            mark_sent += \"_NUMBER_ \"\n",
    "        else:\n",
    "            mark_sent += tag_item[0]+' '\n",
    "    return mark_sent"
   ]
  },
  {
   "cell_type": "code",
   "execution_count": 11,
   "metadata": {
    "collapsed": true
   },
   "outputs": [],
   "source": [
    "def label_by_view(data_file, label_byview_file,label_byview_markedfile):\n",
    "    \"\"\"\n",
    "    This function only applies for airbnb data.\n",
    "    Each neighborhood overview is an instance, label it by comparing city_crime and hood_crime.\n",
    "    \"\"\"\n",
    "    \n",
    "    usertext_list = []\n",
    "    marked_usertext_list = []\n",
    "    label_list = []\n",
    "    data_pd = pd.DataFrame(pickle.load(open(data_file,\"rb\")))\n",
    "    for idx,row in data_pd.iterrows():\n",
    "        if(idx % 20000 == 0):\n",
    "            print(idx)\n",
    "        if(float(row.hood_crime) < float(row.city_crime)):\n",
    "            lb = 'pos'\n",
    "        elif(float(row.hood_crime) >= float(row.city_crime)):\n",
    "            lb = 'neg'\n",
    "        \n",
    "        usertext_list.append(row.hood_overviews)\n",
    "        marked_usertext_list.append(mark_postag(row.hood_overviews))\n",
    "        label_list.append(lb)\n",
    "    \n",
    "    pickle.dump({'user_content':usertext_list,'user_lb':label_list},open(label_byview_file,'wb'))\n",
    "    pickle.dump({'marked_user_content':marked_usertext_list,'user_lb':label_list},open(label_byview_markedfile,'wb'))\n",
    "    print(\"Distribution by neighborhood overview:\\n\",Counter(label_list))"
   ]
  },
  {
   "cell_type": "code",
   "execution_count": 12,
   "metadata": {},
   "outputs": [
    {
     "name": "stdout",
     "output_type": "stream",
     "text": [
      "0\n",
      "20000\n",
      "40000\n",
      "60000\n",
      "80000\n",
      "Distribution by neighborhood overview:\n",
      " Counter({'pos': 81767, 'neg': 17853})\n"
     ]
    },
    {
     "ename": "TypeError",
     "evalue": "unsupported operand type(s) for /: 'str' and 'int'",
     "output_type": "error",
     "traceback": [
      "\u001b[0;31m\u001b[0m",
      "\u001b[0;31mTypeError\u001b[0mTraceback (most recent call last)",
      "\u001b[0;32m<ipython-input-12-999dbdc906d7>\u001b[0m in \u001b[0;36m<module>\u001b[0;34m()\u001b[0m\n\u001b[1;32m      5\u001b[0m \u001b[0mlabel_by_view\u001b[0m\u001b[0;34m(\u001b[0m\u001b[0mdata_file\u001b[0m\u001b[0;34m,\u001b[0m \u001b[0mlabel_byview_file\u001b[0m\u001b[0;34m,\u001b[0m \u001b[0mlabel_byview_markedfile\u001b[0m\u001b[0;34m)\u001b[0m\u001b[0;34m\u001b[0m\u001b[0m\n\u001b[1;32m      6\u001b[0m \u001b[0mend\u001b[0m \u001b[0;34m=\u001b[0m \u001b[0mtime\u001b[0m\u001b[0;34m.\u001b[0m\u001b[0mtime\u001b[0m\u001b[0;34m(\u001b[0m\u001b[0;34m)\u001b[0m\u001b[0;34m\u001b[0m\u001b[0m\n\u001b[0;32m----> 7\u001b[0;31m \u001b[0mprint\u001b[0m\u001b[0;34m(\u001b[0m\u001b[0;34m\"Run time: %.1f minutes\"\u001b[0m \u001b[0;34m%\u001b[0m \u001b[0;34m(\u001b[0m\u001b[0mend\u001b[0m\u001b[0;34m-\u001b[0m\u001b[0mstart\u001b[0m\u001b[0;34m)\u001b[0m\u001b[0;34m/\u001b[0m\u001b[0;36m60\u001b[0m\u001b[0;34m)\u001b[0m\u001b[0;34m\u001b[0m\u001b[0m\n\u001b[0m",
      "\u001b[0;31mTypeError\u001b[0m: unsupported operand type(s) for /: 'str' and 'int'"
     ]
    }
   ],
   "source": [
    "data_file = airbnb_path + '0_Data/city_hood_byview.pickle'\n",
    "label_byview_file = airbnb_path + '1_Process/airbnb_label_byview.pickle'\n",
    "label_byview_markedfile = airbnb_path + '1_Process/airbnb_label_byview_posmarked.pickle'\n",
    "start = time.time()\n",
    "label_by_view(data_file, label_byview_file, label_byview_markedfile)\n",
    "end = time.time()\n",
    "print(\"Run time: %.1f minutes\" % float((end-start)/60))"
   ]
  },
  {
   "cell_type": "code",
   "execution_count": 33,
   "metadata": {},
   "outputs": [
    {
     "data": {
      "text/plain": [
       "(99620, 2)"
      ]
     },
     "execution_count": 33,
     "metadata": {},
     "output_type": "execute_result"
    }
   ],
   "source": [
    "data_pd = pd.DataFrame(pickle.load(open(label_byview_file,'rb')))\n",
    "data_pd.shape"
   ]
  },
  {
   "cell_type": "code",
   "execution_count": 36,
   "metadata": {},
   "outputs": [
    {
     "data": {
      "text/html": [
       "<div>\n",
       "<table border=\"1\" class=\"dataframe\">\n",
       "  <thead>\n",
       "    <tr style=\"text-align: right;\">\n",
       "      <th></th>\n",
       "      <th>user_content</th>\n",
       "      <th>user_lb</th>\n",
       "    </tr>\n",
       "  </thead>\n",
       "  <tbody>\n",
       "    <tr>\n",
       "      <th>0</th>\n",
       "      <td>Cobble _NNP_ is a wonderful neighborhood with ...</td>\n",
       "      <td>pos</td>\n",
       "    </tr>\n",
       "    <tr>\n",
       "      <th>1</th>\n",
       "      <td>I love everything about the neighborhood . It ...</td>\n",
       "      <td>pos</td>\n",
       "    </tr>\n",
       "    <tr>\n",
       "      <th>2</th>\n",
       "      <td>Squeezed between the similarly charming ( and ...</td>\n",
       "      <td>pos</td>\n",
       "    </tr>\n",
       "    <tr>\n",
       "      <th>3</th>\n",
       "      <td>An ideal spot . _NUMBER_ of the best neighborh...</td>\n",
       "      <td>pos</td>\n",
       "    </tr>\n",
       "    <tr>\n",
       "      <th>4</th>\n",
       "      <td>We are located on _NNP_ _NNP_ , and are in wal...</td>\n",
       "      <td>pos</td>\n",
       "    </tr>\n",
       "  </tbody>\n",
       "</table>\n",
       "</div>"
      ],
      "text/plain": [
       "                                        user_content user_lb\n",
       "0  Cobble _NNP_ is a wonderful neighborhood with ...     pos\n",
       "1  I love everything about the neighborhood . It ...     pos\n",
       "2  Squeezed between the similarly charming ( and ...     pos\n",
       "3  An ideal spot . _NUMBER_ of the best neighborh...     pos\n",
       "4  We are located on _NNP_ _NNP_ , and are in wal...     pos"
      ]
     },
     "execution_count": 36,
     "metadata": {},
     "output_type": "execute_result"
    }
   ],
   "source": [
    "data_pd.head()"
   ]
  },
  {
   "cell_type": "code",
   "execution_count": 37,
   "metadata": {},
   "outputs": [
    {
     "data": {
      "text/plain": [
       "'Cobble _NNP_ is a wonderful neighborhood with so many great restaurants and amenities . This neighborhood was Italian in decades past and is close to the old shipping docks . Now _NNP_ _NNP_ and _NNP_ _NNP_ serve food from all over the world . The Invisible _NNP_ art gallery , housed in an old leather factory , is nearby on _NNP_ _NNP_ . '"
      ]
     },
     "execution_count": 37,
     "metadata": {},
     "output_type": "execute_result"
    }
   ],
   "source": [
    "data_pd.iloc[0].user_content"
   ]
  },
  {
   "cell_type": "code",
   "execution_count": 13,
   "metadata": {
    "collapsed": true
   },
   "outputs": [],
   "source": [
    "def label_by_user(content_file,label_file,label_byuser_file,label_byuser_markedfile):\n",
    "    \"\"\"\n",
    "    This function only applies for twitter and yelp gender data.\n",
    "    Each line is an user, take as an instance, label it by gender.\n",
    "    \"\"\"\n",
    "    usertext_list = []\n",
    "    marked_usertext_list = []\n",
    "    i=0\n",
    "    with open(content_file,'r') as dataf:\n",
    "        for line in dataf:\n",
    "            i += 1\n",
    "            if(i % 10000 == 0):\n",
    "                print(i)\n",
    "            text = re.findall('<s> (.+) </s>',line.strip())[0]\n",
    "            usertext_list.append(text)\n",
    "            marked_usertext_list.append(mark_postag(text))\n",
    "    dataf.close()\n",
    "    \n",
    "    label_list = []\n",
    "    with open(label_file,'r') as lbf:\n",
    "        for line in lbf:\n",
    "            if(line.strip() == 'M'):\n",
    "                label_list.append('pos')\n",
    "            elif(line.strip() == 'F'):\n",
    "                label_list.append('neg')\n",
    "            else:\n",
    "                print('error')\n",
    "                \n",
    "    lbf.close()\n",
    "    \n",
    "    pickle.dump({'user_content':usertext_list,'user_lb':label_list},open(label_byuser_file,'wb'))\n",
    "    pickle.dump({'marked_user_content':marked_usertext_list,'user_lb':label_list},open(label_byuser_markedfile,'wb'))\n",
    "    \n",
    "    print(\"Distribution by user:\\n\",Counter(label_list))"
   ]
  },
  {
   "cell_type": "code",
   "execution_count": null,
   "metadata": {},
   "outputs": [
    {
     "name": "stdout",
     "output_type": "stream",
     "text": [
      "10000\n",
      "20000\n",
      "30000\n",
      "40000\n",
      "50000\n",
      "60000\n",
      "70000\n",
      "80000\n",
      "90000\n",
      "Distribution by user:\n",
      " Counter({'neg': 47298, 'pos': 47297})\n",
      "Run time: 33.5 minutes for twitter\n"
     ]
    }
   ],
   "source": [
    "start = time.time()\n",
    "label_by_user(tw_path+'0_Data/tw.text',tw_path+'0_Data/tw.labels',\n",
    "              label_byuser_file=tw_path+'1_Process/tw_label_byuser.pickle',\n",
    "              label_byuser_markedfile=tw_path+'1_Process/tw_label_byuser_posmarked.pickle')\n",
    "end = time.time()\n",
    "print(\"Run time: %.1f minutes for twitter\" % float((end-start)/60))"
   ]
  },
  {
   "cell_type": "code",
   "execution_count": 30,
   "metadata": {},
   "outputs": [
    {
     "name": "stdout",
     "output_type": "stream",
     "text": [
      "Run time: 52.6 minutes for twitter\n"
     ]
    }
   ],
   "source": [
    "print(\"Run time: %.1f minutes for twitter\" % float((end-start)/60))"
   ]
  },
  {
   "cell_type": "code",
   "execution_count": null,
   "metadata": {},
   "outputs": [
    {
     "name": "stdout",
     "output_type": "stream",
     "text": [
      "10000\n",
      "20000\n",
      "30000\n",
      "40000\n",
      "Distribution by user:\n",
      " Counter({'neg': 21650, 'pos': 21649})\n",
      "Run time: 22.2 minutes for yelp\n"
     ]
    }
   ],
   "source": [
    "start = time.time()\n",
    "label_by_user(yp_path+'0_Data/yp.text',yp_path+'0_Data/yp.labels',\n",
    "              label_byuser_file=yp_path+'1_Process/yp_label_byuser.pickle',\n",
    "              label_byuser_markedfile=yp_path+'1_Process/yp_label_byuser_posmarked.pickle')\n",
    "end = time.time()\n",
    "print(\"Run time: %.1f minutes for yelp\" % float((end-start)/60))"
   ]
  },
  {
   "cell_type": "code",
   "execution_count": 32,
   "metadata": {},
   "outputs": [
    {
     "name": "stdout",
     "output_type": "stream",
     "text": [
      "10000\n",
      "20000\n",
      "30000\n",
      "40000\n",
      "Distribution by user:\n",
      " Counter({'neg': 21650, 'pos': 21649})\n",
      "Run time: 26.1 minutes for yelp\n"
     ]
    }
   ],
   "source": [
    "start = time.time()\n",
    "label_by_user(yp_path+'0_Data/yp.text',yp_path+'0_Data/yp.labels',\n",
    "              label_byuser_file=yp_path+'1_Process/yp_label_byuser.pickle',\n",
    "              label_byuser_markedfile=yp_path+'1_Process/yp_label_byuser_posmarked.pickle')\n",
    "end = time.time()\n",
    "print(\"Run time: %.1f minutes for yelp\" % float((end-start)/60))"
   ]
  },
  {
   "cell_type": "code",
   "execution_count": 42,
   "metadata": {},
   "outputs": [
    {
     "data": {
      "text/plain": [
       "(43299, 2)"
      ]
     },
     "execution_count": 42,
     "metadata": {},
     "output_type": "execute_result"
    }
   ],
   "source": [
    "data_pd = pd.DataFrame(pickle.load(open(yp_path+'1_Process/yp_label_byuser.pickle','rb')))\n",
    "data_pd.shape"
   ]
  },
  {
   "cell_type": "code",
   "execution_count": 43,
   "metadata": {},
   "outputs": [
    {
     "data": {
      "text/html": [
       "<div>\n",
       "<table border=\"1\" class=\"dataframe\">\n",
       "  <thead>\n",
       "    <tr style=\"text-align: right;\">\n",
       "      <th></th>\n",
       "      <th>user_content</th>\n",
       "      <th>user_lb</th>\n",
       "    </tr>\n",
       "  </thead>\n",
       "  <tbody>\n",
       "    <tr>\n",
       "      <th>0</th>\n",
       "      <td>Good service , not too busy _NNP_ morning . _N...</td>\n",
       "      <td>pos</td>\n",
       "    </tr>\n",
       "    <tr>\n",
       "      <th>1</th>\n",
       "      <td>_NNP_ 's was _NUMBER_ of our favorite Italian ...</td>\n",
       "      <td>pos</td>\n",
       "    </tr>\n",
       "    <tr>\n",
       "      <th>2</th>\n",
       "      <td>Good food . Ok but not special . Got the hot r...</td>\n",
       "      <td>pos</td>\n",
       "    </tr>\n",
       "    <tr>\n",
       "      <th>3</th>\n",
       "      <td>Horrible service . They messed up my order on ...</td>\n",
       "      <td>pos</td>\n",
       "    </tr>\n",
       "    <tr>\n",
       "      <th>4</th>\n",
       "      <td>There are multiple reasons for which I could h...</td>\n",
       "      <td>pos</td>\n",
       "    </tr>\n",
       "  </tbody>\n",
       "</table>\n",
       "</div>"
      ],
      "text/plain": [
       "                                        user_content user_lb\n",
       "0  Good service , not too busy _NNP_ morning . _N...     pos\n",
       "1  _NNP_ 's was _NUMBER_ of our favorite Italian ...     pos\n",
       "2  Good food . Ok but not special . Got the hot r...     pos\n",
       "3  Horrible service . They messed up my order on ...     pos\n",
       "4  There are multiple reasons for which I could h...     pos"
      ]
     },
     "execution_count": 43,
     "metadata": {},
     "output_type": "execute_result"
    }
   ],
   "source": [
    "data_pd.head()"
   ]
  },
  {
   "cell_type": "code",
   "execution_count": 72,
   "metadata": {},
   "outputs": [
    {
     "data": {
      "text/plain": [
       "array(['pos', 'pos', 'pos', 'pos', 'pos'], dtype=object)"
      ]
     },
     "execution_count": 72,
     "metadata": {},
     "output_type": "execute_result"
    }
   ],
   "source": [
    "data_pd.user_lb.values[1000:1005]"
   ]
  },
  {
   "cell_type": "markdown",
   "metadata": {},
   "source": [
    "#### Fit LogisiticRegression to:\n",
    "> get the most important word feature that relate with each class <br>\n",
    "> limit candidate vocabulary for calculating paraphrase pairs <br>\n",
    "> find high coefficient word features <br>\n",
    "> Fit on user level, each user as an instance, get obvious gender features. <br>\n",
    "> Fit on sentence level, each sentence as an instance, doesn't get obvious gender features.<br>"
   ]
  },
  {
   "cell_type": "code",
   "execution_count": 13,
   "metadata": {
    "collapsed": true
   },
   "outputs": [],
   "source": [
    "def fit_user_LR(labeled_file,vocab):\n",
    "    data_pd = pd.DataFrame(pickle.load(open(labeled_file,'rb')))\n",
    "    if(vocab):\n",
    "        my_vocab = list(set(pd.read_csv(vocab).word.values))\n",
    "        vec = TfidfVectorizer(vocabulary=my_vocab)\n",
    "    else:\n",
    "        vec = TfidfVectorizer()\n",
    "    X_data = vec.fit_transform(data_pd.user_content.values)\n",
    "    y_label = data_pd.user_lb.values\n",
    "    \n",
    "    lr_clf = LogisticRegression(random_state=42,n_jobs=-1)\n",
    "    lr_clf.fit(X_data,y_label)\n",
    "    print(Counter(y_label))\n",
    "    feature_ct = np.array(np.sum(X_data,axis=0))[0]\n",
    "    le = preprocessing.LabelEncoder()\n",
    "    print('5-fold cross validation roc_auc:',float('{:.3f}'.format(np.mean(cross_val_score(lr_clf, X_data, le.fit(['pos','neg']).transform(y_label), cv=5, scoring='roc_auc')))))\n",
    "    return vec,lr_clf, feature_ct"
   ]
  },
  {
   "cell_type": "code",
   "execution_count": 44,
   "metadata": {
    "collapsed": true
   },
   "outputs": [],
   "source": [
    "def write_word_coef(ct_vec,lr_clf,coef_thresh,wd_coef_file):\n",
    "    \"\"\"\n",
    "    Write coef value as well as zscore scaled coef value\n",
    "    \"\"\"\n",
    "    feats = ct_vec.get_feature_names()\n",
    "    word_info = []\n",
    "    coef_info = []\n",
    "    for idx in lr_clf.coef_[0].argsort()[::-1]:\n",
    "        if(abs(lr_clf.coef_[0][idx]) >= coef_thresh):\n",
    "            word_info.append(feats[idx])\n",
    "            coef_info.append(lr_clf.coef_[0][idx])\n",
    "        else:\n",
    "            continue\n",
    "    \n",
    "    coef_pd = pd.DataFrame({'word':word_info,'coef':coef_info})\n",
    "    coef_pd['scaled_coef'] = zscore(coef_pd['coef'])\n",
    "    coef_pd.to_csv(wd_coef_file,columns=['word','coef','scaled_coef'],index=False)\n",
    "    print(\"%d out of %d word features remained\" % (len(word_info),len(feats)))"
   ]
  },
  {
   "cell_type": "markdown",
   "metadata": {},
   "source": [
    "- Plot coef disctribution before and after zscore"
   ]
  },
  {
   "cell_type": "code",
   "execution_count": 84,
   "metadata": {},
   "outputs": [
    {
     "data": {
      "text/plain": [
       "(array([  1.00000000e+00,   0.00000000e+00,   0.00000000e+00,\n",
       "          0.00000000e+00,   0.00000000e+00,   0.00000000e+00,\n",
       "          0.00000000e+00,   0.00000000e+00,   0.00000000e+00,\n",
       "          0.00000000e+00,   0.00000000e+00,   0.00000000e+00,\n",
       "          0.00000000e+00,   0.00000000e+00,   0.00000000e+00,\n",
       "          0.00000000e+00,   0.00000000e+00,   1.00000000e+00,\n",
       "          0.00000000e+00,   0.00000000e+00,   0.00000000e+00,\n",
       "          0.00000000e+00,   0.00000000e+00,   0.00000000e+00,\n",
       "          0.00000000e+00,   0.00000000e+00,   1.00000000e+00,\n",
       "          2.00000000e+00,   1.00000000e+00,   3.00000000e+00,\n",
       "          1.00000000e+00,   3.00000000e+00,   3.00000000e+00,\n",
       "          2.00000000e+00,   5.00000000e+00,   7.00000000e+00,\n",
       "          8.00000000e+00,   2.00000000e+01,   6.20000000e+01,\n",
       "          1.32000000e+02,   4.52000000e+02,   1.70100000e+03,\n",
       "          2.70330000e+04,   6.19850000e+04,   2.02300000e+03,\n",
       "          4.81000000e+02,   1.47000000e+02,   5.80000000e+01,\n",
       "          2.20000000e+01,   8.00000000e+00,   8.00000000e+00,\n",
       "          3.00000000e+00,   1.00000000e+00,   0.00000000e+00,\n",
       "          0.00000000e+00,   0.00000000e+00,   0.00000000e+00,\n",
       "          0.00000000e+00,   0.00000000e+00,   0.00000000e+00,\n",
       "          0.00000000e+00,   0.00000000e+00,   0.00000000e+00,\n",
       "          0.00000000e+00,   0.00000000e+00,   0.00000000e+00,\n",
       "          0.00000000e+00,   0.00000000e+00,   1.00000000e+00,\n",
       "          0.00000000e+00,   0.00000000e+00,   0.00000000e+00,\n",
       "          0.00000000e+00,   0.00000000e+00,   0.00000000e+00,\n",
       "          0.00000000e+00,   0.00000000e+00,   0.00000000e+00,\n",
       "          0.00000000e+00,   0.00000000e+00,   0.00000000e+00,\n",
       "          0.00000000e+00,   0.00000000e+00,   0.00000000e+00,\n",
       "          0.00000000e+00,   0.00000000e+00,   0.00000000e+00,\n",
       "          0.00000000e+00,   0.00000000e+00,   0.00000000e+00,\n",
       "          0.00000000e+00,   0.00000000e+00,   0.00000000e+00,\n",
       "          0.00000000e+00,   0.00000000e+00,   0.00000000e+00,\n",
       "          0.00000000e+00,   0.00000000e+00,   0.00000000e+00,\n",
       "          1.00000000e+00]),\n",
       " array([ -6.88465679e+01,  -6.72469194e+01,  -6.56472708e+01,\n",
       "         -6.40476223e+01,  -6.24479737e+01,  -6.08483252e+01,\n",
       "         -5.92486766e+01,  -5.76490280e+01,  -5.60493795e+01,\n",
       "         -5.44497309e+01,  -5.28500824e+01,  -5.12504338e+01,\n",
       "         -4.96507853e+01,  -4.80511367e+01,  -4.64514882e+01,\n",
       "         -4.48518396e+01,  -4.32521911e+01,  -4.16525425e+01,\n",
       "         -4.00528940e+01,  -3.84532454e+01,  -3.68535968e+01,\n",
       "         -3.52539483e+01,  -3.36542997e+01,  -3.20546512e+01,\n",
       "         -3.04550026e+01,  -2.88553541e+01,  -2.72557055e+01,\n",
       "         -2.56560570e+01,  -2.40564084e+01,  -2.24567599e+01,\n",
       "         -2.08571113e+01,  -1.92574627e+01,  -1.76578142e+01,\n",
       "         -1.60581656e+01,  -1.44585171e+01,  -1.28588685e+01,\n",
       "         -1.12592200e+01,  -9.65957142e+00,  -8.05992287e+00,\n",
       "         -6.46027431e+00,  -4.86062576e+00,  -3.26097721e+00,\n",
       "         -1.66132865e+00,  -6.16800982e-02,   1.53796846e+00,\n",
       "          3.13761701e+00,   4.73726556e+00,   6.33691412e+00,\n",
       "          7.93656267e+00,   9.53621123e+00,   1.11358598e+01,\n",
       "          1.27355083e+01,   1.43351569e+01,   1.59348054e+01,\n",
       "          1.75344540e+01,   1.91341026e+01,   2.07337511e+01,\n",
       "          2.23333997e+01,   2.39330482e+01,   2.55326968e+01,\n",
       "          2.71323453e+01,   2.87319939e+01,   3.03316424e+01,\n",
       "          3.19312910e+01,   3.35309395e+01,   3.51305881e+01,\n",
       "          3.67302366e+01,   3.83298852e+01,   3.99295338e+01,\n",
       "          4.15291823e+01,   4.31288309e+01,   4.47284794e+01,\n",
       "          4.63281280e+01,   4.79277765e+01,   4.95274251e+01,\n",
       "          5.11270736e+01,   5.27267222e+01,   5.43263707e+01,\n",
       "          5.59260193e+01,   5.75256679e+01,   5.91253164e+01,\n",
       "          6.07249650e+01,   6.23246135e+01,   6.39242621e+01,\n",
       "          6.55239106e+01,   6.71235592e+01,   6.87232077e+01,\n",
       "          7.03228563e+01,   7.19225048e+01,   7.35221534e+01,\n",
       "          7.51218019e+01,   7.67214505e+01,   7.83210991e+01,\n",
       "          7.99207476e+01,   8.15203962e+01,   8.31200447e+01,\n",
       "          8.47196933e+01,   8.63193418e+01,   8.79189904e+01,\n",
       "          8.95186389e+01,   9.11182875e+01]),\n",
       " <a list of 100 Patch objects>)"
      ]
     },
     "execution_count": 84,
     "metadata": {},
     "output_type": "execute_result"
    },
    {
     "data": {
      "image/png": "[encoded data removed]",
      "text/plain": [
       "<matplotlib.figure.Figure at 0x7f4b504c09e8>"
      ]
     },
     "metadata": {},
     "output_type": "display_data"
    }
   ],
   "source": [
    "coef_pd = pd.read_csv(yp_path+'1_Process/word_coef00.csv',index_col=False)\n",
    "\n",
    "fig,axs = plt.subplots(2,2,figsize=(12,6))\n",
    "fig.suptitle(\"Yelp\")\n",
    "axs[1][0].set_xlabel('coef value')\n",
    "axs[1][1].set_xlabel('scaled coef value')\n",
    "axs[0][0].plot(coef_pd['coef'])\n",
    "axs[0][1].plot(coef_pd['scaled_coef'])\n",
    "axs[1][0].hist(coef_pd['coef'],bins=100)\n",
    "axs[1][1].hist(coef_pd['scaled_coef'],bins=100)"
   ]
  },
  {
   "cell_type": "code",
   "execution_count": 78,
   "metadata": {},
   "outputs": [
    {
     "data": {
      "text/html": [
       "<div>\n",
       "<table border=\"1\" class=\"dataframe\">\n",
       "  <thead>\n",
       "    <tr style=\"text-align: right;\">\n",
       "      <th></th>\n",
       "      <th>word</th>\n",
       "      <th>coef</th>\n",
       "      <th>scaled_coef</th>\n",
       "    </tr>\n",
       "  </thead>\n",
       "  <tbody>\n",
       "    <tr>\n",
       "      <th>0</th>\n",
       "      <td>beach</td>\n",
       "      <td>6.555917</td>\n",
       "      <td>6.820242</td>\n",
       "    </tr>\n",
       "    <tr>\n",
       "      <th>1</th>\n",
       "      <td>village</td>\n",
       "      <td>5.651846</td>\n",
       "      <td>5.873819</td>\n",
       "    </tr>\n",
       "    <tr>\n",
       "      <th>2</th>\n",
       "      <td>ocean</td>\n",
       "      <td>4.874172</td>\n",
       "      <td>5.059714</td>\n",
       "    </tr>\n",
       "    <tr>\n",
       "      <th>3</th>\n",
       "      <td>lincoln</td>\n",
       "      <td>4.741565</td>\n",
       "      <td>4.920895</td>\n",
       "    </tr>\n",
       "    <tr>\n",
       "      <th>4</th>\n",
       "      <td>square</td>\n",
       "      <td>4.414141</td>\n",
       "      <td>4.578133</td>\n",
       "    </tr>\n",
       "  </tbody>\n",
       "</table>\n",
       "</div>"
      ],
      "text/plain": [
       "      word      coef  scaled_coef\n",
       "0    beach  6.555917     6.820242\n",
       "1  village  5.651846     5.873819\n",
       "2    ocean  4.874172     5.059714\n",
       "3  lincoln  4.741565     4.920895\n",
       "4   square  4.414141     4.578133"
      ]
     },
     "execution_count": 78,
     "metadata": {},
     "output_type": "execute_result"
    }
   ],
   "source": []
  },
  {
   "cell_type": "markdown",
   "metadata": {},
   "source": [
    "> Fit LR for twitter data, take abs(coef)>1 as high coef feature according to hist plot"
   ]
  },
  {
   "cell_type": "code",
   "execution_count": 60,
   "metadata": {},
   "outputs": [
    {
     "name": "stdout",
     "output_type": "stream",
     "text": [
      "Twitter:\n",
      "Counter({'neg': 47298, 'pos': 47297})\n",
      "5-fold cross validation roc_auc: 0.773\n",
      "327132 out of 327132 word features remained\n"
     ]
    }
   ],
   "source": [
    "print(\"Twitter:\")\n",
    "tw_ct_vec, tw_lr_clf, tw_feature_ct = fit_user_LR(tw_path+'1_Process/tw_label_byuser.pickle',vocab=False)\n",
    "write_word_coef(tw_ct_vec,tw_lr_clf,coef_thresh=0.0,wd_coef_file=tw_path+'1_Process/word_coef00.csv')"
   ]
  },
  {
   "cell_type": "code",
   "execution_count": 7,
   "metadata": {},
   "outputs": [
    {
     "name": "stdout",
     "output_type": "stream",
     "text": [
      "Counter({'neg': 47298, 'pos': 47297})\n",
      "0.741772577529\n",
      "235279 word features in total, and limit vocabulary to 4087\n"
     ]
    }
   ],
   "source": [
    "ct_vec, lr_clf, feature_ct = fit_user_LR(tw_path+'1_Process/tw_label_byuser.pickle',vocab=False)\n",
    "write_word_coef(ct_vec,lr_clf,coef_thresh=0.5,wd_coef_file=tw_path+'1_Process/word_coef05.csv')"
   ]
  },
  {
   "cell_type": "code",
   "execution_count": 8,
   "metadata": {},
   "outputs": [
    {
     "name": "stdout",
     "output_type": "stream",
     "text": [
      "Counter({'neg': 47298, 'pos': 47297})\n",
      "0.741772577529\n",
      "235279 word features in total, and limit vocabulary to 48208\n"
     ]
    }
   ],
   "source": [
    "ct_vec, lr_clf, feature_ct = fit_user_LR(tw_path+'1_Process/tw_label_byuser.pickle',vocab=False)\n",
    "write_word_coef(ct_vec,lr_clf,coef_thresh=0.1,wd_coef_file=tw_path+'1_Process/word_coef01.csv')"
   ]
  },
  {
   "cell_type": "code",
   "execution_count": 9,
   "metadata": {},
   "outputs": [
    {
     "name": "stdout",
     "output_type": "stream",
     "text": [
      "916\n"
     ]
    }
   ],
   "source": [
    "n = 0\n",
    "for idx in lr_clf.coef_[0].argsort()[::-1]:\n",
    "    if(abs(lr_clf.coef_[0][idx])>1):\n",
    "        n += 1\n",
    "print(n)"
   ]
  },
  {
   "cell_type": "code",
   "execution_count": 61,
   "metadata": {},
   "outputs": [
    {
     "data": {
      "text/plain": [
       "[<matplotlib.lines.Line2D at 0x7f4b522f8ba8>]"
      ]
     },
     "execution_count": 61,
     "metadata": {},
     "output_type": "execute_result"
    },
    {
     "data": {
      "image/png": "[encoded data removed]",
      "text/plain": [
       "<matplotlib.figure.Figure at 0x7f4b5586af28>"
      ]
     },
     "metadata": {},
     "output_type": "display_data"
    }
   ],
   "source": [
    "plt.plot(sorted(tw_lr_clf.coef_[0]))"
   ]
  },
  {
   "cell_type": "code",
   "execution_count": 83,
   "metadata": {},
   "outputs": [
    {
     "data": {
      "text/plain": [
       "<matplotlib.text.Text at 0x7f0d9b97d710>"
      ]
     },
     "execution_count": 83,
     "metadata": {},
     "output_type": "execute_result"
    },
    {
     "data": {
      "image/png": "[encoded data removed]",
      "text/plain": [
       "<matplotlib.figure.Figure at 0x7f0daeffdef0>"
      ]
     },
     "metadata": {},
     "output_type": "display_data"
    }
   ],
   "source": [
    "plt.hist(tw_lr_clf.coef_[0],bins=20)\n",
    "plt.title(\"Twitter feature coefficient value distribution\")\n",
    "plt.xlabel(\"coef\")\n",
    "plt.ylabel(\"n\")"
   ]
  },
  {
   "cell_type": "code",
   "execution_count": 84,
   "metadata": {
    "collapsed": true
   },
   "outputs": [
    {
     "name": "stdout",
     "output_type": "stream",
     "text": [
      "125 \t 7.572 \t bro\n",
      "52 \t 5.527 \t girlfriend\n",
      "107 \t 5.063 \t dude\n",
      "60 \t 4.898 \t wife\n",
      "98 \t 4.194 \t nigga\n",
      "272 \t 4.085 \t man\n",
      "30 \t 3.951 \t pussy\n",
      "65 \t 3.445 \t football\n",
      "53 \t 3.384 \t gay\n",
      "31 \t 3.238 \t homie\n",
      "25 \t 3.212 \t bros\n",
      "118 \t 2.924 \t hit\n",
      "26 \t 2.916 \t dope\n",
      "26 \t 2.904 \t league\n",
      "44 \t 2.867 \t niggas\n",
      "229 \t 2.819 \t fuck\n",
      "23 \t 2.813 \t bud\n",
      "275 \t 2.809 \t game\n",
      "167 \t 2.779 \t drinking\n",
      "123 \t 2.765 \t team\n"
     ]
    }
   ],
   "source": [
    "feats = ct_vec.get_feature_names()\n",
    "for idx in lr_clf.coef_[0].argsort()[::-1][:20]:\n",
    "    print(\"%d \\t %.3f \\t %s\" % (feature_ct[idx], lr_clf.coef_[0][idx], feats[idx]))"
   ]
  },
  {
   "cell_type": "code",
   "execution_count": 85,
   "metadata": {
    "collapsed": true
   },
   "outputs": [
    {
     "name": "stdout",
     "output_type": "stream",
     "text": [
      "84 \t -5.175 \t boyfriend\n",
      "138 \t -4.887 \t hair\n",
      "34 \t -4.379 \t husband\n",
      "38 \t -4.033 \t obsessed\n",
      "101 \t -3.952 \t shopping\n",
      "97 \t -3.808 \t omg\n",
      "1166 \t -3.796 \t so\n",
      "913 \t -3.744 \t love\n",
      "78 \t -3.687 \t yay\n",
      "63 \t -3.646 \t boo\n",
      "292 \t -3.645 \t girl\n",
      "24 \t -3.527 \t hubby\n",
      "58 \t -3.507 \t ugh\n",
      "170 \t -3.483 \t such\n",
      "121 \t -3.414 \t seriously\n",
      "2334 \t -3.381 \t my\n",
      "73 \t -3.096 \t loved\n",
      "46 \t -3.081 \t tan\n",
      "29 \t -3.076 \t bestie\n",
      "60 \t -3.035 \t cry\n"
     ]
    }
   ],
   "source": [
    "feats = ct_vec.get_feature_names()\n",
    "for idx in lr_clf.coef_[0].argsort()[::1][:20]:\n",
    "    print(\"%d \\t %.3f \\t %s\" % (feature_ct[idx], lr_clf.coef_[0][idx], feats[idx]))"
   ]
  },
  {
   "cell_type": "markdown",
   "metadata": {},
   "source": [
    "> Fit LR for yelp data, take abs(coef)>1 as high coef feature according to hist plot"
   ]
  },
  {
   "cell_type": "code",
   "execution_count": 46,
   "metadata": {},
   "outputs": [
    {
     "name": "stdout",
     "output_type": "stream",
     "text": [
      "Yelp:\n",
      "Counter({'neg': 21650, 'pos': 21649})\n",
      "5-fold cross validation roc_auc: 0.815\n",
      "94176 out of 94176 word features remained\n"
     ]
    }
   ],
   "source": [
    "print(\"Yelp:\")\n",
    "ct_vec, lr_clf, feature_ct = fit_user_LR(yp_path+'1_Process/yp_label_byuser.pickle',vocab=False)\n",
    "write_word_coef(ct_vec,lr_clf,coef_thresh=0.0,wd_coef_file=yp_path+'1_Process/word_coef00.csv')"
   ]
  },
  {
   "cell_type": "code",
   "execution_count": 100,
   "metadata": {},
   "outputs": [
    {
     "name": "stdout",
     "output_type": "stream",
     "text": [
      "Counter({'neg': 21650, 'pos': 21649})\n",
      "[ 0.81321598  0.81833478  0.81671549  0.80110943  0.80311616]\n",
      "71097 word features in total, and limit vocabulary to 2264\n"
     ]
    }
   ],
   "source": [
    "ct_vec, lr_clf, feature_ct = fit_user_LR(yp_path+'1_Process/yp_label_byuser.pickle',vocab=False)\n",
    "write_word_coef(ct_vec,lr_clf,coef_thresh=0.5,wd_coef_file=yp_path+'1_Process/word_coef05.csv')"
   ]
  },
  {
   "cell_type": "code",
   "execution_count": 12,
   "metadata": {},
   "outputs": [
    {
     "name": "stdout",
     "output_type": "stream",
     "text": [
      "Counter({'neg': 21650, 'pos': 21649})\n",
      "0.810498365162\n",
      "71097 word features in total, and limit vocabulary to 17512\n"
     ]
    }
   ],
   "source": [
    "ct_vec, lr_clf, feature_ct = fit_user_LR(yp_path+'1_Process/yp_label_byuser.pickle',vocab=False)\n",
    "write_word_coef(ct_vec,lr_clf,coef_thresh=0.1,wd_coef_file=yp_path+'1_Process/word_coef01.csv')"
   ]
  },
  {
   "cell_type": "code",
   "execution_count": 102,
   "metadata": {},
   "outputs": [
    {
     "name": "stdout",
     "output_type": "stream",
     "text": [
      "493\n"
     ]
    }
   ],
   "source": [
    "n = 0\n",
    "for idx in lr_clf.coef_[0].argsort()[::-1]:\n",
    "    if(abs(lr_clf.coef_[0][idx])>1):\n",
    "        n += 1\n",
    "print(n)"
   ]
  },
  {
   "cell_type": "code",
   "execution_count": 22,
   "metadata": {},
   "outputs": [
    {
     "data": {
      "text/plain": [
       "[<matplotlib.lines.Line2D at 0x7f4b52ce00b8>]"
      ]
     },
     "execution_count": 22,
     "metadata": {},
     "output_type": "execute_result"
    },
    {
     "data": {
      "image/png": "[encoded data removed]",
      "text/plain": [
       "<matplotlib.figure.Figure at 0x7f4b51da6ba8>"
      ]
     },
     "metadata": {},
     "output_type": "display_data"
    }
   ],
   "source": [
    "plt.plot(sorted(lr_clf.coef_[0]))"
   ]
  },
  {
   "cell_type": "code",
   "execution_count": 88,
   "metadata": {},
   "outputs": [
    {
     "data": {
      "text/plain": [
       "<matplotlib.text.Text at 0x7f0dae4eeef0>"
      ]
     },
     "execution_count": 88,
     "metadata": {},
     "output_type": "execute_result"
    },
    {
     "data": {
      "image/png": "[encoded data removed]",
      "text/plain": [
       "<matplotlib.figure.Figure at 0x7f0dadf06710>"
      ]
     },
     "metadata": {},
     "output_type": "display_data"
    }
   ],
   "source": [
    "plt.hist(lr_clf.coef_[0],bins=20)\n",
    "plt.title(\"Yelp feature coefficient value distribution\")\n",
    "plt.xlabel(\"coef\")\n",
    "plt.ylabel(\"n\")"
   ]
  },
  {
   "cell_type": "code",
   "execution_count": 89,
   "metadata": {
    "collapsed": true
   },
   "outputs": [
    {
     "name": "stdout",
     "output_type": "stream",
     "text": [
      "212 \t 18.658 \t wife\n",
      "64 \t 8.513 \t girlfriend\n",
      "74 \t 3.066 \t notch\n",
      "556 \t 3.047 \t some\n",
      "14 \t 2.896 \t bachelor\n",
      "64 \t 2.746 \t joint\n",
      "59 \t 2.744 \t solid\n",
      "19 \t 2.591 \t partner\n",
      "17 \t 2.514 \t buddy\n",
      "55 \t 2.458 \t steaks\n",
      "171 \t 2.293 \t cool\n",
      "13 \t 2.236 \t gf\n",
      "84 \t 2.227 \t showed\n",
      "59 \t 2.072 \t desert\n",
      "1304 \t 2.055 \t good\n",
      "38 \t 2.019 \t damn\n",
      "1329 \t 2.001 \t place\n",
      "170 \t 1.994 \t quite\n",
      "106 \t 1.949 \t might\n",
      "123 \t 1.895 \t average\n"
     ]
    }
   ],
   "source": [
    "feats = ct_vec.get_feature_names()\n",
    "for idx in lr_clf.coef_[0].argsort()[::-1][:20]:\n",
    "    print(\"%d \\t %.3f \\t %s\" % (feature_ct[idx], lr_clf.coef_[0][idx], feats[idx]))"
   ]
  },
  {
   "cell_type": "code",
   "execution_count": 90,
   "metadata": {
    "collapsed": true
   },
   "outputs": [
    {
     "name": "stdout",
     "output_type": "stream",
     "text": [
      "234 \t -14.317 \t husband\n",
      "104 \t -8.475 \t boyfriend\n",
      "131 \t -5.438 \t yummy\n",
      "574 \t -5.244 \t love\n",
      "1198 \t -4.934 \t so\n",
      "46 \t -4.851 \t delish\n",
      "79 \t -4.646 \t fabulous\n",
      "29 \t -4.462 \t hubby\n",
      "64 \t -4.242 \t cute\n",
      "22 \t -3.801 \t bf\n",
      "261 \t -3.761 \t loved\n",
      "78 \t -3.689 \t excited\n",
      "507 \t -3.640 \t delicious\n",
      "62 \t -3.565 \t yum\n",
      "757 \t -3.489 \t rrb\n",
      "69 \t -3.372 \t lovely\n",
      "146 \t -3.261 \t beautiful\n",
      "83 \t -2.972 \t die\n",
      "32 \t -2.923 \t gorgeous\n",
      "514 \t -2.856 \t because\n"
     ]
    }
   ],
   "source": [
    "feats = ct_vec.get_feature_names()\n",
    "for idx in lr_clf.coef_[0].argsort()[::1][:20]:\n",
    "    print(\"%d \\t %.3f \\t %s\" % (feature_ct[idx], lr_clf.coef_[0][idx], feats[idx]))"
   ]
  },
  {
   "cell_type": "markdown",
   "metadata": {},
   "source": [
    "> Fit LR Airbnb data, limit vocabulary on common words to eliminate neighbor/city specific features, take abs(coef)>0.2 as high coef feature according to hist plot"
   ]
  },
  {
   "cell_type": "code",
   "execution_count": 47,
   "metadata": {},
   "outputs": [
    {
     "name": "stdout",
     "output_type": "stream",
     "text": [
      "Airbnb:\n",
      "Counter({'pos': 81767, 'neg': 17853})\n",
      "5-fold cross validation roc_auc: 0.602\n",
      "1550 out of 1550 word features remained\n"
     ]
    }
   ],
   "source": [
    "print('Airbnb:')\n",
    "ct_vec, lr_clf, feature_ct = fit_user_LR(airbnb_path+'1_Process/airbnb_label_byview.pickle',\n",
    "                                              vocab=airbnb_path+'0_Data/common_wds.csv')\n",
    "write_word_coef(ct_vec,lr_clf,coef_thresh=0.0,wd_coef_file=airbnb_path+'1_Process/word_coef00.csv')"
   ]
  },
  {
   "cell_type": "code",
   "execution_count": 106,
   "metadata": {},
   "outputs": [
    {
     "name": "stdout",
     "output_type": "stream",
     "text": [
      "Counter({'pos': 81767, 'neg': 17853})\n",
      "[ 0.58147057  0.6311771   0.57505641  0.61886364  0.54138032]\n",
      "1550 word features in total, and limit vocabulary to 1549\n"
     ]
    }
   ],
   "source": [
    "ct_vec, lr_clf, feature_ct = fit_user_LR(airbnb_path+'1_Process/airbnb_label_byview.pickle',\n",
    "                                              vocab=airbnb_path+'0_Data/common_wds.csv')\n",
    "write_word_coef(ct_vec,lr_clf,coef_thresh=0.0,wd_coef_file=airbnb_path+'1_Process/word_coef.csv')"
   ]
  },
  {
   "cell_type": "code",
   "execution_count": 109,
   "metadata": {},
   "outputs": [
    {
     "name": "stdout",
     "output_type": "stream",
     "text": [
      "739\n"
     ]
    }
   ],
   "source": [
    "n = 0\n",
    "for idx in lr_clf.coef_[0].argsort()[::-1]:\n",
    "    if(abs(lr_clf.coef_[0][idx])>0.5):\n",
    "        n += 1\n",
    "print(n)"
   ]
  },
  {
   "cell_type": "code",
   "execution_count": 94,
   "metadata": {},
   "outputs": [
    {
     "data": {
      "text/plain": [
       "<matplotlib.text.Text at 0x7f0dacd24dd8>"
      ]
     },
     "execution_count": 94,
     "metadata": {},
     "output_type": "execute_result"
    },
    {
     "data": {
      "image/png": "[encoded data removed]",
      "text/plain": [
       "<matplotlib.figure.Figure at 0x7f0daf338e48>"
      ]
     },
     "metadata": {},
     "output_type": "display_data"
    }
   ],
   "source": [
    "plt.hist(lr_clf.coef_[0],bins=20)\n",
    "plt.title(\"Airbnb feature coefficient value distribution\")\n",
    "plt.xlabel(\"coef\")\n",
    "plt.ylabel(\"n\")"
   ]
  },
  {
   "cell_type": "code",
   "execution_count": 95,
   "metadata": {},
   "outputs": [
    {
     "name": "stdout",
     "output_type": "stream",
     "text": [
      "1347 \t 5.949 \t beach\n",
      "287 \t 5.025 \t ocean\n",
      "414 \t 3.008 \t village\n",
      "331 \t 2.813 \t high\n",
      "283 \t 2.453 \t architecture\n",
      "81 \t 2.446 \t flat\n",
      "184 \t 2.324 \t desirable\n",
      "90 \t 2.265 \t bohemian\n",
      "183 \t 2.242 \t waterfront\n",
      "49 \t 2.181 \t greek\n",
      "4167 \t 2.120 \t restaurants\n",
      "40 \t 2.109 \t co\n",
      "268 \t 2.070 \t hill\n",
      "89 \t 2.059 \t nicest\n",
      "77 \t 2.032 \t foodie\n",
      "252 \t 2.021 \t organic\n",
      "87 \t 2.018 \t bookstores\n",
      "82 \t 1.953 \t mountain\n",
      "57 \t 1.900 \t games\n",
      "127 \t 1.885 \t laid\n"
     ]
    }
   ],
   "source": [
    "feats = ct_vec.get_feature_names()\n",
    "for idx in lr_clf.coef_[0].argsort()[::-1][:20]:\n",
    "    print(\"%d \\t %.3f \\t %s\" % (feature_ct[idx], lr_clf.coef_[0][idx], feats[idx]))"
   ]
  },
  {
   "cell_type": "code",
   "execution_count": 96,
   "metadata": {},
   "outputs": [
    {
     "name": "stdout",
     "output_type": "stream",
     "text": [
      "156 \t -6.088 \t spanish\n",
      "162 \t -2.961 \t mexican\n",
      "108 \t -2.854 \t nightclubs\n",
      "504 \t -2.828 \t clubs\n",
      "157 \t -2.771 \t working\n",
      "178 \t -2.692 \t metro\n",
      "123 \t -2.642 \t blvd\n",
      "802 \t -2.595 \t art\n",
      "41 \t -2.499 \t predominantly\n",
      "33 \t -2.379 \t tapas\n",
      "121 \t -2.368 \t artist\n",
      "39 \t -2.186 \t restored\n",
      "345 \t -2.177 \t studios\n",
      "69 \t -2.172 \t target\n",
      "124 \t -2.165 \t strip\n",
      "34 \t -2.156 \t twenty\n",
      "651 \t -2.123 \t galleries\n",
      "31 \t -2.093 \t branch\n",
      "116 \t -2.080 \t dance\n",
      "147 \t -2.043 \t gyms\n"
     ]
    }
   ],
   "source": [
    "feats = ct_vec.get_feature_names()\n",
    "for idx in lr_clf.coef_[0].argsort()[::1][:20]:\n",
    "    print(\"%d \\t %.3f \\t %s\" % (feature_ct[idx], lr_clf.coef_[0][idx], feats[idx]))"
   ]
  },
  {
   "cell_type": "markdown",
   "metadata": {},
   "source": [
    "### 2. Get paraphrase pairs\n",
    "> remove those has same word base using stem"
   ]
  },
  {
   "cell_type": "code",
   "execution_count": 116,
   "metadata": {
    "collapsed": true
   },
   "outputs": [],
   "source": [
    "def get_paraphrase(vocab_file,wd_para_file):\n",
    "    \"\"\"\n",
    "    for each word, get its paraphrases, and select those exist in the corpus vocabulary to match a pair.\n",
    "    3 possible cases: 1) get a list of paraphrases, and select those in the limited vocabulary;\n",
    "                      2) get a list of paraphrases, but no paraphrase exists in the limited vocabulary; \n",
    "                      3) not in paraphrase vocabulary, so no paraphrase being found; \n",
    "    \"\"\"\n",
    "    my_vocab = pd.read_csv(open(vocab_file)).word.values\n",
    "    \n",
    "    ppdb = pd.read_csv(open('/data/2/zwang/2018_S_WordTreatment/V0_airbnb/1_Data/Crime/ppdb_xxxl.csv'))\n",
    "    ppdb_vocab = Counter(ppdb.source.values)\n",
    "    \n",
    "    wd_para_info = []\n",
    "    not_in_vocab = []\n",
    "    no_para = []\n",
    "    i=0\n",
    "    \n",
    "    for wd in my_vocab:\n",
    "        i += 1\n",
    "        if(i%100 == 0):\n",
    "            print(i)\n",
    "        if(wd in ppdb_vocab):\n",
    "            para_pd = ppdb[(ppdb['source'] == wd)]\n",
    "            for tar_wd in para_pd.target.values:\n",
    "                if((tar_wd in my_vocab) and (tar_wd != wd)):\n",
    "                    if({'source':tar_wd,'target':wd,'score':para_pd[para_pd['target'] == tar_wd].Equivalence.values[0]} not in wd_para_info):\n",
    "                        wd_para_info.append({'source':wd,'target':tar_wd,'score':para_pd[para_pd['target'] == tar_wd].Equivalence.values[0]})\n",
    "    \n",
    "    wd_pair_byscore = pd.DataFrame(wd_para_info).drop_duplicates(keep='first').sort_values(by=['score'],ascending=False)                \n",
    "    print(\"%d paraphrase pairs in total.\" % wd_pair_byscore.shape[0])\n",
    "    #pickle.dump(wd_pair_byscore,open(wd_para_file,'wb'))"
   ]
  },
  {
   "cell_type": "code",
   "execution_count": 117,
   "metadata": {},
   "outputs": [
    {
     "name": "stdout",
     "output_type": "stream",
     "text": [
      "100\n",
      "200\n",
      "300\n",
      "400\n",
      "500\n",
      "600\n",
      "700\n",
      "800\n",
      "900\n",
      "1000\n",
      "1100\n",
      "1200\n",
      "1300\n",
      "1400\n",
      "1500\n",
      "87620 paraphrase pairs in total.\n"
     ]
    },
    {
     "ename": "NameError",
     "evalue": "name 'star' is not defined",
     "output_type": "error",
     "traceback": [
      "\u001b[0;31m\u001b[0m",
      "\u001b[0;31mNameError\u001b[0mTraceback (most recent call last)",
      "\u001b[0;32m<ipython-input-117-91c2f34a4971>\u001b[0m in \u001b[0;36m<module>\u001b[0;34m()\u001b[0m\n\u001b[1;32m      2\u001b[0m \u001b[0mget_paraphrase\u001b[0m\u001b[0;34m(\u001b[0m\u001b[0mvocab_file\u001b[0m \u001b[0;34m=\u001b[0m \u001b[0mairbnb_path\u001b[0m \u001b[0;34m+\u001b[0m \u001b[0;34m'1_Process/word_coef.csv'\u001b[0m\u001b[0;34m,\u001b[0m\u001b[0mwd_para_file\u001b[0m \u001b[0;34m=\u001b[0m \u001b[0mairbnb_path\u001b[0m \u001b[0;34m+\u001b[0m \u001b[0;34m'1_Process/word_paraphrase.csv'\u001b[0m\u001b[0;34m)\u001b[0m\u001b[0;34m\u001b[0m\u001b[0m\n\u001b[1;32m      3\u001b[0m \u001b[0mend\u001b[0m \u001b[0;34m=\u001b[0m \u001b[0mtime\u001b[0m\u001b[0;34m.\u001b[0m\u001b[0mtime\u001b[0m\u001b[0;34m(\u001b[0m\u001b[0;34m)\u001b[0m\u001b[0;34m\u001b[0m\u001b[0m\n\u001b[0;32m----> 4\u001b[0;31m \u001b[0mprint\u001b[0m\u001b[0;34m(\u001b[0m\u001b[0mfloat\u001b[0m\u001b[0;34m(\u001b[0m\u001b[0mend\u001b[0m\u001b[0;34m-\u001b[0m\u001b[0mstar\u001b[0m\u001b[0;34m)\u001b[0m\u001b[0;34m/\u001b[0m\u001b[0;36m60\u001b[0m\u001b[0;34m)\u001b[0m\u001b[0;34m\u001b[0m\u001b[0m\n\u001b[0m",
      "\u001b[0;31mNameError\u001b[0m: name 'star' is not defined"
     ]
    }
   ],
   "source": [
    "start = time.time()\n",
    "get_paraphrase(vocab_file = airbnb_path + '1_Process/word_coef.csv',wd_para_file = airbnb_path + '1_Process/word_paraphrase.pickle')\n",
    "end = time.time()\n",
    "print(float(end-start)/60)"
   ]
  },
  {
   "cell_type": "code",
   "execution_count": 118,
   "metadata": {},
   "outputs": [
    {
     "name": "stdout",
     "output_type": "stream",
     "text": [
      "48.914626415570574\n"
     ]
    }
   ],
   "source": [
    "print(float(end-start)/60)"
   ]
  },
  {
   "cell_type": "code",
   "execution_count": 122,
   "metadata": {
    "collapsed": true
   },
   "outputs": [
    {
     "name": "stdout",
     "output_type": "stream",
     "text": [
      "100\n",
      "200\n",
      "300\n",
      "400\n",
      "500\n",
      "600\n",
      "700\n",
      "800\n",
      "900\n",
      "1000\n",
      "1100\n",
      "1200\n",
      "1300\n",
      "1400\n",
      "1500\n",
      "1600\n",
      "1700\n",
      "1800\n",
      "1900\n",
      "2000\n",
      "2100\n",
      "2200\n",
      "2300\n",
      "2400\n",
      "2500\n",
      "2600\n",
      "2700\n",
      "2800\n",
      "2900\n",
      "3000\n",
      "3100\n",
      "3200\n",
      "3300\n",
      "3400\n",
      "3500\n",
      "3600\n",
      "3700\n",
      "3800\n",
      "3900\n",
      "4000\n",
      "126925 paraphrase pairs in total.\n",
      "90.80747562249502\n"
     ]
    }
   ],
   "source": [
    "start = time.time()\n",
    "get_paraphrase(vocab_file = tw_path + '1_Process/word_coef.csv',wd_para_file = tw_path + '1_Process/word_paraphrase.pickle')\n",
    "end = time.time()\n",
    "print(float(end-start)/60)"
   ]
  },
  {
   "cell_type": "code",
   "execution_count": null,
   "metadata": {
    "collapsed": true
   },
   "outputs": [
    {
     "name": "stdout",
     "output_type": "stream",
     "text": [
      "100\n",
      "200\n",
      "300\n",
      "400\n",
      "500\n",
      "600\n",
      "700\n",
      "800\n",
      "900\n",
      "1000\n",
      "1100\n",
      "1200\n",
      "1300\n",
      "1400\n",
      "1500\n",
      "1600\n"
     ]
    }
   ],
   "source": [
    "start = time.time()\n",
    "get_paraphrase(vocab_file = yp_path + '1_Process/word_coef.csv',wd_para_file = yp_path + '1_Process/word_paraphrase.pickle')\n",
    "end = time.time()\n",
    "print(float(end-start)/60)"
   ]
  },
  {
   "cell_type": "code",
   "execution_count": 121,
   "metadata": {},
   "outputs": [
    {
     "name": "stdout",
     "output_type": "stream",
     "text": [
      "41.441279824574785\n"
     ]
    }
   ],
   "source": [
    "print(float(end-start)/60)"
   ]
  },
  {
   "cell_type": "markdown",
   "metadata": {},
   "source": [
    "#### Limitations on candidate paraphrase pairs\n",
    "- Equivalance score > 0.15 <br>\n",
    "- Not have same word base form <br>\n",
    "- At least one has high coef (abs(coef)>thresh(1 or 0.5)) <br>"
   ]
  },
  {
   "cell_type": "code",
   "execution_count": 158,
   "metadata": {
    "collapsed": true
   },
   "outputs": [],
   "source": [
    "def limit_paraphrase(sb_stem,para_file,para_thresh,coef_file,coef_thresh,wdpair_file):\n",
    "    wd_coef = {}\n",
    "    high_coef_wd = []\n",
    "    for idx, row in pd.read_csv(coef_file).iterrows():\n",
    "        wd_coef[row.word] = row.coef\n",
    "        if(abs(row.coef) > coef_thresh):\n",
    "            high_coef_wd.append(row.word)\n",
    "    \n",
    "    para_pd_l = pd.DataFrame(pickle.load(open(para_file,'rb')))\n",
    "    print(\"%d paraphrase pairs in total\" % para_pd_l.shape[0])\n",
    "    para_pd = para_pd_l[para_pd_l.score > 0.15]\n",
    "    \n",
    "    wdpair = []\n",
    "    for idx,row in para_pd.iterrows():\n",
    "        flag = False\n",
    "        if(row.source in high_coef_wd):\n",
    "            flag = True\n",
    "        elif(row.target in high_coef_wd):\n",
    "            flag = True\n",
    "        else:\n",
    "            flag = False\n",
    "        \n",
    "        if(flag):\n",
    "            src_stem = sb_stem.stem(row.source)\n",
    "            tar_stem = sb_stem.stem(row.target)\n",
    "            if(src_stem == tar_stem):\n",
    "                print(row.source,row.target)\n",
    "            else:            \n",
    "                wdpair.append({'source':row.source,'target':row.target,'para_score':row.score,\n",
    "                               'source_coef':wd_coef[row.source],'target_coef':wd_coef[row.target]})\n",
    "    \n",
    "    print(\"%d word pairs remained\" % len(wdpair))\n",
    "    #pd.DataFrame(wdpair).drop_duplicates(keep='first').to_csv(wdpair_file,\n",
    "                                                        columns = ['source','target','para_score','source_coef','target_coef'],\n",
    "                                                        index=False)"
   ]
  },
  {
   "cell_type": "code",
   "execution_count": 159,
   "metadata": {
    "collapsed": true
   },
   "outputs": [
    {
     "name": "stdout",
     "output_type": "stream",
     "text": [
      "126925 paraphrase pairs in total\n",
      "rolling roll\n",
      "celebrate celebrating\n",
      "cookies cookie\n",
      "tube tubing\n",
      "sing singing\n",
      "smiles smiling\n",
      "updated update\n",
      "limited limit\n",
      "freeze freezing\n",
      "photo photos\n",
      "warming warm\n",
      "updated updates\n",
      "good goods\n",
      "match matching\n",
      "cut cutting\n",
      "sisters sister\n",
      "spend spending\n",
      "turn turning\n",
      "chill chilling\n",
      "laughs laughing\n",
      "sounds sound\n",
      "laugh laughing\n",
      "coach coaching\n",
      "skate skating\n",
      "pack packing\n",
      "lift lifted\n",
      "importance important\n",
      "colors color\n",
      "beat beats\n",
      "scream screaming\n",
      "screams screaming\n",
      "encourage encouraging\n",
      "release released\n",
      "girls girl\n",
      "friends friend\n",
      "treating treat\n",
      "important importance\n",
      "lift lifting\n",
      "join joined\n",
      "relationships relationship\n",
      "marry married\n",
      "using use\n",
      "missed miss\n",
      "pay paying\n",
      "fight fighting\n",
      "arrived arrive\n",
      "fuck fucking\n",
      "shops shopping\n",
      "pretending pretend\n",
      "rockets rocket\n",
      "fights fighting\n",
      "shop shopping\n",
      "pump pumped\n",
      "offer offered\n",
      "sing sings\n",
      "pitch pitching\n",
      "lights lighting\n",
      "serving serve\n",
      "starting starts\n",
      "smoking smoke\n",
      "cool cooling\n",
      "kissing kiss\n",
      "trade traded\n",
      "brew brewing\n",
      "wake waking\n",
      "happen happening\n",
      "heading heads\n",
      "care caring\n",
      "loved love\n",
      "flow flowing\n",
      "sucked suck\n",
      "loves love\n",
      "fuck fucked\n",
      "let letting\n",
      "grind grinding\n",
      "celebrations celebrate\n",
      "celebration celebrate\n",
      "sport sports\n",
      "point pointing\n",
      "craziness crazy\n",
      "golf golfing\n",
      "happiness happy\n",
      "happy happiness\n",
      "shows showing\n",
      "kid kidding\n",
      "play playing\n",
      "play played\n",
      "lifting lifted\n",
      "asks asked\n",
      "upgrade upgraded\n",
      "cards card\n",
      "sings singing\n",
      "exciting excited\n",
      "rules rule\n",
      "missing miss\n",
      "project projects\n",
      "sign signed\n",
      "sadness sad\n",
      "card cards\n",
      "needed need\n",
      "game gaming\n",
      "games gaming\n",
      "going go\n",
      "production productive\n",
      "celebration celebrating\n",
      "number numbers\n",
      "address addressed\n",
      "falling fall\n",
      "signing signed\n",
      "gear gearing\n",
      "celebrations celebrating\n",
      "heavenly heaven\n",
      "perfection perfect\n",
      "shit shitting\n",
      "disgusted disgusting\n",
      "game games\n",
      "wonderfully wonderful\n",
      "killing kills\n",
      "moves moving\n",
      "1102 word pairs remained\n"
     ]
    }
   ],
   "source": [
    "# twitter\n",
    "limit_paraphrase(snowball_stemmer,\n",
    "                 para_file = tw_path + '1_Process/word_paraphrase.pickle',para_thresh=0.15,\n",
    "                 coef_file = tw_path + '1_Process/word_coef.csv',coef_thresh=1.0,\n",
    "                 wdpair_file = tw_path + '1_Process/word_pairs.csv')"
   ]
  },
  {
   "cell_type": "code",
   "execution_count": 160,
   "metadata": {
    "collapsed": true
   },
   "outputs": [
    {
     "name": "stdout",
     "output_type": "stream",
     "text": [
      "73832 paraphrase pairs in total\n",
      "patients patient\n",
      "dance dancing\n",
      "eggs egg\n",
      "disappoint disappointed\n",
      "second seconds\n",
      "cookie cookies\n",
      "customers customer\n",
      "photos photo\n",
      "shared share\n",
      "cuts cutting\n",
      "avoid avoided\n",
      "price pricing\n",
      "relax relaxing\n",
      "sharing share\n",
      "treatments treatment\n",
      "girls girl\n",
      "friends friend\n",
      "desert deserts\n",
      "shop shopping\n",
      "rate rates\n",
      "appreciative appreciate\n",
      "coloring color\n",
      "shoe shoes\n",
      "died die\n",
      "problem problems\n",
      "loved love\n",
      "chair chairs\n",
      "clothes clothing\n",
      "accommodate accommodating\n",
      "email emailed\n",
      "difference different\n",
      "dresses dressing\n",
      "dress dressing\n",
      "disappointing disappointed\n",
      "changed changes\n",
      "seems seemed\n",
      "promise promised\n",
      "thinking think\n",
      "recommended recommending\n",
      "bad badly\n",
      "recommending recommended\n",
      "return returning\n",
      "chain chains\n",
      "changes changed\n",
      "faced face\n",
      "incredible incredibly\n",
      "introduced introduce\n",
      "consistent consistency\n",
      "heavenly heaven\n",
      "stressful stress\n",
      "bone bones\n",
      "move moving\n",
      "moving move\n",
      "games game\n",
      "near nearly\n",
      "fair fairly\n",
      "sharing shared\n",
      "856 word pairs remained\n"
     ]
    }
   ],
   "source": [
    "# yelp\n",
    "limit_paraphrase(snowball_stemmer,\n",
    "                 para_file = yp_path + '1_Process/word_paraphrase.pickle',para_thresh=0.15,\n",
    "                 coef_file = yp_path + '1_Process/word_coef.csv',coef_thresh=1.0,\n",
    "                 wdpair_file = yp_path + '1_Process/word_pairs.csv')"
   ]
  },
  {
   "cell_type": "code",
   "execution_count": 161,
   "metadata": {
    "collapsed": true
   },
   "outputs": [
    {
     "name": "stdout",
     "output_type": "stream",
     "text": [
      "87620 paraphrase pairs in total\n",
      "dancing dance\n",
      "hike hiking\n",
      "charming charm\n",
      "driving drive\n",
      "opened open\n",
      "parties party\n",
      "come coming\n",
      "goods good\n",
      "activities activity\n",
      "featuring feature\n",
      "list listed\n",
      "list listing\n",
      "open opening\n",
      "family families\n",
      "destination destinations\n",
      "relaxing relax\n",
      "cooking cook\n",
      "tasting taste\n",
      "including include\n",
      "neighboring neighbors\n",
      "neighbor neighboring\n",
      "sit sits\n",
      "featured feature\n",
      "neighboring neighbor\n",
      "features feature\n",
      "ranging range\n",
      "month months\n",
      "tree trees\n",
      "ends end\n",
      "visitor visitors\n",
      "jog jogging\n",
      "use using\n",
      "welcome welcoming\n",
      "shops shopping\n",
      "shopping shop\n",
      "offering offer\n",
      "offers offerings\n",
      "offers offering\n",
      "offerings offer\n",
      "steps step\n",
      "serve serving\n",
      "serving serves\n",
      "riding ride\n",
      "tours tour\n",
      "host hosts\n",
      "hospitals hospital\n",
      "sports sporting\n",
      "traveling travel\n",
      "fish fishing\n",
      "bring brings\n",
      "watching watch\n",
      "historic historical\n",
      "quick quickly\n",
      "drink drinking\n",
      "recreation recreational\n",
      "play playing\n",
      "schools school\n",
      "eat eating\n",
      "relaxing relaxed\n",
      "art arts\n",
      "arts art\n",
      "included include\n",
      "used using\n",
      "services service\n",
      "work working\n",
      "providing provide\n",
      "station stations\n",
      "mix mixed\n",
      "bird birds\n",
      "eating eat\n",
      "opened opening\n",
      "diversity diverse\n",
      "incredible incredibly\n",
      "excitement exciting\n",
      "ton tons\n",
      "locals locally\n",
      "running run\n",
      "culturally cultural\n",
      "providing provides\n",
      "included including\n",
      "becoming become\n",
      "others other\n",
      "named name\n",
      "games game\n",
      "near nearly\n",
      "residents residence\n",
      "fields field\n",
      "fair fairly\n",
      "listing listed\n",
      "918 word pairs remained\n"
     ]
    }
   ],
   "source": [
    "# airbnb\n",
    "limit_paraphrase(snowball_stemmer, para_file = airbnb_path + '1_Process/word_paraphrase.pickle',para_thresh=0.15,\n",
    "                 coef_file = airbnb_path + '1_Process/word_coef.csv',coef_thresh=0.5,\n",
    "                 wdpair_file = airbnb_path + '1_Process/word_pairs.csv')"
   ]
  },
  {
   "cell_type": "markdown",
   "metadata": {},
   "source": [
    "### Remove pos_tag for word pairs\n",
    "- Each word might have several pos_tags <br>\n",
    "- Take intersection of word pair's pos_tags <br>"
   ]
  },
  {
   "cell_type": "code",
   "execution_count": 431,
   "metadata": {},
   "outputs": [],
   "source": [
    "def is_plural(wnl,word):\n",
    "    lemma = wnl.lemmatize(word, 'n')\n",
    "    if word is not lemma:\n",
    "        return True\n",
    "    else:\n",
    "        return False"
   ]
  },
  {
   "cell_type": "code",
   "execution_count": 597,
   "metadata": {},
   "outputs": [],
   "source": [
    "def check_wdpair_tags(wd_tags_file,para_file,clear_treat_pairs_file):\n",
    "    #wnl = WordNetLemmatizer()\n",
    "    wd_tags = pickle.load(open(wd_tags_file,'rb')) # wd_tags[word] = {'tag1': count1,'tag2': count2}\n",
    "    \"\"\"\n",
    "    word_tags = defaultdict(Counter)\n",
    "    for word, pos in brown.tagged_words():\n",
    "        word_tags[word][pos] +=1\n",
    "    \"\"\"\n",
    "    \n",
    "    para_pd = pd.read_csv(para_file)\n",
    "    remain_idx = []\n",
    "    for idx,row in para_pd.iterrows():\n",
    "        #if(is_plural(wnl,row.source) != is_plural(wnl,row.target)):\n",
    "        if((row.source in wd_tags) and (row.target in wd_tags)):\n",
    "            if(len(set(wd_tags[row.source].keys()).intersection(set(wd_tags[row.target].keys()))) > 0):\n",
    "                remain_idx.append(idx)\n",
    "            else:\n",
    "                src_flag = False\n",
    "                tar_flag = False\n",
    "                for t in ['JJ','JJR','JJS']:\n",
    "                    if(t in wd_tags[row.source]):\n",
    "                        src_flag = True\n",
    "                    if(t in wd_tags[row.target]):\n",
    "                        tar_flag = True\n",
    "                if((src_flag == True) and (tar_flag == True)):\n",
    "                    remain_idx.append(idx)\n",
    "                else:\n",
    "                    print(row.source,row.target)\n",
    "        else:\n",
    "            remain_idx.append(idx)\n",
    "            print(row.source,row.target, \"not exist\")\n",
    "    \n",
    "    pd.DataFrame(para_pd.iloc[remain_idx]).to_csv(clear_treat_pairs_file,index=False)\n",
    "    print(\"Removed %d word pairs, and remained %d word pairs.\" % (para_pd.shape[0]-len(remain_idx),len(remain_idx)))\n",
    "    #para_pd.drop(drop_idx)"
   ]
  },
  {
   "cell_type": "code",
   "execution_count": 602,
   "metadata": {
    "collapsed": true
   },
   "outputs": [
    {
     "name": "stdout",
     "output_type": "stream",
     "text": [
      "goods well\n",
      "homes house\n",
      "got gets\n",
      "theater theatres\n",
      "universities college\n",
      "bikes bicycle\n",
      "kind sorts\n",
      "no doesn not exist\n",
      "paths way\n",
      "artistic arts\n",
      "markets deal\n",
      "developed building\n",
      "road highways\n",
      "cinema movies\n",
      "city urban\n",
      "other another\n",
      "homes apartment\n",
      "through using\n",
      "group classes\n",
      "few some\n",
      "course paths\n",
      "number various\n",
      "goods great\n",
      "freeway highways\n",
      "variety different\n",
      "activities work\n",
      "provides show\n",
      "provides give\n",
      "fine beautifully\n",
      "mountain huge\n",
      "nearby neighbor\n",
      "following after\n",
      "views sight\n",
      "going goes\n",
      "several some\n",
      "almost some\n",
      "number numerous\n",
      "annual years\n",
      "some approximately\n",
      "seeing seen\n",
      "what deal\n",
      "whole any\n",
      "home hospitals\n",
      "homes hospital\n",
      "whole throughout\n",
      "range available\n",
      "homes residence\n",
      "fantastic everywhere\n",
      "happy enjoying\n",
      "with using\n",
      "majority predominantly\n",
      "cities urban\n",
      "several years\n",
      "views seen\n",
      "no don\n",
      "sights view\n",
      "recreational entertainment\n",
      "everywhere throughout\n",
      "variety various\n",
      "last recently\n",
      "maybe might\n",
      "group years\n",
      "other otherwise\n",
      "track trails\n",
      "look this\n",
      "without free\n",
      "last in\n",
      "steps course\n",
      "trail paths\n",
      "trails path\n",
      "provides deal\n",
      "highway roads\n",
      "lots highly\n",
      "experience famous\n",
      "track paths\n",
      "gets buy\n",
      "many lot\n",
      "like approximately\n",
      "directions guide\n",
      "stations post\n",
      "possibly might\n",
      "within home\n",
      "we stand\n",
      "extremely huge\n",
      "bands strip\n",
      "including same\n",
      "venue sites\n",
      "way done\n",
      "enjoying view\n",
      "view wide\n",
      "Removed 89 word pairs, and remained 750 word pairs.\n"
     ]
    }
   ],
   "source": [
    "# airbnb\n",
    "check_wdpair_tags(wd_tags_file = airbnb_path + '1_Process/wd_tags.pickle',\n",
    "                  para_file = airbnb_path + '1_Process/treat_pairs.csv',\n",
    "                  clear_treat_pairs_file = airbnb_path + '1_Process/treat_pairs_posinters.csv')"
   ]
  },
  {
   "cell_type": "code",
   "execution_count": 599,
   "metadata": {
    "collapsed": true
   },
   "outputs": [
    {
     "name": "stdout",
     "output_type": "stream",
     "text": [
      "shop stores\n",
      "thoughts think\n",
      "child children\n",
      "near closes\n",
      "clients customer\n",
      "search finds\n",
      "place houses\n",
      "fell dip\n",
      "pick took\n",
      "took pick\n",
      "pictures photo\n",
      "communicate shared\n",
      "problem difficult\n",
      "problems difficult\n",
      "served works\n",
      "purchases buying\n",
      "trainers instructor\n",
      "amenities facility\n",
      "conversation talking\n",
      "minutes record\n",
      "communicate share\n",
      "good beautifully\n",
      "final ending\n",
      "glad happily\n",
      "some few\n",
      "these present\n",
      "super beyond\n",
      "based beginning\n",
      "issue aspects\n",
      "places venue\n",
      "variety different\n",
      "woman ladies\n",
      "whole completely\n",
      "happily happy\n",
      "upgrade improving\n",
      "fine beautifully\n",
      "finished game\n",
      "delighted happily\n",
      "better improving\n",
      "seems appear\n",
      "seemed appears\n",
      "can bathroom\n",
      "some several\n",
      "without don\n",
      "value appreciative\n",
      "skilled expertise\n",
      "favors prefer\n",
      "experiences expertise\n",
      "bad damaged\n",
      "place installed\n",
      "doing have\n",
      "showed display\n",
      "saddened sad\n",
      "finished out\n",
      "shots photo\n",
      "skills expertise\n",
      "minor children\n",
      "began beginning\n",
      "doing done\n",
      "search reliable\n",
      "careful paid\n",
      "finished conclusion\n",
      "full totally\n",
      "wife ladies\n",
      "doing like\n",
      "years several\n",
      "finished ending\n",
      "buddies boyfriend\n",
      "recommended suggestions\n",
      "inexperienced expertise\n",
      "son children\n",
      "search accessible\n",
      "moved changes\n",
      "responded address\n",
      "places location\n",
      "typical model\n",
      "might maybe\n",
      "replacing changes\n",
      "problems challenge\n",
      "search related\n",
      "mein my\n",
      "famous experience\n",
      "favourite prefer\n",
      "changed different\n",
      "teachers instructor\n",
      "search focused\n",
      "exceptions emergency\n",
      "stand we\n",
      "present offered\n",
      "anyone those\n",
      "search arriving\n",
      "anybody those\n",
      "don could\n",
      "good happily\n",
      "Removed 94 word pairs, and remained 730 word pairs.\n"
     ]
    }
   ],
   "source": [
    "# yelp\n",
    "check_wdpair_tags(wd_tags_file = yp_path + '1_Process/wd_tags.pickle',\n",
    "                  para_file = yp_path + '1_Process/treat_pairs.csv',\n",
    "                  clear_treat_pairs_file = yp_path + '1_Process/treat_pairs_posinters.csv')"
   ]
  },
  {
   "cell_type": "code",
   "execution_count": 603,
   "metadata": {
    "collapsed": true
   },
   "outputs": [
    {
     "name": "stdout",
     "output_type": "stream",
     "text": [
      "man mens\n",
      "well goods\n",
      "got gets\n",
      "children child\n",
      "wins won\n",
      "went go\n",
      "display shown\n",
      "shows display\n",
      "fell fall\n",
      "alright goods\n",
      "ground reasons\n",
      "moms mama\n",
      "waking awake\n",
      "changes shift\n",
      "consist are\n",
      "photo pictures\n",
      "shift changes\n",
      "links bound\n",
      "shows shown\n",
      "moves shift\n",
      "daddy dads\n",
      "with wth\n",
      "amigos friends not exist\n",
      "position posts\n",
      "precious honey\n",
      "some few\n",
      "links tied\n",
      "pals friend\n",
      "photo pics\n",
      "great goods\n",
      "beyond super\n",
      "final closing\n",
      "joy happy\n",
      "happy joy\n",
      "chief heads\n",
      "sounds good\n",
      "game finished\n",
      "committed crime\n",
      "highlights celebrating\n",
      "some several\n",
      "some almost\n",
      "records registered\n",
      "hello goodmorning\n",
      "limited rarely\n",
      "typical telling\n",
      "seen seeing\n",
      "cause reasons\n",
      "moms mommy\n",
      "hit kicks\n",
      "any entire\n",
      "doing have\n",
      "offer creating\n",
      "mo missouri not exist\n",
      "build creating\n",
      "yea when\n",
      "play sounds\n",
      "enjoying love\n",
      "whom are\n",
      "isle islands\n",
      "enjoying happy\n",
      "links bonding\n",
      "using with\n",
      "using users\n",
      "guy him\n",
      "address treating\n",
      "limited beyond\n",
      "network communicate\n",
      "wife ladies\n",
      "fights wrestling\n",
      "buddies boyfriend\n",
      "son children\n",
      "man dudes\n",
      "communicate exhibit\n",
      "good products\n",
      "slow slowly\n",
      "join entering\n",
      "media mean\n",
      "worried anxiety\n",
      "rose pink\n",
      "join adding\n",
      "slide fell\n",
      "any honey\n",
      "fears afraid\n",
      "treating therapy\n",
      "everything entire\n",
      "honey little\n",
      "dig enjoying\n",
      "treasure precious\n",
      "wins victory\n",
      "don just\n",
      "going super\n",
      "friends honey\n",
      "forward communicate\n",
      "mine my\n",
      "enjoying loves\n",
      "surprise unexpected\n",
      "fights struggling\n",
      "fight struggling\n",
      "if honey\n",
      "join into\n",
      "current exist\n",
      "monster huge\n",
      "thy our\n",
      "release fired\n",
      "really honey\n",
      "becomes are\n",
      "everything just\n",
      "goals target\n",
      "gorgeous honey\n",
      "point items\n",
      "enjoyed nationals\n",
      "anybody those\n",
      "using follow\n",
      "if fi\n",
      "Removed 112 word pairs, and remained 826 word pairs.\n"
     ]
    }
   ],
   "source": [
    "# twitter\n",
    "check_wdpair_tags(wd_tags_file = tw_path + '1_Process/wd_tags.pickle',\n",
    "                  para_file = tw_path + '1_Process/treat_pairs.csv',\n",
    "                  clear_treat_pairs_file = tw_path + '1_Process/treat_pairs_posinters.csv')"
   ]
  },
  {
   "cell_type": "code",
   "execution_count": 607,
   "metadata": {
    "collapsed": true
   },
   "outputs": [],
   "source": [
    "wd_tags = pickle.load(open(tw_path + '1_Process/wd_tags.pickle','rb'))"
   ]
  },
  {
   "cell_type": "code",
   "execution_count": 611,
   "metadata": {},
   "outputs": [
    {
     "data": {
      "text/plain": [
       "Counter({'NN': 252})"
      ]
     },
     "execution_count": 611,
     "metadata": {},
     "output_type": "execute_result"
    }
   ],
   "source": [
    "wd_tags['ink']"
   ]
  },
  {
   "cell_type": "code",
   "execution_count": 609,
   "metadata": {},
   "outputs": [
    {
     "data": {
      "text/plain": [
       "Counter({'JJ': 33, 'NN': 104, 'VB': 169})"
      ]
     },
     "execution_count": 609,
     "metadata": {},
     "output_type": "execute_result"
    }
   ],
   "source": [
    "wd_tags['dye']"
   ]
  },
  {
   "cell_type": "markdown",
   "metadata": {},
   "source": [
    "### Label by sentence"
   ]
  },
  {
   "cell_type": "code",
   "execution_count": 225,
   "metadata": {
    "collapsed": true
   },
   "outputs": [],
   "source": [
    "def label_bysents_airbnb(data_file, label_bysent_file, label_bysent_mark_file):\n",
    "    \"\"\"\n",
    "    This function only applies for airbnb data.\n",
    "    Each neighborhood overview is an instance, label it by comparing city_crime and hood_crime.\n",
    "    \"\"\"\n",
    "    \n",
    "    sents_list = []\n",
    "    mark_list = []\n",
    "    label_list = []\n",
    "    data_pd = pd.DataFrame(pickle.load(open(data_file,'rb'))).drop_duplicates('hood_overviews',keep='last')\n",
    "    for idx,row in data_pd.iterrows():\n",
    "        if(idx % 20000 == 0):\n",
    "            print(idx)\n",
    "        sents = sent_tokenize(row.hood_overviews)\n",
    "        sents_list.extend(sents)\n",
    "        mark_list.extend([mark_postag(text) for text in sents])\n",
    "        \n",
    "        if(float(row.hood_crime) < float(row.city_crime)):\n",
    "            label_list.extend(list(np.ones(len(sents))))\n",
    "        elif(float(row.hood_crime) >= float(row.city_crime)):\n",
    "            label_list.extend(list(np.zeros(len(sents))))\n",
    "        \n",
    "        \n",
    "    #pickle.dump({'sentence':sents_list,'label':label_list},open(label_bysent_file,'wb'))\n",
    "    #pickle.dump({'sentence':mark_list,'label':label_list},open(label_bysent_mark_file,'wb'))\n",
    "    print(\"%d sentences with %d labels\" % (len(sents_list),len(label_list)))\n",
    "    print(Counter(label_list))"
   ]
  },
  {
   "cell_type": "code",
   "execution_count": 227,
   "metadata": {},
   "outputs": [
    {
     "name": "stdout",
     "output_type": "stream",
     "text": [
      "0\n",
      "20000\n",
      "40000\n",
      "60000\n",
      "80000\n",
      "358750 sentences with 358750 labels\n",
      "Counter({1.0: 292640, 0.0: 66110})\n"
     ]
    }
   ],
   "source": [
    "label_bysents_airbnb(data_file = airbnb_path+'0_Data/city_hood_byview.pickle',\n",
    "                     label_bysent_file = airbnb_path+'1_Process/airbnb_labelby_sents_intotal.pickle',\n",
    "                     label_bysent_mark_file = airbnb_path+'1_Process/airbnb_labelby_sents_postag_intotal.pickle')"
   ]
  },
  {
   "cell_type": "code",
   "execution_count": 238,
   "metadata": {
    "collapsed": true
   },
   "outputs": [],
   "source": [
    "def label_bysents_gender(content_file,label_file,label_bysent_file,label_bysent_mark_file,flag):\n",
    "    \"\"\"\n",
    "    This function only applies for twitter and yelp gender data.\n",
    "    \"\"\"\n",
    "    sents_list = []\n",
    "    with open(content_file,'r') as dataf:\n",
    "        for line in dataf:\n",
    "            sents_list.append(re.findall('<s> ([^<][^/][^s][^>]+) </s>',line.strip()))\n",
    "    dataf.close()\n",
    "    \n",
    "    sig_sents_list = []\n",
    "    marked_sents_list = []\n",
    "    label_list = []\n",
    "    i = -1\n",
    "    with open(label_file,'r') as lbf:\n",
    "        for line in lbf:\n",
    "            i += 1\n",
    "            if(i % 10000 == 0):\n",
    "                print(i)\n",
    "            n_sents = 0\n",
    "            for sent in sents_list[i]:\n",
    "                if(flag == 'tw'): # one tweet as one sentence\n",
    "                    sig_sents_list.append(sent)\n",
    "                    marked_sents_list.append(mark_postag(sent)) \n",
    "                    n_sents += 1\n",
    "                elif(flag == 'yp'): # one review contains several sentences\n",
    "                    sig_sents_list.extend(sent_tokenize(sent))\n",
    "                    marked_sents_list.extend([mark_postag(text) for text in sent_tokenize(sent)]) \n",
    "                    n_sents += len(sent_tokenize(sent))\n",
    "            \n",
    "            if(line.strip() == 'M'):\n",
    "                label_list.extend(list(np.ones(n_sents)))\n",
    "            elif(line.strip() == 'F'):\n",
    "                label_list.extend(list(np.zeros(n_sents)))\n",
    "            else:\n",
    "                print('error')\n",
    "                \n",
    "    lbf.close()\n",
    "    \n",
    "    #pickle.dump({'sentence':sig_sents_list,'label':label_list},open(label_bysent_file,'wb'))\n",
    "    #pickle.dump({'sentence':marked_sents_list,'label':label_list},open(label_bysent_mark_file,'wb'))\n",
    "    print(\"%d sentences with %d labels\" % (len(sig_sents_list),len(label_list)))\n",
    "    print(Counter(label_list))"
   ]
  },
  {
   "cell_type": "code",
   "execution_count": 208,
   "metadata": {},
   "outputs": [
    {
     "name": "stdout",
     "output_type": "stream",
     "text": [
      "0\n",
      "10000\n",
      "20000\n",
      "30000\n",
      "40000\n",
      "50000\n",
      "60000\n",
      "70000\n",
      "80000\n",
      "90000\n",
      "1341550 sentences with 1341550 labels\n",
      "Counter({0.0: 745306, 1.0: 596244})\n"
     ]
    }
   ],
   "source": [
    "label_bysents_gender(content_file = tw_path+'0_Data/tw.text', label_file = tw_path+'0_Data/tw.labels',\n",
    "                     label_bysent_file = tw_path+'1_Process/tw_labelby_sents_intotal.pickle',\n",
    "                     label_bysent_mark_file = tw_path+'1_Process/tw_labelby_sents_postag_intotal.pickle',,flag='tw')"
   ]
  },
  {
   "cell_type": "code",
   "execution_count": 241,
   "metadata": {},
   "outputs": [
    {
     "data": {
      "text/plain": [
       "((1369991, 2), (1369991, 2))"
      ]
     },
     "execution_count": 241,
     "metadata": {},
     "output_type": "execute_result"
    }
   ],
   "source": [
    "test_pd = pd.DataFrame(pickle.load(open(yp_path+'1_Process/yp_labelby_sents_intotal.pickle','rb')))\n",
    "mark_pd = pd.DataFrame(pickle.load(open(yp_path+'1_Process/yp_labelby_sents_postag_intotal.pickle','rb')))\n",
    "test_pd.shape, mark_pd.shape"
   ]
  },
  {
   "cell_type": "code",
   "execution_count": 247,
   "metadata": {},
   "outputs": [
    {
     "data": {
      "text/plain": [
       "'Four stars for expensive food that is appropriately good , but not great great .'"
      ]
     },
     "execution_count": 247,
     "metadata": {},
     "output_type": "execute_result"
    }
   ],
   "source": [
    "test_pd.iloc[1000].sentence"
   ]
  },
  {
   "cell_type": "code",
   "execution_count": 248,
   "metadata": {},
   "outputs": [
    {
     "data": {
      "text/plain": [
       "'_NUMBER_ stars for expensive food that is appropriately good , but not great great . '"
      ]
     },
     "execution_count": 248,
     "metadata": {},
     "output_type": "execute_result"
    }
   ],
   "source": [
    "mark_pd.iloc[1000].sentence"
   ]
  },
  {
   "cell_type": "code",
   "execution_count": 240,
   "metadata": {},
   "outputs": [
    {
     "name": "stdout",
     "output_type": "stream",
     "text": [
      "0\n",
      "10000\n",
      "20000\n",
      "30000\n",
      "40000\n",
      "1369991 sentences with 1369991 labels\n",
      "Counter({0.0: 743446, 1.0: 626545})\n"
     ]
    }
   ],
   "source": [
    "label_bysents_gender(content_file = yp_path+'0_Data/yp.text', label_file = yp_path+'0_Data/yp.labels',\n",
    "                     label_bysent_file = yp_path+'1_Process/yp_labelby_sents_intotal.pickle',\n",
    "                     label_bysent_mark_file = yp_path+'1_Process/yp_labelby_sents_postag_intotal.pickle',flag='yp')"
   ]
  },
  {
   "cell_type": "code",
   "execution_count": 4,
   "metadata": {},
   "outputs": [
    {
     "data": {
      "text/plain": [
       "(1369991, 2)"
      ]
     },
     "execution_count": 4,
     "metadata": {},
     "output_type": "execute_result"
    }
   ],
   "source": [
    "yp_sent_pd = pd.DataFrame(pickle.load(open(yp_path+'1_Process/yp_labelby_sents_intotal.pickle','rb')))\n",
    "yp_sent_pd.shape"
   ]
  },
  {
   "cell_type": "markdown",
   "metadata": {},
   "source": [
    "### 1.4 Limit to containing instances"
   ]
  },
  {
   "cell_type": "code",
   "execution_count": 277,
   "metadata": {
    "collapsed": true
   },
   "outputs": [],
   "source": [
    "def check_contain_sents(sent_file,wdpair_file,contain_file):\n",
    "    sents_pd = pd.DataFrame(pickle.load(open(sent_file,'rb')))\n",
    "    limit_vocab = list(set(list(pd.read_csv(wdpair_file).source.values)+list(pd.read_csv(wdpair_file).target.values)))\n",
    "    print(\"%d unique words\" % len(limit_vocab))\n",
    "    ct_vec = CountVectorizer(binary=True, ngram_range=(1,1), vocabulary=limit_vocab)\n",
    "    \n",
    "    contain_sents = []\n",
    "    contain_lbs = []\n",
    "    \n",
    "    all_sents = sents_pd.sentence.values\n",
    "    all_labels = sents_pd.label.values\n",
    "    \n",
    "    X_sents = ct_vec.fit_transform(all_sents)\n",
    "    \n",
    "    vocab = ct_vec.get_feature_names()\n",
    "    \n",
    "    for rowi in range(X_sents.shape[0]):\n",
    "        if(len(X_sents[rowi].nonzero()[1])>0):\n",
    "            contain_sents.append(all_sents[rowi])\n",
    "            contain_lbs.append(all_labels[rowi])\n",
    "    \n",
    "    pickle.dump(pd.DataFrame({'sentence':contain_sents,'label':contain_lbs}).drop_duplicates(keep='first'),\n",
    "                open(contain_file,'wb'))"
   ]
  },
  {
   "cell_type": "code",
   "execution_count": 279,
   "metadata": {},
   "outputs": [
    {
     "name": "stdout",
     "output_type": "stream",
     "text": [
      "857 unique words\n"
     ]
    }
   ],
   "source": [
    "this_path = tw_path\n",
    "prefix = 'tw'\n",
    "check_contain_sents(sent_file = this_path+'1_Process/'+prefix+'_labelby_sents_intotal.pickle',\n",
    "                    wdpair_file = this_path+'1_Process/word_pairs.csv',\n",
    "                    contain_file = this_path+'1_Process/'+prefix+'_allcontain_sents.pickle')"
   ]
  },
  {
   "cell_type": "code",
   "execution_count": 280,
   "metadata": {},
   "outputs": [
    {
     "name": "stdout",
     "output_type": "stream",
     "text": [
      "590 unique words\n"
     ]
    }
   ],
   "source": [
    "this_path = yp_path\n",
    "prefix = 'yp'\n",
    "check_contain_sents(sent_file = this_path+'1_Process/'+prefix+'_labelby_sents_intotal.pickle',\n",
    "                    wdpair_file = this_path+'1_Process/word_pairs.csv',\n",
    "                    contain_file = this_path+'1_Process/'+prefix+'_allcontain_sents.pickle')"
   ]
  },
  {
   "cell_type": "code",
   "execution_count": 281,
   "metadata": {},
   "outputs": [
    {
     "name": "stdout",
     "output_type": "stream",
     "text": [
      "607 unique words\n"
     ]
    }
   ],
   "source": [
    "this_path = airbnb_path\n",
    "prefix = 'airbnb'\n",
    "check_contain_sents(sent_file = this_path+'1_Process/'+prefix+'_labelby_sents_intotal.pickle',\n",
    "                    wdpair_file = this_path+'1_Process/word_pairs.csv',\n",
    "                    contain_file = this_path+'1_Process/'+prefix+'_allcontain_sents.pickle')"
   ]
  },
  {
   "cell_type": "markdown",
   "metadata": {},
   "source": [
    "### 1.5 Split containing sentences into 2 folds, stratified kfold"
   ]
  },
  {
   "cell_type": "code",
   "execution_count": 282,
   "metadata": {
    "collapsed": true
   },
   "outputs": [],
   "source": [
    "def split_containing_sents(sent_label_file,train_file,test_file):\n",
    "    sent_lb_pd = pd.DataFrame(pickle.load(open(sent_label_file,'rb')))\n",
    "    skf = StratifiedKFold(n_splits=2,random_state=42)\n",
    "    train_sents = []\n",
    "    train_label = []\n",
    "    test_sents = []\n",
    "    test_label = []\n",
    "    for train_index, test_index in skf.split(sent_lb_pd.sentence.values, sent_lb_pd.label.values):\n",
    "        for train_idx in train_index:\n",
    "            train_sents.append(sent_lb_pd.iloc[train_idx].sentence)\n",
    "            train_label.append(sent_lb_pd.iloc[train_idx].label)\n",
    "        for test_idx in test_index:\n",
    "            test_sents.append(sent_lb_pd.iloc[test_idx].sentence)\n",
    "            test_label.append(sent_lb_pd.iloc[test_idx].label)\n",
    "        break\n",
    "    print(Counter(sent_lb_pd.label.values),Counter(train_label),Counter(test_label))\n",
    "    pickle.dump({'sentence':train_sents,'label':train_label},open(train_file,'wb'))\n",
    "    pickle.dump({'sentence':test_sents,'label':test_label},open(test_file,'wb'))"
   ]
  },
  {
   "cell_type": "code",
   "execution_count": 284,
   "metadata": {},
   "outputs": [
    {
     "name": "stdout",
     "output_type": "stream",
     "text": [
      "Counter({0.0: 583982, 1.0: 441562}) Counter({0.0: 291991, 1.0: 220781}) Counter({0.0: 291991, 1.0: 220781})\n"
     ]
    }
   ],
   "source": [
    "this_path = tw_path\n",
    "prefix = 'tw'\n",
    "split_containing_sents(sent_label_file = this_path+'1_Process/'+prefix+'_allcontain_sents.pickle',\n",
    "                       train_file = this_path+'1_Process/'+prefix+'_train_containing_sents.pickle',\n",
    "                       test_file = this_path+'1_Process/'+prefix+'_test_containing_sents.pickle')"
   ]
  },
  {
   "cell_type": "code",
   "execution_count": 285,
   "metadata": {},
   "outputs": [
    {
     "name": "stdout",
     "output_type": "stream",
     "text": [
      "Counter({0.0: 582792, 1.0: 492893}) Counter({0.0: 291396, 1.0: 246446}) Counter({0.0: 291396, 1.0: 246447})\n"
     ]
    }
   ],
   "source": [
    "this_path = yp_path\n",
    "prefix = 'yp'\n",
    "split_containing_sents(sent_label_file = this_path+'1_Process/'+prefix+'_allcontain_sents.pickle',\n",
    "                       train_file = this_path+'1_Process/'+prefix+'_train_containing_sents.pickle',\n",
    "                       test_file = this_path+'1_Process/'+prefix+'_test_containing_sents.pickle')"
   ]
  },
  {
   "cell_type": "code",
   "execution_count": 286,
   "metadata": {},
   "outputs": [
    {
     "name": "stdout",
     "output_type": "stream",
     "text": [
      "Counter({1.0: 224603, 0.0: 49866}) Counter({1.0: 112301, 0.0: 24933}) Counter({1.0: 112302, 0.0: 24933})\n"
     ]
    }
   ],
   "source": [
    "this_path = airbnb_path\n",
    "prefix = 'airbnb'\n",
    "split_containing_sents(sent_label_file = this_path+'1_Process/'+prefix+'_allcontain_sents.pickle',\n",
    "                       train_file = this_path+'1_Process/'+prefix+'_train_containing_sents.pickle',\n",
    "                       test_file = this_path+'1_Process/'+prefix+'_test_containing_sents.pickle')"
   ]
  },
  {
   "cell_type": "markdown",
   "metadata": {},
   "source": [
    "### 1.5 Map word to containing sentences <br>\n",
    "- limit to pos+neg 5000 according to ratio <br>\n",
    "- Calculate word frequency, ratio <br>\n",
    "- Remove low frequency words and get treatment word pairs"
   ]
  },
  {
   "cell_type": "code",
   "execution_count": 386,
   "metadata": {
    "collapsed": true
   },
   "outputs": [],
   "source": [
    "def map_wd2sents(sentence_file,wdpair_file,wd_sents_file):\n",
    "    sents_pd = pd.DataFrame(pickle.load(open(sentence_file,'rb')))\n",
    "    limit_vocab = list(set(list(pd.read_csv(wdpair_file).source.values)+list(pd.read_csv(wdpair_file).target.values)))\n",
    "    print(\"%d unique words\" % len(limit_vocab))\n",
    "    ct_vec = CountVectorizer(binary=True, ngram_range=(1,1), vocabulary=limit_vocab)\n",
    "    wd_sents_info = [] #list of dict: [word,pos_sents,neg_sents]\n",
    "    \n",
    "    all_sents = sents_pd.sentence.values\n",
    "    all_labels = sents_pd.label.values\n",
    "    X_sents = ct_vec.fit_transform(all_sents)\n",
    "    vocab = ct_vec.get_feature_names()\n",
    "    for columi in range(X_sents.shape[1]):\n",
    "        wd = vocab[columi]\n",
    "        row_idx = X_sents[:,columi].nonzero()[0]\n",
    "        if(len(row_idx)>0):\n",
    "            pos_sents = []\n",
    "            neg_sents = []\n",
    "            for rowi in row_idx:\n",
    "                if(all_labels[rowi] == 1):\n",
    "                    pos_sents.append(all_sents[rowi])\n",
    "                elif(all_labels[rowi] == 0):\n",
    "                    neg_sents.append(all_sents[rowi])\n",
    "        wd_sents_info.append({'word':wd,'pos_sents':list(set(pos_sents)),'neg_sents':list(set(neg_sents))})\n",
    "        \n",
    "    pickle.dump(wd_sents_info, open(wd_sents_file, \"wb\")) "
   ]
  },
  {
   "cell_type": "code",
   "execution_count": 387,
   "metadata": {},
   "outputs": [
    {
     "name": "stdout",
     "output_type": "stream",
     "text": [
      "857 unique words\n"
     ]
    }
   ],
   "source": [
    "this_path = tw_path\n",
    "prefix = 'tw'\n",
    "map_wd2sents(sentence_file = this_path+'1_Process/'+prefix+'_train_containing_sents.pickle',\n",
    "             wdpair_file = this_path+'1_Process/word_pairs.csv',\n",
    "             wd_sents_file = this_path+'1_Process/'+prefix+'_wd_sents.pickle')"
   ]
  },
  {
   "cell_type": "code",
   "execution_count": 388,
   "metadata": {},
   "outputs": [
    {
     "name": "stdout",
     "output_type": "stream",
     "text": [
      "590 unique words\n"
     ]
    }
   ],
   "source": [
    "this_path = yp_path\n",
    "prefix = 'yp'\n",
    "map_wd2sents(sentence_file = this_path+'1_Process/'+prefix+'_train_containing_sents.pickle',\n",
    "             wdpair_file = this_path+'1_Process/word_pairs.csv',\n",
    "             wd_sents_file = this_path+'1_Process/'+prefix+'_wd_sents.pickle')"
   ]
  },
  {
   "cell_type": "code",
   "execution_count": 389,
   "metadata": {},
   "outputs": [
    {
     "name": "stdout",
     "output_type": "stream",
     "text": [
      "607 unique words\n"
     ]
    }
   ],
   "source": [
    "this_path = airbnb_path\n",
    "prefix = 'airbnb'\n",
    "map_wd2sents(sentence_file = this_path+'1_Process/'+prefix+'_train_containing_sents.pickle',\n",
    "             wdpair_file = this_path+'1_Process/word_pairs.csv',\n",
    "             wd_sents_file = this_path+'1_Process/'+prefix+'_wd_sents.pickle')"
   ]
  },
  {
   "cell_type": "code",
   "execution_count": 390,
   "metadata": {
    "collapsed": true
   },
   "outputs": [],
   "source": [
    "def limit_sents_byratio(wd_sents_file,wd_sents_limit_file,wd_ratio_file,thresh):\n",
    "    wd_sents_pd = pd.DataFrame(pickle.load(open(wd_sents_file,'rb')))\n",
    "    wd_sents_limit = []\n",
    "    wd_ratio = []\n",
    "    for idx, row in wd_sents_pd.iterrows():\n",
    "        pos_sents = []\n",
    "        neg_sents = []\n",
    "        \n",
    "        if(len(row['pos_sents']) + len(row['neg_sents']) > thresh):\n",
    "            pos_perct = len(row['pos_sents'])/(len(row['pos_sents'])+len(row['neg_sents']))\n",
    "            pos_rand_idx = random.sample(range(len(row['pos_sents'])),int(thresh*pos_perct))\n",
    "            pos_sents = [row['pos_sents'][idx] for idx in pos_rand_idx]\n",
    "            \n",
    "            neg_rand_idx = random.sample(range(len(row['neg_sents'])),int(thresh*(1-pos_perct)))\n",
    "            neg_sents = [row['neg_sents'][idx] for idx in neg_rand_idx]\n",
    "        else:\n",
    "            pos_sents = row['pos_sents']\n",
    "            neg_sents = row['neg_sents']\n",
    "        \n",
    "        wd_ratio.append({'word':row.word,'n_pos':len(pos_sents),'n_neg':len(neg_sents),\n",
    "                        'pos_neg_ratio':round((len(row.pos_sents)+1)/(len(row.neg_sents)+1),5)})\n",
    "        wd_sents_limit.append({'word':row.word,'pos_sents':pos_sents,'neg_sents':neg_sents})\n",
    "    \n",
    "    pickle.dump(wd_sents_limit,open(wd_sents_limit_file,'wb'))\n",
    "    pd.DataFrame(wd_ratio).to_csv(wd_ratio_file,columns=['word','n_pos','n_neg','pos_neg_ratio'],index=False)"
   ]
  },
  {
   "cell_type": "code",
   "execution_count": 391,
   "metadata": {},
   "outputs": [],
   "source": [
    "this_path = tw_path\n",
    "prefix = 'tw'\n",
    "limit_sents_byratio(wd_sents_file = this_path+'1_Process/'+prefix+'_wd_sents.pickle',\n",
    "                    wd_sents_limit_file = this_path+'1_Process/'+prefix+'_wd_sents_limit5000.pickle',\n",
    "                    wd_ratio_file = this_path+'1_Process/'+prefix+'_wd_ratio_limit5000.csv',\n",
    "                    thresh = 5000)"
   ]
  },
  {
   "cell_type": "code",
   "execution_count": 398,
   "metadata": {},
   "outputs": [],
   "source": [
    "this_path = yp_path\n",
    "prefix = 'yp'\n",
    "limit_sents_byratio(wd_sents_file = this_path+'1_Process/'+prefix+'_wd_sents.pickle',\n",
    "                    wd_sents_limit_file = this_path+'1_Process/'+prefix+'_wd_sents_limit5000.pickle',\n",
    "                    wd_ratio_file = this_path+'1_Process/'+prefix+'_wd_ratio_limit5000.csv',\n",
    "                    thresh = 5000)"
   ]
  },
  {
   "cell_type": "code",
   "execution_count": 399,
   "metadata": {},
   "outputs": [],
   "source": [
    "this_path = airbnb_path\n",
    "prefix = 'airbnb'\n",
    "limit_sents_byratio(wd_sents_file = this_path+'1_Process/'+prefix+'_wd_sents.pickle',\n",
    "                    wd_sents_limit_file = this_path+'1_Process/'+prefix+'_wd_sents_limit5000.pickle',\n",
    "                    wd_ratio_file = this_path+'1_Process/'+prefix+'_wd_ratio_limit5000.csv',\n",
    "                    thresh = 5000)"
   ]
  },
  {
   "cell_type": "code",
   "execution_count": 404,
   "metadata": {},
   "outputs": [
    {
     "data": {
      "text/plain": [
       "(857, 3)"
      ]
     },
     "execution_count": 404,
     "metadata": {},
     "output_type": "execute_result"
    }
   ],
   "source": [
    "wd_pd = pd.DataFrame(pickle.load(open(tw_path+'1_Process/tw_wd_sents.pickle','rb')))\n",
    "wd_pd.shape"
   ]
  },
  {
   "cell_type": "code",
   "execution_count": 406,
   "metadata": {},
   "outputs": [
    {
     "data": {
      "text/html": [
       "<div>\n",
       "<table border=\"1\" class=\"dataframe\">\n",
       "  <thead>\n",
       "    <tr style=\"text-align: right;\">\n",
       "      <th></th>\n",
       "      <th>neg_sents</th>\n",
       "      <th>pos_sents</th>\n",
       "      <th>word</th>\n",
       "    </tr>\n",
       "  </thead>\n",
       "  <tbody>\n",
       "    <tr>\n",
       "      <th>0</th>\n",
       "      <td>[Your boyfriends are corny . Stop screen shott...</td>\n",
       "      <td>[\" Because she's nasty and skanky . That's why...</td>\n",
       "      <td>boyfriends</td>\n",
       "    </tr>\n",
       "    <tr>\n",
       "      <th>1</th>\n",
       "      <td>[There is a swarm of hot biker ... Come on lem...</td>\n",
       "      <td>[Letters , aviators , plaid shirt , proto bear...</td>\n",
       "      <td>bicycle</td>\n",
       "    </tr>\n",
       "    <tr>\n",
       "      <th>2</th>\n",
       "      <td>[if you tweet or retweet spam links or links t...</td>\n",
       "      <td>[At Broussard's Links and Ribs https://t.co/zU...</td>\n",
       "      <td>links</td>\n",
       "    </tr>\n",
       "    <tr>\n",
       "      <th>3</th>\n",
       "      <td>[send me nudies . kik : chelleocean . expect n...</td>\n",
       "      <td>[When we give , we shouldn't expect anything i...</td>\n",
       "      <td>return</td>\n",
       "    </tr>\n",
       "    <tr>\n",
       "      <th>4</th>\n",
       "      <td>[drinking my last coke .. lknvfslknf #caffineh...</td>\n",
       "      <td>[Drug problems are the worst way to go ., Had ...</td>\n",
       "      <td>worst</td>\n",
       "    </tr>\n",
       "  </tbody>\n",
       "</table>\n",
       "</div>"
      ],
      "text/plain": [
       "                                           neg_sents  \\\n",
       "0  [Your boyfriends are corny . Stop screen shott...   \n",
       "1  [There is a swarm of hot biker ... Come on lem...   \n",
       "2  [if you tweet or retweet spam links or links t...   \n",
       "3  [send me nudies . kik : chelleocean . expect n...   \n",
       "4  [drinking my last coke .. lknvfslknf #caffineh...   \n",
       "\n",
       "                                           pos_sents        word  \n",
       "0  [\" Because she's nasty and skanky . That's why...  boyfriends  \n",
       "1  [Letters , aviators , plaid shirt , proto bear...     bicycle  \n",
       "2  [At Broussard's Links and Ribs https://t.co/zU...       links  \n",
       "3  [When we give , we shouldn't expect anything i...      return  \n",
       "4  [Drug problems are the worst way to go ., Had ...       worst  "
      ]
     },
     "execution_count": 406,
     "metadata": {},
     "output_type": "execute_result"
    }
   ],
   "source": [
    "wd_pd.head()"
   ]
  },
  {
   "cell_type": "code",
   "execution_count": 400,
   "metadata": {
    "collapsed": true
   },
   "outputs": [],
   "source": [
    "def get_treat_wdpairs(wdpair_file,wd_ratio_file,treat_wdpairs_file):\n",
    "    wdpair_pd = pd.read_csv(wdpair_file)\n",
    "    wd_ratio_pd = pd.read_csv(wd_ratio_file)\n",
    "    treat_pairs = []\n",
    "    for idx,row in wdpair_pd.iterrows():\n",
    "        src_pd = wd_ratio_pd[wd_ratio_pd.word == row.source]\n",
    "        tar_pd = wd_ratio_pd[wd_ratio_pd.word == row.target]\n",
    "        if((src_pd.n_pos.values[0] > 10) and (src_pd.n_neg.values[0] > 10) and (tar_pd.n_pos.values[0] > 10) and (tar_pd.n_neg.values[0] > 10)):\n",
    "            treat_pairs.append({'source':row.source,'target':row.target,\n",
    "                                'src_n_pos':src_pd.n_pos.values[0],'src_n_neg':src_pd.n_neg.values[0],'src_pos_neg_ratio':src_pd.pos_neg_ratio.values[0],\n",
    "                                'tar_n_pos':tar_pd.n_pos.values[0],'tar_n_neg':tar_pd.n_neg.values[0],'tar_pos_neg_ratio':tar_pd.pos_neg_ratio.values[0],\n",
    "                                'src_coef':row.source_coef,'tar_coef':row.target_coef,'para_score':row.para_score})\n",
    "    \n",
    "    print(\"%d remaining word pairs.\" % len(treat_pairs))\n",
    "    pd.DataFrame(treat_pairs).to_csv(treat_wdpairs_file,\n",
    "                                     columns=['source','target','src_n_pos','src_n_neg','src_pos_neg_ratio',\n",
    "                                              'tar_n_pos','tar_n_neg','tar_pos_neg_ratio',\n",
    "                                              'src_coef','tar_coef','para_score'],index=False)"
   ]
  },
  {
   "cell_type": "code",
   "execution_count": 401,
   "metadata": {},
   "outputs": [
    {
     "name": "stdout",
     "output_type": "stream",
     "text": [
      "938 remaining word pairs.\n"
     ]
    }
   ],
   "source": [
    "this_path = tw_path\n",
    "prefix = 'tw'\n",
    "get_treat_wdpairs(wdpair_file = this_path+'1_Process/word_pairs.csv',\n",
    "                  wd_ratio_file = this_path+'1_Process/'+prefix+'_wd_ratio_limit5000.csv',\n",
    "                  treat_wdpairs_file = this_path+'1_Process/treat_pairs.csv')"
   ]
  },
  {
   "cell_type": "code",
   "execution_count": 402,
   "metadata": {},
   "outputs": [
    {
     "name": "stdout",
     "output_type": "stream",
     "text": [
      "824 remaining word pairs.\n"
     ]
    }
   ],
   "source": [
    "this_path = yp_path\n",
    "prefix = 'yp'\n",
    "get_treat_wdpairs(wdpair_file = this_path+'1_Process/word_pairs.csv',\n",
    "                  wd_ratio_file = this_path+'1_Process/'+prefix+'_wd_ratio_limit5000.csv',\n",
    "                  treat_wdpairs_file = this_path+'1_Process/treat_pairs.csv')"
   ]
  },
  {
   "cell_type": "code",
   "execution_count": 403,
   "metadata": {},
   "outputs": [
    {
     "name": "stdout",
     "output_type": "stream",
     "text": [
      "839 remaining word pairs.\n"
     ]
    }
   ],
   "source": [
    "this_path = airbnb_path\n",
    "prefix = 'airbnb'\n",
    "get_treat_wdpairs(wdpair_file = this_path+'1_Process/word_pairs.csv',\n",
    "                  wd_ratio_file = this_path+'1_Process/'+prefix+'_wd_ratio_limit5000.csv',\n",
    "                  treat_wdpairs_file = this_path+'1_Process/treat_pairs.csv')"
   ]
  },
  {
   "cell_type": "markdown",
   "metadata": {},
   "source": [
    "### Map treatment word pairs into sentences"
   ]
  },
  {
   "cell_type": "code",
   "execution_count": 407,
   "metadata": {
    "collapsed": true
   },
   "outputs": [],
   "source": [
    "def map_wdpair_tosents(wd_sents_file,treat_wdpair,wdpair_sents_file):\n",
    "    wd_sents_pd = pd.DataFrame(pickle.load(open(wd_sents_file,'rb')))\n",
    "    wdpair_pd = pd.read_csv(treat_wdpair)\n",
    "    wdpair_info = []\n",
    "    for idx, row in wdpair_pd.iterrows():\n",
    "        src_pd = wd_sents_pd[wd_sents_pd.word==row.source]\n",
    "        tar_pd = wd_sents_pd[wd_sents_pd.word==row.target]\n",
    "        wdpair_info.append({'source':row['source'],'target':row['target'],\n",
    "                            'source_pos_sents':src_pd.pos_sents.values[0],'source_neg_sents':src_pd.neg_sents.values[0],\n",
    "                            'target_pos_sents':tar_pd.pos_sents.values[0],'target_neg_sents':tar_pd.neg_sents.values[0]})\n",
    "    pickle.dump(wdpair_info,open(wdpair_sents_file,'wb'))"
   ]
  },
  {
   "cell_type": "code",
   "execution_count": 413,
   "metadata": {},
   "outputs": [],
   "source": [
    "this_path = tw_path\n",
    "prefix = 'tw'\n",
    "map_wdpair_tosents(wd_sents_file = this_path+'1_Process/'+prefix+'_wd_sents_limit5000.pickle',\n",
    "                   treat_wdpair = this_path+'1_Process/treat_pairs.csv',\n",
    "                   wdpair_sents_file = this_path+'1_Process/'+prefix+'_wdpair_sents_limit5000.pickle')"
   ]
  },
  {
   "cell_type": "code",
   "execution_count": 414,
   "metadata": {
    "collapsed": true
   },
   "outputs": [],
   "source": [
    "this_path = yp_path\n",
    "prefix = 'yp'\n",
    "map_wdpair_tosents(wd_sents_file = this_path+'1_Process/'+prefix+'_wd_sents_limit5000.pickle',\n",
    "                   treat_wdpair = this_path+'1_Process/treat_pairs.csv',\n",
    "                   wdpair_sents_file = this_path+'1_Process/'+prefix+'_wdpair_sents_limit5000.pickle')"
   ]
  },
  {
   "cell_type": "code",
   "execution_count": 415,
   "metadata": {
    "collapsed": true
   },
   "outputs": [],
   "source": [
    "this_path = airbnb_path\n",
    "prefix = 'airbnb'\n",
    "map_wdpair_tosents(wd_sents_file = this_path+'1_Process/'+prefix+'_wd_sents_limit5000.pickle',\n",
    "                   treat_wdpair = this_path+'1_Process/treat_pairs.csv',\n",
    "                   wdpair_sents_file = this_path+'1_Process/'+prefix+'_wdpair_sents_limit5000.pickle')"
   ]
  },
  {
   "cell_type": "code",
   "execution_count": 426,
   "metadata": {},
   "outputs": [
    {
     "data": {
      "text/plain": [
       "(824, 6)"
      ]
     },
     "execution_count": 426,
     "metadata": {},
     "output_type": "execute_result"
    }
   ],
   "source": [
    "pair_pd = pd.DataFrame(pickle.load(open(yp_path+'1_Process/yp_wdpair_sents_limit5000.pickle','rb')))\n",
    "pair_pd.shape"
   ]
  },
  {
   "cell_type": "code",
   "execution_count": 427,
   "metadata": {},
   "outputs": [
    {
     "data": {
      "text/html": [
       "<div>\n",
       "<table border=\"1\" class=\"dataframe\">\n",
       "  <thead>\n",
       "    <tr style=\"text-align: right;\">\n",
       "      <th></th>\n",
       "      <th>source</th>\n",
       "      <th>source_neg_sents</th>\n",
       "      <th>source_pos_sents</th>\n",
       "      <th>target</th>\n",
       "      <th>target_neg_sents</th>\n",
       "      <th>target_pos_sents</th>\n",
       "    </tr>\n",
       "  </thead>\n",
       "  <tbody>\n",
       "    <tr>\n",
       "      <th>0</th>\n",
       "      <td>chose</td>\n",
       "      <td>[I chose a baked potato as my side ., For my t...</td>\n",
       "      <td>[I chose to go here because it was ranked the ...</td>\n",
       "      <td>choose</td>\n",
       "      <td>[You get chips with your meal and their salsa ...</td>\n",
       "      <td>[The crepes are delicious , and they have seve...</td>\n",
       "    </tr>\n",
       "    <tr>\n",
       "      <th>1</th>\n",
       "      <td>well</td>\n",
       "      <td>[The mint chip was reeeeeeeeeeally tasty , I w...</td>\n",
       "      <td>[Overall ... well who cares about the airport ...</td>\n",
       "      <td>good</td>\n",
       "      <td>[Plus there were a number of good reviews on g...</td>\n",
       "      <td>[loved it Good wine , reasonable prices ., All...</td>\n",
       "    </tr>\n",
       "    <tr>\n",
       "      <th>2</th>\n",
       "      <td>well</td>\n",
       "      <td>[The mint chip was reeeeeeeeeeally tasty , I w...</td>\n",
       "      <td>[Overall ... well who cares about the airport ...</td>\n",
       "      <td>best</td>\n",
       "      <td>[It is comforting to know that our `` baby '' ...</td>\n",
       "      <td>[One of the best breakfast burrito ever ., The...</td>\n",
       "    </tr>\n",
       "    <tr>\n",
       "      <th>3</th>\n",
       "      <td>better</td>\n",
       "      <td>[I was in such a terriblel mood before we got ...</td>\n",
       "      <td>[And being the one who payed for it I would ha...</td>\n",
       "      <td>well</td>\n",
       "      <td>[The mint chip was reeeeeeeeeeally tasty , I w...</td>\n",
       "      <td>[Overall ... well who cares about the airport ...</td>\n",
       "    </tr>\n",
       "    <tr>\n",
       "      <th>4</th>\n",
       "      <td>good</td>\n",
       "      <td>[Plus there were a number of good reviews on g...</td>\n",
       "      <td>[loved it Good wine , reasonable prices ., All...</td>\n",
       "      <td>better</td>\n",
       "      <td>[I was in such a terriblel mood before we got ...</td>\n",
       "      <td>[And being the one who payed for it I would ha...</td>\n",
       "    </tr>\n",
       "  </tbody>\n",
       "</table>\n",
       "</div>"
      ],
      "text/plain": [
       "   source                                   source_neg_sents  \\\n",
       "0   chose  [I chose a baked potato as my side ., For my t...   \n",
       "1    well  [The mint chip was reeeeeeeeeeally tasty , I w...   \n",
       "2    well  [The mint chip was reeeeeeeeeeally tasty , I w...   \n",
       "3  better  [I was in such a terriblel mood before we got ...   \n",
       "4    good  [Plus there were a number of good reviews on g...   \n",
       "\n",
       "                                    source_pos_sents  target  \\\n",
       "0  [I chose to go here because it was ranked the ...  choose   \n",
       "1  [Overall ... well who cares about the airport ...    good   \n",
       "2  [Overall ... well who cares about the airport ...    best   \n",
       "3  [And being the one who payed for it I would ha...    well   \n",
       "4  [loved it Good wine , reasonable prices ., All...  better   \n",
       "\n",
       "                                    target_neg_sents  \\\n",
       "0  [You get chips with your meal and their salsa ...   \n",
       "1  [Plus there were a number of good reviews on g...   \n",
       "2  [It is comforting to know that our `` baby '' ...   \n",
       "3  [The mint chip was reeeeeeeeeeally tasty , I w...   \n",
       "4  [I was in such a terriblel mood before we got ...   \n",
       "\n",
       "                                    target_pos_sents  \n",
       "0  [The crepes are delicious , and they have seve...  \n",
       "1  [loved it Good wine , reasonable prices ., All...  \n",
       "2  [One of the best breakfast burrito ever ., The...  \n",
       "3  [Overall ... well who cares about the airport ...  \n",
       "4  [And being the one who payed for it I would ha...  "
      ]
     },
     "execution_count": 427,
     "metadata": {},
     "output_type": "execute_result"
    }
   ],
   "source": [
    "pair_pd.head()"
   ]
  },
  {
   "cell_type": "code",
   "execution_count": 430,
   "metadata": {},
   "outputs": [
    {
     "data": {
      "text/plain": [
       "634"
      ]
     },
     "execution_count": 430,
     "metadata": {},
     "output_type": "execute_result"
    }
   ],
   "source": [
    "len(pair_pd.iloc[0].target_pos_sents)"
   ]
  },
  {
   "cell_type": "code",
   "execution_count": null,
   "metadata": {
    "collapsed": true
   },
   "outputs": [],
   "source": []
  }
 ],
 "metadata": {
  "kernelspec": {
   "display_name": "Python 3",
   "language": "python",
   "name": "python3"
  },
  "language_info": {
   "codemirror_mode": {
    "name": "ipython",
    "version": 3
   },
   "file_extension": ".py",
   "mimetype": "text/x-python",
   "name": "python",
   "nbconvert_exporter": "python",
   "pygments_lexer": "ipython3",
   "version": "3.7.0"
  }
 },
 "nbformat": 4,
 "nbformat_minor": 2
}
