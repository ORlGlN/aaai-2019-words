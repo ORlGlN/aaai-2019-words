{
 "cells": [
  {
   "cell_type": "markdown",
   "metadata": {},
   "source": [
    "#### Re-run KNN, VT, CTF, CSF only for those appeared in AMT labeled data\n",
    "- Re-run only for word pairs appear in AMT labeled file <br>\n",
    "- KNN, VT, CTF, CSF\\_200, CSF\\_2000, CSF with new parameters, weighted\\_KNN, combo method <br>\n",
    "- Combine new treatment effects into AMT labeled file after re-run"
   ]
  },
  {
   "cell_type": "code",
   "execution_count": 127,
   "metadata": {
    "collapsed": true
   },
   "outputs": [],
   "source": [
    "import pickle,time,ast,csv\n",
    "import pandas as pd\n",
    "from nltk import pos_tag\n",
    "import warnings\n",
    "warnings.filterwarnings(\"ignore\")\n",
    "\n",
    "AMT_path = '/data/2/zwang/2018_S_WordTreatment/V2_AMT/'"
   ]
  },
  {
   "cell_type": "code",
   "execution_count": 65,
   "metadata": {
    "collapsed": true
   },
   "outputs": [],
   "source": [
    "def locate_AMT_sents(amt_pd,data_pd):\n",
    "    \"\"\"\n",
    "    Locate the sentence id from original data file for each AMT labeled sentence.\n",
    "    \"\"\"\n",
    "    sentid_list = []\n",
    "    for idx,row in amt_pd.iterrows():\n",
    "        wdpair_pd = data_pd[(data_pd['source'] == row['source']) & (data_pd['target'] == row['target'])]\n",
    "        pair_sents = wdpair_pd['source_pos_sents'].values[0] + wdpair_pd['source_neg_sents'].values[0]\n",
    "        try:\n",
    "            sentid_list.append(pair_sents.index(row['src_sentence']))\n",
    "        except:\n",
    "#             return row,wdpair_pd\n",
    "            sentid_list.append(-1)\n",
    "    return sentid_list"
   ]
  },
  {
   "cell_type": "code",
   "execution_count": 119,
   "metadata": {
    "collapsed": true
   },
   "outputs": [],
   "source": [
    "def get_effect(effect_pd,amt_pd,method):\n",
    "    effect_list = []\n",
    "    for idx,row in amt_pd.iterrows():\n",
    "        wdpair_pd = effect_pd[(effect_pd['source'] == row['source']) & (effect_pd['target'] == row['target'])]\n",
    "        if(method != 'combo_effect'):\n",
    "            pair_sents = ast.literal_eval(wdpair_pd['source_pos_sents_treatment'].values[0])[0] + ast.literal_eval(wdpair_pd['source_neg_sents_treatment'].values[0])[0]\n",
    "        else:\n",
    "            pair_sents = ast.literal_eval(wdpair_pd['source_pos_context_prob'].values[0])[0] + ast.literal_eval(wdpair_pd['source_neg_context_prob'].values[0])[0]\n",
    "        effect_list.append(pair_sents[row['locate_id']][1])\n",
    "    return effect_list"
   ]
  },
  {
   "cell_type": "code",
   "execution_count": 125,
   "metadata": {
    "collapsed": true
   },
   "outputs": [],
   "source": [
    "def get_wd_ratio(combo_pd,amt_pd):\n",
    "    src_pos_ratio = []\n",
    "    tar_pos_ratio = []\n",
    "    for idx,row in amt_pd.iterrows():\n",
    "        wdpair_pd = combo_pd[(combo_pd['source'] == row['source']) & (combo_pd['target'] == row['target'])]\n",
    "        src_pos_ratio.append(wdpair_pd['src_pos_ratio'].values[0])\n",
    "        tar_pos_ratio.append(wdpair_pd['tar_pos_ratio'].values[0])\n",
    "    \n",
    "    return src_pos_ratio,tar_pos_ratio"
   ]
  },
  {
   "cell_type": "code",
   "execution_count": 126,
   "metadata": {},
   "outputs": [],
   "source": [
    "def combine_all_effects(AMT_file,data_file,result_file,effect_filelist):\n",
    "    amt_pd = pd.read_csv(AMT_file,index_col=False)\n",
    "    data_pd = pd.DataFrame(pickle.load(open(data_file,'rb')))\n",
    "#     row,wdpair_pd = locate_AMT_sents(amt_pd,data_pd)\n",
    "#     return row,wdpair_pd\n",
    "    amt_pd['locate_id'] = locate_AMT_sents(amt_pd,data_pd)\n",
    "    correct_pd = amt_pd[amt_pd['locate_id'] != -1]\n",
    "    init_cols = list(amt_pd.columns)\n",
    "#     return amt_pd\n",
    "    \n",
    "    for method in ['KNN','VT','CTF','CSF_200','CSF_2000','CSF_param','weighted_KNN','combo_effect']:\n",
    "        effect_pd = pd.read_csv(effect_filelist[method],index_col=False)\n",
    "#         return effect_pd\n",
    "        correct_pd[method] = get_effect(effect_pd,correct_pd,method)\n",
    "    \n",
    "    combo_pd = pd.read_csv(effect_filelist['combo_effect'],index_col=False)\n",
    "    src_pos_ratio,tar_pos_ratio = get_wd_ratio(combo_pd,correct_pd)\n",
    "    correct_pd['src_pos_ratio'] = src_pos_ratio\n",
    "    correct_pd['tar_pos_ratio'] = tar_pos_ratio\n",
    "\n",
    "    correct_pd.to_csv(result_file,columns = init_cols+['KNN','VT','CTF','CSF_200','CSF_2000','CSF_param','weighted_KNN','combo_effect']+['src_pos_ratio','tar_pos_ratio'],\n",
    "                  index = False)\n",
    "    return correct_pd"
   ]
  },
  {
   "cell_type": "code",
   "execution_count": 132,
   "metadata": {},
   "outputs": [
    {
     "name": "stdout",
     "output_type": "stream",
     "text": [
      "0.10294694503148397\n"
     ]
    }
   ],
   "source": [
    "prefix = 'tw'\n",
    "effect_filemap = {}\n",
    "effect_filemap['KNN'] = AMT_path+'AMT_WdSents/3_KNN/'+prefix+'_knn_30_treatment.csv'\n",
    "effect_filemap['VT'] = AMT_path+'AMT_WdSents/3_VT/'+prefix+'_vt_200tree_treatment.csv'\n",
    "effect_filemap['CTF'] = AMT_path+'AMT_WdSents/3_CTF/'+prefix+'_ctf_200tree_treatment.csv'\n",
    "effect_filemap['CSF_200'] = AMT_path+'AMT_WdSents/3_CSF/'+prefix+'_csf_200tree_treatment.csv'\n",
    "effect_filemap['CSF_2000'] = AMT_path+'AMT_WdSents/3_CSF/'+prefix+'_csf_2000tree_treatment.csv'\n",
    "effect_filemap['CSF_param'] = AMT_path+'AMT_WdSents/3_CSF/'+prefix+'_csf_param_treatment.csv'\n",
    "effect_filemap['weighted_KNN'] = AMT_path+'AMT_WdSents/3_KNN/'+prefix+'_weightedknn_30_treatment.csv'\n",
    "effect_filemap['combo_effect'] = AMT_path+'AMT_WdSents/3_Combo/'+prefix+'_AMT_combo.csv'\n",
    "\n",
    "start = time.time()\n",
    "correct_pd = combine_all_effects(AMT_file = AMT_path+'6_amt/results/'+prefix+'_result_weightedAMT_nodummy.csv',\n",
    "                             data_file = AMT_path+'AMT_WdSents/Data/'+prefix+'_AMT_wdsents.pickle',\n",
    "                             result_file = AMT_path+'AMT_WdSents/Effects/'+prefix+'_AMT_comboEffects.csv',\n",
    "                             effect_filelist = effect_filemap)\n",
    "end = time.time()\n",
    "print((end-start)/60)"
   ]
  },
  {
   "cell_type": "code",
   "execution_count": 133,
   "metadata": {},
   "outputs": [
    {
     "data": {
      "text/html": [
       "<div>\n",
       "<table border=\"1\" class=\"dataframe\">\n",
       "  <thead>\n",
       "    <tr style=\"text-align: right;\">\n",
       "      <th></th>\n",
       "      <th>id</th>\n",
       "      <th>true_y</th>\n",
       "      <th>source</th>\n",
       "      <th>target</th>\n",
       "      <th>src_sentence</th>\n",
       "      <th>tar_sentence</th>\n",
       "      <th>knn_effect</th>\n",
       "      <th>vt_effect</th>\n",
       "      <th>ctf_effect</th>\n",
       "      <th>csf_effect</th>\n",
       "      <th>...</th>\n",
       "      <th>KNN</th>\n",
       "      <th>VT</th>\n",
       "      <th>CTF</th>\n",
       "      <th>CSF_200</th>\n",
       "      <th>CSF_2000</th>\n",
       "      <th>CSF_param</th>\n",
       "      <th>weighted_KNN</th>\n",
       "      <th>combo_effect</th>\n",
       "      <th>src_pos_ratio</th>\n",
       "      <th>tar_pos_ratio</th>\n",
       "    </tr>\n",
       "  </thead>\n",
       "  <tbody>\n",
       "    <tr>\n",
       "      <th>0</th>\n",
       "      <td>1517508</td>\n",
       "      <td>0</td>\n",
       "      <td>cute</td>\n",
       "      <td>super</td>\n",
       "      <td>Cute cute &amp; cute</td>\n",
       "      <td>Cute super &amp; super</td>\n",
       "      <td>0.96667</td>\n",
       "      <td>0.08365</td>\n",
       "      <td>0.13391</td>\n",
       "      <td>0.12218</td>\n",
       "      <td>...</td>\n",
       "      <td>0.03333</td>\n",
       "      <td>0.04766</td>\n",
       "      <td>0.10387</td>\n",
       "      <td>0.07853</td>\n",
       "      <td>0.07706</td>\n",
       "      <td>0.07488</td>\n",
       "      <td>0.06348</td>\n",
       "      <td>0.29328</td>\n",
       "      <td>0.283086</td>\n",
       "      <td>0.361538</td>\n",
       "    </tr>\n",
       "    <tr>\n",
       "      <th>2</th>\n",
       "      <td>1515888</td>\n",
       "      <td>1</td>\n",
       "      <td>cute</td>\n",
       "      <td>super</td>\n",
       "      <td>Aubrey Plaza is so cute</td>\n",
       "      <td>Aubrey Plaza is so super</td>\n",
       "      <td>0.10000</td>\n",
       "      <td>0.07120</td>\n",
       "      <td>0.15098</td>\n",
       "      <td>0.13508</td>\n",
       "      <td>...</td>\n",
       "      <td>-0.06667</td>\n",
       "      <td>0.04439</td>\n",
       "      <td>0.12244</td>\n",
       "      <td>0.07461</td>\n",
       "      <td>0.08780</td>\n",
       "      <td>0.09107</td>\n",
       "      <td>0.05958</td>\n",
       "      <td>0.25567</td>\n",
       "      <td>0.283086</td>\n",
       "      <td>0.361538</td>\n",
       "    </tr>\n",
       "    <tr>\n",
       "      <th>5</th>\n",
       "      <td>2207163</td>\n",
       "      <td>0</td>\n",
       "      <td>gay</td>\n",
       "      <td>homo</td>\n",
       "      <td>Why is port so gay man , like for real -.-</td>\n",
       "      <td>Why is port so homo man , like for real -.-</td>\n",
       "      <td>0.26667</td>\n",
       "      <td>0.07077</td>\n",
       "      <td>0.14826</td>\n",
       "      <td>0.17637</td>\n",
       "      <td>...</td>\n",
       "      <td>0.36667</td>\n",
       "      <td>0.05923</td>\n",
       "      <td>0.19665</td>\n",
       "      <td>0.18020</td>\n",
       "      <td>0.20607</td>\n",
       "      <td>0.28455</td>\n",
       "      <td>0.02961</td>\n",
       "      <td>0.60723</td>\n",
       "      <td>0.597101</td>\n",
       "      <td>0.792453</td>\n",
       "    </tr>\n",
       "    <tr>\n",
       "      <th>7</th>\n",
       "      <td>2371713</td>\n",
       "      <td>0</td>\n",
       "      <td>awkward</td>\n",
       "      <td>weird</td>\n",
       "      <td>That awkward moment when you pass out at work ...</td>\n",
       "      <td>That weird moment when you pass out at work #o...</td>\n",
       "      <td>-0.43333</td>\n",
       "      <td>-0.00844</td>\n",
       "      <td>-0.01591</td>\n",
       "      <td>0.01893</td>\n",
       "      <td>...</td>\n",
       "      <td>-0.46667</td>\n",
       "      <td>-0.01014</td>\n",
       "      <td>-0.07093</td>\n",
       "      <td>-0.03068</td>\n",
       "      <td>-0.00356</td>\n",
       "      <td>-0.05499</td>\n",
       "      <td>-0.15682</td>\n",
       "      <td>0.45925</td>\n",
       "      <td>0.298770</td>\n",
       "      <td>0.328742</td>\n",
       "    </tr>\n",
       "    <tr>\n",
       "      <th>8</th>\n",
       "      <td>2371241</td>\n",
       "      <td>1</td>\n",
       "      <td>awkward</td>\n",
       "      <td>weird</td>\n",
       "      <td>An this is when group chats get awkward</td>\n",
       "      <td>An this is when group chats get weird</td>\n",
       "      <td>0.00000</td>\n",
       "      <td>0.04468</td>\n",
       "      <td>0.06481</td>\n",
       "      <td>0.06103</td>\n",
       "      <td>...</td>\n",
       "      <td>0.03333</td>\n",
       "      <td>0.02196</td>\n",
       "      <td>0.02409</td>\n",
       "      <td>0.07540</td>\n",
       "      <td>0.07999</td>\n",
       "      <td>0.08277</td>\n",
       "      <td>0.02242</td>\n",
       "      <td>0.30559</td>\n",
       "      <td>0.298770</td>\n",
       "      <td>0.328742</td>\n",
       "    </tr>\n",
       "  </tbody>\n",
       "</table>\n",
       "<p>5 rows × 28 columns</p>\n",
       "</div>"
      ],
      "text/plain": [
       "        id  true_y   source target  \\\n",
       "0  1517508       0     cute  super   \n",
       "2  1515888       1     cute  super   \n",
       "5  2207163       0      gay   homo   \n",
       "7  2371713       0  awkward  weird   \n",
       "8  2371241       1  awkward  weird   \n",
       "\n",
       "                                        src_sentence  \\\n",
       "0                                   Cute cute & cute   \n",
       "2                            Aubrey Plaza is so cute   \n",
       "5         Why is port so gay man , like for real -.-   \n",
       "7  That awkward moment when you pass out at work ...   \n",
       "8            An this is when group chats get awkward   \n",
       "\n",
       "                                        tar_sentence  knn_effect  vt_effect  \\\n",
       "0                                 Cute super & super     0.96667    0.08365   \n",
       "2                           Aubrey Plaza is so super     0.10000    0.07120   \n",
       "5        Why is port so homo man , like for real -.-     0.26667    0.07077   \n",
       "7  That weird moment when you pass out at work #o...    -0.43333   -0.00844   \n",
       "8              An this is when group chats get weird     0.00000    0.04468   \n",
       "\n",
       "   ctf_effect  csf_effect      ...            KNN       VT      CTF  CSF_200  \\\n",
       "0     0.13391     0.12218      ...        0.03333  0.04766  0.10387  0.07853   \n",
       "2     0.15098     0.13508      ...       -0.06667  0.04439  0.12244  0.07461   \n",
       "5     0.14826     0.17637      ...        0.36667  0.05923  0.19665  0.18020   \n",
       "7    -0.01591     0.01893      ...       -0.46667 -0.01014 -0.07093 -0.03068   \n",
       "8     0.06481     0.06103      ...        0.03333  0.02196  0.02409  0.07540   \n",
       "\n",
       "   CSF_2000  CSF_param  weighted_KNN  combo_effect  src_pos_ratio  \\\n",
       "0   0.07706    0.07488       0.06348       0.29328       0.283086   \n",
       "2   0.08780    0.09107       0.05958       0.25567       0.283086   \n",
       "5   0.20607    0.28455       0.02961       0.60723       0.597101   \n",
       "7  -0.00356   -0.05499      -0.15682       0.45925       0.298770   \n",
       "8   0.07999    0.08277       0.02242       0.30559       0.298770   \n",
       "\n",
       "   tar_pos_ratio  \n",
       "0       0.361538  \n",
       "2       0.361538  \n",
       "5       0.792453  \n",
       "7       0.328742  \n",
       "8       0.328742  \n",
       "\n",
       "[5 rows x 28 columns]"
      ]
     },
     "execution_count": 133,
     "metadata": {},
     "output_type": "execute_result"
    }
   ],
   "source": [
    "correct_pd.head()"
   ]
  },
  {
   "cell_type": "code",
   "execution_count": 91,
   "metadata": {},
   "outputs": [
    {
     "data": {
      "text/plain": [
       "(46, 18)"
      ]
     },
     "execution_count": 91,
     "metadata": {},
     "output_type": "execute_result"
    }
   ],
   "source": [
    "error_pd = amt_pd[amt_pd['locate_id'] == -1]\n",
    "error_pd.shape"
   ]
  },
  {
   "cell_type": "code",
   "execution_count": 100,
   "metadata": {},
   "outputs": [
    {
     "data": {
      "text/plain": [
       "(38, 6)"
      ]
     },
     "execution_count": 100,
     "metadata": {},
     "output_type": "execute_result"
    }
   ],
   "source": [
    "effect_pd = pd.read_csv(AMT_path+'AMT_WdSents/3_KNN/'+prefix+'_knn_30_treatment.csv',index_col=False)\n",
    "effect_pd.shape"
   ]
  },
  {
   "cell_type": "code",
   "execution_count": 108,
   "metadata": {
    "collapsed": true
   },
   "outputs": [],
   "source": [
    "wdpair_pd = effect_pd[(effect_pd['source'] == 'famous') & (effect_pd['target'] == 'wonderful')]"
   ]
  },
  {
   "cell_type": "code",
   "execution_count": 114,
   "metadata": {},
   "outputs": [
    {
     "data": {
      "text/plain": [
       "('Neighborhood on _NNP_ _NNP_ and steps away from the _NNP_ _NNP_ restaurants, shops, _NUMBER_ _NNP_ _NNP_ and the famous _NNP_ _NNP_ _NNP_ ',\n",
       " 0.06667)"
      ]
     },
     "execution_count": 114,
     "metadata": {},
     "output_type": "execute_result"
    }
   ],
   "source": [
    "ast.literal_eval(wdpair_pd['source_pos_sents_treatment'].values[0])[0]"
   ]
  },
  {
   "cell_type": "code",
   "execution_count": 105,
   "metadata": {},
   "outputs": [
    {
     "data": {
      "text/html": [
       "<div>\n",
       "<table border=\"1\" class=\"dataframe\">\n",
       "  <thead>\n",
       "    <tr style=\"text-align: right;\">\n",
       "      <th></th>\n",
       "      <th>source</th>\n",
       "      <th>target</th>\n",
       "      <th>source_pos_sents_treatment</th>\n",
       "      <th>source_neg_sents_treatment</th>\n",
       "      <th>target_pos_sents_treatment</th>\n",
       "      <th>target_neg_sents_treatment</th>\n",
       "    </tr>\n",
       "  </thead>\n",
       "  <tbody>\n",
       "    <tr>\n",
       "      <th>0</th>\n",
       "      <td>famous</td>\n",
       "      <td>wonderful</td>\n",
       "      <td>[[('Neighborhood on _NNP_ _NNP_ and steps away...</td>\n",
       "      <td>[[('_NNP_ just a quick _NNP_ ride to The _NNP_...</td>\n",
       "      <td>[[('Enjoy their wonderful food and cozy ambian...</td>\n",
       "      <td>[[('A wonderful _NNP_ neighborhood. ', 0.03333...</td>\n",
       "    </tr>\n",
       "    <tr>\n",
       "      <th>1</th>\n",
       "      <td>store</td>\n",
       "      <td>boutique</td>\n",
       "      <td>[[('There is also a Whole Foods grocery store ...</td>\n",
       "      <td>[[('The apartment is right next to a grocery s...</td>\n",
       "      <td>[[('Enjoy the restaurants and shopping of _NNP...</td>\n",
       "      <td>[[(\"Home to many of the city's finest restaura...</td>\n",
       "    </tr>\n",
       "    <tr>\n",
       "      <th>2</th>\n",
       "      <td>famous</td>\n",
       "      <td>grand</td>\n",
       "      <td>[[('_NUMBER_ minutes bike ride to famous beaut...</td>\n",
       "      <td>[[('_NNP_ just a quick _NNP_ ride to The _NNP_...</td>\n",
       "      <td>[[('On _NNP_ the local grand lake area is home...</td>\n",
       "      <td>[[('Down _NUMBER_ block south is the grand _NN...</td>\n",
       "    </tr>\n",
       "    <tr>\n",
       "      <th>3</th>\n",
       "      <td>famous</td>\n",
       "      <td>excellent</td>\n",
       "      <td>[[('Neighborhood on _NNP_ _NNP_ and steps away...</td>\n",
       "      <td>[[('_NNP_ just a quick _NNP_ ride to The _NNP_...</td>\n",
       "      <td>[[('Less than half a block from _NNP_ _NNP_ wh...</td>\n",
       "      <td>[[('_NNP_ beautiful with all the brick brownst...</td>\n",
       "    </tr>\n",
       "    <tr>\n",
       "      <th>4</th>\n",
       "      <td>famous</td>\n",
       "      <td>big</td>\n",
       "      <td>[[('_NUMBER_ minutes bike ride to famous beaut...</td>\n",
       "      <td>[[('You can explore the stunning Southern styl...</td>\n",
       "      <td>[[('_NNP_ _NNP_ _NNP_ and its big city surroun...</td>\n",
       "      <td>[[('There is also a tennis court, library and ...</td>\n",
       "    </tr>\n",
       "  </tbody>\n",
       "</table>\n",
       "</div>"
      ],
      "text/plain": [
       "   source     target                         source_pos_sents_treatment  \\\n",
       "0  famous  wonderful  [[('Neighborhood on _NNP_ _NNP_ and steps away...   \n",
       "1   store   boutique  [[('There is also a Whole Foods grocery store ...   \n",
       "2  famous      grand  [[('_NUMBER_ minutes bike ride to famous beaut...   \n",
       "3  famous  excellent  [[('Neighborhood on _NNP_ _NNP_ and steps away...   \n",
       "4  famous        big  [[('_NUMBER_ minutes bike ride to famous beaut...   \n",
       "\n",
       "                          source_neg_sents_treatment  \\\n",
       "0  [[('_NNP_ just a quick _NNP_ ride to The _NNP_...   \n",
       "1  [[('The apartment is right next to a grocery s...   \n",
       "2  [[('_NNP_ just a quick _NNP_ ride to The _NNP_...   \n",
       "3  [[('_NNP_ just a quick _NNP_ ride to The _NNP_...   \n",
       "4  [[('You can explore the stunning Southern styl...   \n",
       "\n",
       "                          target_pos_sents_treatment  \\\n",
       "0  [[('Enjoy their wonderful food and cozy ambian...   \n",
       "1  [[('Enjoy the restaurants and shopping of _NNP...   \n",
       "2  [[('On _NNP_ the local grand lake area is home...   \n",
       "3  [[('Less than half a block from _NNP_ _NNP_ wh...   \n",
       "4  [[('_NNP_ _NNP_ _NNP_ and its big city surroun...   \n",
       "\n",
       "                          target_neg_sents_treatment  \n",
       "0  [[('A wonderful _NNP_ neighborhood. ', 0.03333...  \n",
       "1  [[(\"Home to many of the city's finest restaura...  \n",
       "2  [[('Down _NUMBER_ block south is the grand _NN...  \n",
       "3  [[('_NNP_ beautiful with all the brick brownst...  \n",
       "4  [[('There is also a tennis court, library and ...  "
      ]
     },
     "execution_count": 105,
     "metadata": {},
     "output_type": "execute_result"
    }
   ],
   "source": [
    "effect_pd.head()"
   ]
  },
  {
   "cell_type": "code",
   "execution_count": 80,
   "metadata": {
    "collapsed": true
   },
   "outputs": [],
   "source": [
    "data_pd = pd.DataFrame(pickle.load(open(AMT_path+'AMT_WdSents/Data/'+prefix+'_AMT_wdsents.pickle','rb')))\n",
    "wdpair_pd = data_pd[(data_pd['source'] == 'gay') & (data_pd['target'] == 'homo')]"
   ]
  },
  {
   "cell_type": "code",
   "execution_count": 81,
   "metadata": {},
   "outputs": [
    {
     "name": "stdout",
     "output_type": "stream",
     "text": [
      "So obama was a homophobic teen who beat men he thot were gay . And if gay , then a rapist per Rachel #Zimmerman\n",
      "[('So', 'RB'), ('obama', 'NN'), ('was', 'VBD'), ('a', 'DT'), ('homophobic', 'JJ'), ('teen', 'NN'), ('who', 'WP'), ('beat', 'VBD'), ('men', 'NNS'), ('he', 'PRP'), ('thot', 'VBZ'), ('were', 'VBD'), ('gay', 'NNS'), ('.', '.'), ('And', 'CC'), ('if', 'IN'), ('gay', 'NNS'), (',', ','), ('then', 'RB'), ('a', 'DT'), ('rapist', 'NN'), ('per', 'IN'), ('Rachel', 'NNP'), ('#Zimmerman', 'NN')]\n"
     ]
    }
   ],
   "source": [
    "print(error_pd.iloc[1]['src_sentence'])\n",
    "print(pos_tag(error_pd.iloc[1]['src_sentence'].split()))"
   ]
  },
  {
   "cell_type": "code",
   "execution_count": 85,
   "metadata": {},
   "outputs": [
    {
     "name": "stdout",
     "output_type": "stream",
     "text": [
      "[('So', 'RB'), ('obama', 'NN'), ('was', 'VBD'), ('a', 'DT'), ('homophobic', 'JJ'), ('teen', 'NN'), ('who', 'WP'), ('beat', 'VBD'), ('men', 'NNS'), ('he', 'PRP'), ('thot', 'VBZ'), ('were', 'VBD'), ('homo', 'NN'), ('.', '.'), ('And', 'CC'), ('if', 'IN'), ('gay', 'NNS'), (',', ','), ('then', 'RB'), ('a', 'DT'), ('rapist', 'NN'), ('per', 'IN'), ('Rachel', 'NNP'), ('#Zimmerman', 'NN')]\n"
     ]
    }
   ],
   "source": [
    "print(pos_tag('So obama was a homophobic teen who beat men he thot were homo . And if gay , then a rapist per Rachel #Zimmerman'.split()))"
   ]
  },
  {
   "cell_type": "markdown",
   "metadata": {
    "collapsed": true
   },
   "source": [
    "- Double check if mapped effects in each method is correct"
   ]
  },
  {
   "cell_type": "code",
   "execution_count": 161,
   "metadata": {
    "collapsed": true
   },
   "outputs": [],
   "source": [
    "prefix = 'airbnb'\n",
    "effect_filemap = {}\n",
    "effect_filemap['KNN'] = AMT_path+'AMT_WdSents/3_KNN/'+prefix+'_knn_30_treatment.csv'\n",
    "effect_filemap['VT'] = AMT_path+'AMT_WdSents/3_VT/'+prefix+'_vt_200tree_treatment.csv'\n",
    "effect_filemap['CTF'] = AMT_path+'AMT_WdSents/3_CTF/'+prefix+'_ctf_200tree_treatment.csv'\n",
    "effect_filemap['CSF_200'] = AMT_path+'AMT_WdSents/3_CSF/'+prefix+'_csf_200tree_treatment.csv'\n",
    "effect_filemap['CSF_2000'] = AMT_path+'AMT_WdSents/3_CSF/'+prefix+'_csf_2000tree_treatment.csv'\n",
    "effect_filemap['CSF_param'] = AMT_path+'AMT_WdSents/3_CSF/'+prefix+'_csf_param_treatment.csv'\n",
    "effect_filemap['weighted_KNN'] = AMT_path+'AMT_WdSents/3_KNN/'+prefix+'_weightedknn_30_treatment.csv'\n",
    "effect_filemap['combo_effect'] = AMT_path+'AMT_WdSents/3_Combo/'+prefix+'_AMT_combo.csv'"
   ]
  },
  {
   "cell_type": "code",
   "execution_count": 164,
   "metadata": {},
   "outputs": [
    {
     "name": "stdout",
     "output_type": "stream",
     "text": [
      "VT -0.00251\n",
      "CSF_200 -0.06901\n",
      "CSF_param -0.11022\n",
      "CSF_2000 -0.06425\n",
      "KNN 0.06667\n",
      "weighted_KNN 0.08001\n",
      "CTF 0.04213\n",
      "combo_effect 0.82622 0.805555555556 0.831417624521\n"
     ]
    }
   ],
   "source": [
    "src_wd = 'yummy'\n",
    "tar_wd = 'delicious'\n",
    "locate_id = 16\n",
    "for md in effect_filemap:\n",
    "    md_pd = pd.read_csv(effect_filemap[md],index_col=False)\n",
    "    wdpair_pd = md_pd[(md_pd['source'] == src_wd) & (md_pd['target'] == tar_wd)]\n",
    "    if(md != 'combo_effect'):\n",
    "        all_sents = ast.literal_eval(wdpair_pd['source_pos_sents_treatment'].values[0])[0] + ast.literal_eval(wdpair_pd['source_neg_sents_treatment'].values[0])[0]\n",
    "        print(md,all_sents[locate_id][1])\n",
    "    elif(md == 'combo_effect'):\n",
    "        all_sents = ast.literal_eval(wdpair_pd['source_pos_context_prob'].values[0])[0] + ast.literal_eval(wdpair_pd['source_neg_context_prob'].values[0])[0]\n",
    "        print(md,all_sents[locate_id][1],wdpair_pd['src_pos_ratio'].values[0],wdpair_pd['tar_pos_ratio'].values[0])"
   ]
  },
  {
   "cell_type": "code",
   "execution_count": 165,
   "metadata": {},
   "outputs": [
    {
     "data": {
      "text/html": [
       "<div>\n",
       "<table border=\"1\" class=\"dataframe\">\n",
       "  <thead>\n",
       "    <tr style=\"text-align: right;\">\n",
       "      <th></th>\n",
       "      <th>source</th>\n",
       "      <th>target</th>\n",
       "      <th>src_pos_ratio</th>\n",
       "      <th>tar_pos_ratio</th>\n",
       "      <th>source_pos_context_prob</th>\n",
       "      <th>source_neg_context_prob</th>\n",
       "      <th>target_pos_context_prob</th>\n",
       "      <th>target_neg_context_prob</th>\n",
       "    </tr>\n",
       "  </thead>\n",
       "  <tbody>\n",
       "    <tr>\n",
       "      <th>33</th>\n",
       "      <td>yummy</td>\n",
       "      <td>delicious</td>\n",
       "      <td>0.805556</td>\n",
       "      <td>0.831418</td>\n",
       "      <td>[[('There are plenty of incredible restaurants...</td>\n",
       "      <td>[[('For grilling, you probably want to go to _...</td>\n",
       "      <td>[[(\"Close by, we love Canseco's _NNP_ _NNP_ _N...</td>\n",
       "      <td>[[('throughout _NNP_ _NNP_ and find hundreds o...</td>\n",
       "    </tr>\n",
       "  </tbody>\n",
       "</table>\n",
       "</div>"
      ],
      "text/plain": [
       "   source     target  src_pos_ratio  tar_pos_ratio  \\\n",
       "33  yummy  delicious       0.805556       0.831418   \n",
       "\n",
       "                              source_pos_context_prob  \\\n",
       "33  [[('There are plenty of incredible restaurants...   \n",
       "\n",
       "                              source_neg_context_prob  \\\n",
       "33  [[('For grilling, you probably want to go to _...   \n",
       "\n",
       "                              target_pos_context_prob  \\\n",
       "33  [[(\"Close by, we love Canseco's _NNP_ _NNP_ _N...   \n",
       "\n",
       "                              target_neg_context_prob  \n",
       "33  [[('throughout _NNP_ _NNP_ and find hundreds o...  "
      ]
     },
     "execution_count": 165,
     "metadata": {},
     "output_type": "execute_result"
    }
   ],
   "source": [
    "wdpair_pd"
   ]
  },
  {
   "cell_type": "code",
   "execution_count": null,
   "metadata": {
    "collapsed": true
   },
   "outputs": [],
   "source": []
  }
 ],
 "metadata": {
  "kernelspec": {
   "display_name": "Python 3",
   "language": "python",
   "name": "python3"
  },
  "language_info": {
   "codemirror_mode": {
    "name": "ipython",
    "version": 3
   },
   "file_extension": ".py",
   "mimetype": "text/x-python",
   "name": "python",
   "nbconvert_exporter": "python",
   "pygments_lexer": "ipython3",
   "version": "3.7.0"
  }
 },
 "nbformat": 4,
 "nbformat_minor": 2
}
