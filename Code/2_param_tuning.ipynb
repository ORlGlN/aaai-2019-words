{
 "cells": [
  {
   "cell_type": "markdown",
   "metadata": {
    "deletable": true,
    "editable": true
   },
   "source": [
    "## Parameter Tuning for KNN and RandomForest"
   ]
  },
  {
   "cell_type": "code",
   "execution_count": 2,
   "metadata": {
    "collapsed": false,
    "deletable": true,
    "editable": true
   },
   "outputs": [
    {
     "name": "stderr",
     "output_type": "stream",
     "text": [
      "/home/zwang/.local/lib/python3.4/site-packages/sklearn/cross_validation.py:44: DeprecationWarning: This module was deprecated in version 0.18 in favor of the model_selection module into which all the refactored classes and functions are moved. Also note that the interface of the new CV iterators are different from that of this module. This module will be removed in 0.20.\n",
      "  \"This module will be removed in 0.20.\", DeprecationWarning)\n",
      "/home/zwang/.local/lib/python3.4/site-packages/sklearn/grid_search.py:43: DeprecationWarning: This module was deprecated in version 0.18 in favor of the model_selection module into which all the refactored classes and functions are moved. This module will be removed in 0.20.\n",
      "  DeprecationWarning)\n"
     ]
    }
   ],
   "source": [
    "import requests, time, operator, re, json, csv, pickle, copy, random\n",
    "import pandas as pd\n",
    "import numpy as np\n",
    "from sklearn.grid_search import GridSearchCV\n",
    "from scipy.sparse import csr_matrix\n",
    "from collections import Counter\n",
    "from sklearn.feature_extraction.text import CountVectorizer\n",
    "from sklearn.neighbors import KNeighborsClassifier\n",
    "from sklearn.ensemble import RandomForestClassifier\n",
    "from sklearn.model_selection import StratifiedKFold, cross_val_score\n",
    "from nltk.corpus import stopwords\n",
    "from sklearn.pipeline import Pipeline\n",
    "import matplotlib.pyplot as plt\n",
    "%matplotlib inline\n",
    "\n",
    "import warnings\n",
    "warnings.filterwarnings(\"ignore\")\n",
    "train_path = '/data/2/zwang/2018_S_WordTreatment/Data/train/'\n",
    "eval_path = '/data/2/zwang/2018_S_WordTreatment/Data/eval/'\n",
    "wd_path = '/data/2/zwang/2018_S_WordTreatment/Data/crime/'"
   ]
  },
  {
   "cell_type": "markdown",
   "metadata": {
    "deletable": true,
    "editable": true
   },
   "source": [
    "### Generate labeled sentences"
   ]
  },
  {
   "cell_type": "markdown",
   "metadata": {
    "deletable": true,
    "editable": true
   },
   "source": [
    "#### only use training set"
   ]
  },
  {
   "cell_type": "code",
   "execution_count": 72,
   "metadata": {
    "collapsed": true,
    "deletable": true,
    "editable": true
   },
   "outputs": [],
   "source": [
    "def get_labeled_sents(sents_file,label_file):\n",
    "    sents_pd = pd.DataFrame(pickle.load(open(sents_file,'rb')))\n",
    "    print(sents_pd.shape)\n",
    "    all_sents = []\n",
    "    all_labels = []\n",
    "    for idx,row in sents_pd.iterrows():\n",
    "        all_sents.extend(row['overview_sentences'])\n",
    "        if(row['hood_crime'] <= row['city_crime']):\n",
    "            all_labels.extend(np.ones(len(row['overview_sentences'])))\n",
    "        elif(row['hood_crime'] > row['city_crime']):\n",
    "            all_labels.extend(np.zeros(len(row['overview_sentences'])))\n",
    "        \n",
    "    \n",
    "    pickle.dump({'sentences':all_sents,'labels':all_labels},open(label_file,'wb'))\n",
    "    return all_sents,all_labels"
   ]
  },
  {
   "cell_type": "code",
   "execution_count": 74,
   "metadata": {
    "collapsed": false,
    "deletable": true,
    "editable": true
   },
   "outputs": [
    {
     "name": "stdout",
     "output_type": "stream",
     "text": [
      "(691, 5)\n"
     ]
    }
   ],
   "source": [
    "train_sents,train_labels = get_labeled_sents(sents_file = train_path + 'onefold/city_hood_sents_train.pickle',\n",
    "                                         label_file = train_path + 'onefold/sentences_labels_train.pickle')"
   ]
  },
  {
   "cell_type": "code",
   "execution_count": 76,
   "metadata": {
    "collapsed": false,
    "deletable": true,
    "editable": true
   },
   "outputs": [],
   "source": [
    "labeled_sents_train = pd.DataFrame(pickle.load(open(train_path + 'onefold/sentences_labels_train.pickle','rb')))"
   ]
  },
  {
   "cell_type": "code",
   "execution_count": 77,
   "metadata": {
    "collapsed": false,
    "deletable": true,
    "editable": true
   },
   "outputs": [
    {
     "name": "stdout",
     "output_type": "stream",
     "text": [
      "97286\n"
     ]
    }
   ],
   "source": [
    "print(len(train_sents))"
   ]
  },
  {
   "cell_type": "code",
   "execution_count": 78,
   "metadata": {
    "collapsed": false,
    "deletable": true,
    "editable": true
   },
   "outputs": [
    {
     "data": {
      "text/plain": [
       "Counter({0.0: 18282, 1.0: 79004})"
      ]
     },
     "execution_count": 78,
     "metadata": {},
     "output_type": "execute_result"
    }
   ],
   "source": [
    "Counter(train_labels)"
   ]
  },
  {
   "cell_type": "markdown",
   "metadata": {
    "deletable": true,
    "editable": true
   },
   "source": [
    "#### Use training and evaluation set"
   ]
  },
  {
   "cell_type": "code",
   "execution_count": 79,
   "metadata": {
    "collapsed": false,
    "deletable": true,
    "editable": true
   },
   "outputs": [
    {
     "name": "stdout",
     "output_type": "stream",
     "text": [
      "(691, 5)\n"
     ]
    }
   ],
   "source": [
    "eval_sents,eval_labels = get_labeled_sents(sents_file = eval_path + 'city_hood_sents_eval.pickle',\n",
    "                                           label_file = eval_path + 'sentences_labels_eval.pickle')"
   ]
  },
  {
   "cell_type": "code",
   "execution_count": 80,
   "metadata": {
    "collapsed": false,
    "deletable": true,
    "editable": true
   },
   "outputs": [
    {
     "name": "stdout",
     "output_type": "stream",
     "text": [
      "96819\n"
     ]
    }
   ],
   "source": [
    "print(len(eval_sents))"
   ]
  },
  {
   "cell_type": "code",
   "execution_count": 81,
   "metadata": {
    "collapsed": false,
    "deletable": true,
    "editable": true
   },
   "outputs": [
    {
     "data": {
      "text/plain": [
       "Counter({0.0: 18124, 1.0: 78695})"
      ]
     },
     "execution_count": 81,
     "metadata": {},
     "output_type": "execute_result"
    }
   ],
   "source": [
    "Counter(eval_labels)"
   ]
  },
  {
   "cell_type": "code",
   "execution_count": 82,
   "metadata": {
    "collapsed": true,
    "deletable": true,
    "editable": true
   },
   "outputs": [],
   "source": [
    "labeled_sents_eval = pd.DataFrame(pickle.load(open(eval_path + 'sentences_labels_eval.pickle','rb')))"
   ]
  },
  {
   "cell_type": "code",
   "execution_count": 90,
   "metadata": {
    "collapsed": false,
    "deletable": true,
    "editable": true
   },
   "outputs": [],
   "source": [
    "all_sents = []\n",
    "all_labels = []\n",
    "all_sents = labeled_sents_train['sentences'].values.tolist() + labeled_sents_eval['sentences'].values.tolist()\n",
    "all_labels = labeled_sents_train['labels'].values.tolist() + labeled_sents_eval['labels'].values.tolist()\n",
    "\n",
    "pickle.dump({'sentences':all_sents,'labels':all_labels},open(train_path + 'twofold/sentences_labels.pickle','wb'))"
   ]
  },
  {
   "cell_type": "code",
   "execution_count": 91,
   "metadata": {
    "collapsed": false,
    "deletable": true,
    "editable": true
   },
   "outputs": [
    {
     "name": "stdout",
     "output_type": "stream",
     "text": [
      "194105\n"
     ]
    }
   ],
   "source": [
    "print(len(all_sents))"
   ]
  },
  {
   "cell_type": "code",
   "execution_count": 92,
   "metadata": {
    "collapsed": false,
    "deletable": true,
    "editable": true
   },
   "outputs": [
    {
     "data": {
      "text/plain": [
       "Counter({0.0: 36406, 1.0: 157699})"
      ]
     },
     "execution_count": 92,
     "metadata": {},
     "output_type": "execute_result"
    }
   ],
   "source": [
    "Counter(all_labels)"
   ]
  },
  {
   "cell_type": "markdown",
   "metadata": {
    "deletable": true,
    "editable": true
   },
   "source": [
    "### Parameter tunning for KNN classifier"
   ]
  },
  {
   "cell_type": "code",
   "execution_count": 94,
   "metadata": {
    "collapsed": true,
    "deletable": true,
    "editable": true
   },
   "outputs": [],
   "source": [
    "def knn_tuning(labeled_sents_file,result_file,pipeline,params,nfolds):\n",
    "    labeled_sents_pd = pd.DataFrame(pickle.load(open(labeled_sents_file,'rb')))\n",
    "    print(labeled_sents_pd.shape,labeled_sents_pd.columns)\n",
    "    \n",
    "    all_train_sents = labeled_sents_pd['sentences']\n",
    "    all_train_labels = labeled_sents_pd['labels']\n",
    "    result = []\n",
    "    \n",
    "    skf = StratifiedKFold(n_splits=nfolds, random_state=42)\n",
    "    for train_index, test_index in skf.split(all_train_sents, all_train_labels):\n",
    "        print(len(test_index))\n",
    "        train_sents = []\n",
    "        train_labels = []\n",
    "        for idx in test_index:\n",
    "            train_sents.append(all_train_sents[idx])\n",
    "            train_labels.append(all_train_labels[idx])\n",
    "    \n",
    "        gsearch = GridSearchCV(pipeline, param_grid = params, scoring='roc_auc', cv=10, n_jobs=-1)\n",
    "        gsearch.fit(train_sents,train_labels)\n",
    "        result.append({'grid_score':gsearch.grid_scores_,'best_param':gsearch.best_params_,'best_score':gsearch.best_score_})\n",
    "        \n",
    "    pickle.dump(result,open(result_file,'wb'))\n",
    "    return result"
   ]
  },
  {
   "cell_type": "code",
   "execution_count": 10,
   "metadata": {
    "collapsed": true,
    "deletable": true,
    "editable": true
   },
   "outputs": [],
   "source": [
    "pipeline = Pipeline([\n",
    "    ('ctvec', CountVectorizer()),\n",
    "    ('clf', KNeighborsClassifier())\n",
    "])\n",
    "parameters = {\n",
    "        'ctvec__min_df' : (2,3,5),\n",
    "        'ctvec__max_df' : (0.8,0.9,1.0),\n",
    "        'clf__n_neighbors' : [5,10,30,50,100]\n",
    "}"
   ]
  },
  {
   "cell_type": "markdown",
   "metadata": {
    "deletable": true,
    "editable": true
   },
   "source": [
    "#### tuning for train data"
   ]
  },
  {
   "cell_type": "code",
   "execution_count": 11,
   "metadata": {
    "collapsed": false,
    "deletable": true,
    "editable": true
   },
   "outputs": [
    {
     "name": "stdout",
     "output_type": "stream",
     "text": [
      "(97286, 2) Index(['labels', 'sentences'], dtype='object')\n",
      "32429\n",
      "32429\n",
      "32428\n",
      "1291.7940652370453\n"
     ]
    }
   ],
   "source": [
    "start = time.time()\n",
    "gsearch3_result = knn_tuning(train_path +'onefold/sentences_labels_train.pickle',train_path +'onefold/knn_tuning_result.pickle',pipeline,parameters,nfolds=3)\n",
    "end = time.time()\n",
    "print(end-start)"
   ]
  },
  {
   "cell_type": "code",
   "execution_count": 27,
   "metadata": {
    "collapsed": false,
    "deletable": true,
    "editable": true
   },
   "outputs": [],
   "source": [
    "def plot_result(gsearch_result):\n",
    "    # The order of the param sets do not change.\n",
    "    param_set = []\n",
    "    for param in gsearch_result[0]['grid_score']:\n",
    "        param_set.append(param[0])\n",
    "    mean = []\n",
    "    for each_fold in gsearch_result:\n",
    "        fold_mean = []\n",
    "        for each_set in each_fold['grid_score']:\n",
    "            fold_mean.append(each_set[1])\n",
    "        mean.append(fold_mean)\n",
    "    param_set_mean = np.mean(np.array(mean), axis = 0)\n",
    "    j = 0\n",
    "    for i in np.argsort(param_set_mean):\n",
    "        print(j,param_set[i],param_set_mean[i])\n",
    "        j += 1\n",
    "    plt.plot(sorted(param_set_mean),'-ro')\n",
    "    plt.xlabel(\"parameter set\")\n",
    "    plt.ylabel(\"mean roc_auc score\")\n",
    "    #break\n",
    "#plot_result(gsearch3_result)"
   ]
  },
  {
   "cell_type": "markdown",
   "metadata": {
    "deletable": true,
    "editable": true
   },
   "source": [
    "#### tuning for train+eval"
   ]
  },
  {
   "cell_type": "code",
   "execution_count": 95,
   "metadata": {
    "collapsed": false,
    "deletable": true,
    "editable": true
   },
   "outputs": [
    {
     "name": "stdout",
     "output_type": "stream",
     "text": [
      "(194105, 2) Index(['labels', 'sentences'], dtype='object')\n",
      "38822\n",
      "38821\n",
      "38821\n",
      "38821\n",
      "38820\n",
      "3074.709460258484\n"
     ]
    }
   ],
   "source": [
    "start = time.time()\n",
    "gsearch5_result = knn_tuning(train_path +'twofold/sentences_labels.pickle',train_path +'twofold/knn_tuning_result.pickle',pipeline,parameters,nfolds=5)\n",
    "end = time.time()\n",
    "print(end-start)"
   ]
  },
  {
   "cell_type": "code",
   "execution_count": 104,
   "metadata": {
    "collapsed": false,
    "deletable": true,
    "editable": true
   },
   "outputs": [
    {
     "data": {
      "text/plain": [
       "[mean: 0.58471, std: 0.05463, params: {'clf__n_neighbors': 5, 'ctvec__max_df': 0.8, 'ctvec__min_df': 2},\n",
       " mean: 0.58186, std: 0.05511, params: {'clf__n_neighbors': 5, 'ctvec__max_df': 0.8, 'ctvec__min_df': 3},\n",
       " mean: 0.58327, std: 0.05536, params: {'clf__n_neighbors': 5, 'ctvec__max_df': 0.8, 'ctvec__min_df': 5},\n",
       " mean: 0.58471, std: 0.05463, params: {'clf__n_neighbors': 5, 'ctvec__max_df': 0.9, 'ctvec__min_df': 2},\n",
       " mean: 0.58186, std: 0.05511, params: {'clf__n_neighbors': 5, 'ctvec__max_df': 0.9, 'ctvec__min_df': 3},\n",
       " mean: 0.58327, std: 0.05536, params: {'clf__n_neighbors': 5, 'ctvec__max_df': 0.9, 'ctvec__min_df': 5},\n",
       " mean: 0.58471, std: 0.05463, params: {'clf__n_neighbors': 5, 'ctvec__max_df': 1.0, 'ctvec__min_df': 2},\n",
       " mean: 0.58186, std: 0.05511, params: {'clf__n_neighbors': 5, 'ctvec__max_df': 1.0, 'ctvec__min_df': 3},\n",
       " mean: 0.58327, std: 0.05536, params: {'clf__n_neighbors': 5, 'ctvec__max_df': 1.0, 'ctvec__min_df': 5},\n",
       " mean: 0.59470, std: 0.05851, params: {'clf__n_neighbors': 10, 'ctvec__max_df': 0.8, 'ctvec__min_df': 2},\n",
       " mean: 0.59114, std: 0.05968, params: {'clf__n_neighbors': 10, 'ctvec__max_df': 0.8, 'ctvec__min_df': 3},\n",
       " mean: 0.59541, std: 0.05838, params: {'clf__n_neighbors': 10, 'ctvec__max_df': 0.8, 'ctvec__min_df': 5},\n",
       " mean: 0.59470, std: 0.05851, params: {'clf__n_neighbors': 10, 'ctvec__max_df': 0.9, 'ctvec__min_df': 2},\n",
       " mean: 0.59114, std: 0.05968, params: {'clf__n_neighbors': 10, 'ctvec__max_df': 0.9, 'ctvec__min_df': 3},\n",
       " mean: 0.59541, std: 0.05838, params: {'clf__n_neighbors': 10, 'ctvec__max_df': 0.9, 'ctvec__min_df': 5},\n",
       " mean: 0.59470, std: 0.05851, params: {'clf__n_neighbors': 10, 'ctvec__max_df': 1.0, 'ctvec__min_df': 2},\n",
       " mean: 0.59114, std: 0.05968, params: {'clf__n_neighbors': 10, 'ctvec__max_df': 1.0, 'ctvec__min_df': 3},\n",
       " mean: 0.59541, std: 0.05838, params: {'clf__n_neighbors': 10, 'ctvec__max_df': 1.0, 'ctvec__min_df': 5},\n",
       " mean: 0.60711, std: 0.06545, params: {'clf__n_neighbors': 30, 'ctvec__max_df': 0.8, 'ctvec__min_df': 2},\n",
       " mean: 0.60120, std: 0.06758, params: {'clf__n_neighbors': 30, 'ctvec__max_df': 0.8, 'ctvec__min_df': 3},\n",
       " mean: 0.60198, std: 0.06599, params: {'clf__n_neighbors': 30, 'ctvec__max_df': 0.8, 'ctvec__min_df': 5},\n",
       " mean: 0.60711, std: 0.06545, params: {'clf__n_neighbors': 30, 'ctvec__max_df': 0.9, 'ctvec__min_df': 2},\n",
       " mean: 0.60120, std: 0.06758, params: {'clf__n_neighbors': 30, 'ctvec__max_df': 0.9, 'ctvec__min_df': 3},\n",
       " mean: 0.60198, std: 0.06599, params: {'clf__n_neighbors': 30, 'ctvec__max_df': 0.9, 'ctvec__min_df': 5},\n",
       " mean: 0.60711, std: 0.06545, params: {'clf__n_neighbors': 30, 'ctvec__max_df': 1.0, 'ctvec__min_df': 2},\n",
       " mean: 0.60120, std: 0.06758, params: {'clf__n_neighbors': 30, 'ctvec__max_df': 1.0, 'ctvec__min_df': 3},\n",
       " mean: 0.60198, std: 0.06599, params: {'clf__n_neighbors': 30, 'ctvec__max_df': 1.0, 'ctvec__min_df': 5},\n",
       " mean: 0.60743, std: 0.07143, params: {'clf__n_neighbors': 50, 'ctvec__max_df': 0.8, 'ctvec__min_df': 2},\n",
       " mean: 0.60523, std: 0.07339, params: {'clf__n_neighbors': 50, 'ctvec__max_df': 0.8, 'ctvec__min_df': 3},\n",
       " mean: 0.60685, std: 0.06982, params: {'clf__n_neighbors': 50, 'ctvec__max_df': 0.8, 'ctvec__min_df': 5},\n",
       " mean: 0.60743, std: 0.07143, params: {'clf__n_neighbors': 50, 'ctvec__max_df': 0.9, 'ctvec__min_df': 2},\n",
       " mean: 0.60523, std: 0.07339, params: {'clf__n_neighbors': 50, 'ctvec__max_df': 0.9, 'ctvec__min_df': 3},\n",
       " mean: 0.60685, std: 0.06982, params: {'clf__n_neighbors': 50, 'ctvec__max_df': 0.9, 'ctvec__min_df': 5},\n",
       " mean: 0.60743, std: 0.07143, params: {'clf__n_neighbors': 50, 'ctvec__max_df': 1.0, 'ctvec__min_df': 2},\n",
       " mean: 0.60523, std: 0.07339, params: {'clf__n_neighbors': 50, 'ctvec__max_df': 1.0, 'ctvec__min_df': 3},\n",
       " mean: 0.60685, std: 0.06982, params: {'clf__n_neighbors': 50, 'ctvec__max_df': 1.0, 'ctvec__min_df': 5},\n",
       " mean: 0.61056, std: 0.07655, params: {'clf__n_neighbors': 100, 'ctvec__max_df': 0.8, 'ctvec__min_df': 2},\n",
       " mean: 0.60763, std: 0.07390, params: {'clf__n_neighbors': 100, 'ctvec__max_df': 0.8, 'ctvec__min_df': 3},\n",
       " mean: 0.60706, std: 0.07488, params: {'clf__n_neighbors': 100, 'ctvec__max_df': 0.8, 'ctvec__min_df': 5},\n",
       " mean: 0.61056, std: 0.07655, params: {'clf__n_neighbors': 100, 'ctvec__max_df': 0.9, 'ctvec__min_df': 2},\n",
       " mean: 0.60763, std: 0.07390, params: {'clf__n_neighbors': 100, 'ctvec__max_df': 0.9, 'ctvec__min_df': 3},\n",
       " mean: 0.60706, std: 0.07488, params: {'clf__n_neighbors': 100, 'ctvec__max_df': 0.9, 'ctvec__min_df': 5},\n",
       " mean: 0.61056, std: 0.07655, params: {'clf__n_neighbors': 100, 'ctvec__max_df': 1.0, 'ctvec__min_df': 2},\n",
       " mean: 0.60763, std: 0.07390, params: {'clf__n_neighbors': 100, 'ctvec__max_df': 1.0, 'ctvec__min_df': 3},\n",
       " mean: 0.60706, std: 0.07488, params: {'clf__n_neighbors': 100, 'ctvec__max_df': 1.0, 'ctvec__min_df': 5}]"
      ]
     },
     "execution_count": 104,
     "metadata": {},
     "output_type": "execute_result"
    }
   ],
   "source": [
    "gsearch5_result[0]['grid_score']"
   ]
  },
  {
   "cell_type": "code",
   "execution_count": 105,
   "metadata": {
    "collapsed": false,
    "deletable": true,
    "editable": true
   },
   "outputs": [
    {
     "name": "stdout",
     "output_type": "stream",
     "text": [
      "0 {'clf__n_neighbors': 5, 'ctvec__max_df': 0.8, 'ctvec__min_df': 3} 0.558363167203\n",
      "1 {'clf__n_neighbors': 5, 'ctvec__max_df': 0.9, 'ctvec__min_df': 3} 0.558363167203\n",
      "2 {'clf__n_neighbors': 5, 'ctvec__max_df': 1.0, 'ctvec__min_df': 3} 0.558363167203\n",
      "3 {'clf__n_neighbors': 5, 'ctvec__max_df': 0.8, 'ctvec__min_df': 2} 0.560579586371\n",
      "4 {'clf__n_neighbors': 5, 'ctvec__max_df': 0.9, 'ctvec__min_df': 2} 0.560579586371\n",
      "5 {'clf__n_neighbors': 5, 'ctvec__max_df': 1.0, 'ctvec__min_df': 2} 0.560579586371\n",
      "6 {'clf__n_neighbors': 5, 'ctvec__max_df': 0.8, 'ctvec__min_df': 5} 0.560915904642\n",
      "7 {'clf__n_neighbors': 5, 'ctvec__max_df': 0.9, 'ctvec__min_df': 5} 0.560915904642\n",
      "8 {'clf__n_neighbors': 5, 'ctvec__max_df': 1.0, 'ctvec__min_df': 5} 0.560915904642\n",
      "9 {'clf__n_neighbors': 10, 'ctvec__max_df': 1.0, 'ctvec__min_df': 3} 0.564006623942\n",
      "10 {'clf__n_neighbors': 10, 'ctvec__max_df': 0.9, 'ctvec__min_df': 3} 0.564006623942\n",
      "11 {'clf__n_neighbors': 10, 'ctvec__max_df': 0.8, 'ctvec__min_df': 3} 0.564006623942\n",
      "12 {'clf__n_neighbors': 10, 'ctvec__max_df': 0.9, 'ctvec__min_df': 5} 0.566055973022\n",
      "13 {'clf__n_neighbors': 10, 'ctvec__max_df': 1.0, 'ctvec__min_df': 5} 0.566055973022\n",
      "14 {'clf__n_neighbors': 10, 'ctvec__max_df': 0.8, 'ctvec__min_df': 5} 0.566055973022\n",
      "15 {'clf__n_neighbors': 10, 'ctvec__max_df': 0.9, 'ctvec__min_df': 2} 0.567022563785\n",
      "16 {'clf__n_neighbors': 10, 'ctvec__max_df': 1.0, 'ctvec__min_df': 2} 0.567022563785\n",
      "17 {'clf__n_neighbors': 10, 'ctvec__max_df': 0.8, 'ctvec__min_df': 2} 0.567022563785\n",
      "18 {'clf__n_neighbors': 30, 'ctvec__max_df': 0.8, 'ctvec__min_df': 5} 0.572592754287\n",
      "19 {'clf__n_neighbors': 30, 'ctvec__max_df': 1.0, 'ctvec__min_df': 5} 0.572592754287\n",
      "20 {'clf__n_neighbors': 30, 'ctvec__max_df': 0.9, 'ctvec__min_df': 5} 0.572592754287\n",
      "21 {'clf__n_neighbors': 30, 'ctvec__max_df': 1.0, 'ctvec__min_df': 3} 0.572798378399\n",
      "22 {'clf__n_neighbors': 30, 'ctvec__max_df': 0.9, 'ctvec__min_df': 3} 0.572798378399\n",
      "23 {'clf__n_neighbors': 30, 'ctvec__max_df': 0.8, 'ctvec__min_df': 3} 0.572798378399\n",
      "24 {'clf__n_neighbors': 30, 'ctvec__max_df': 0.9, 'ctvec__min_df': 2} 0.574899719929\n",
      "25 {'clf__n_neighbors': 30, 'ctvec__max_df': 1.0, 'ctvec__min_df': 2} 0.574899719929\n",
      "26 {'clf__n_neighbors': 30, 'ctvec__max_df': 0.8, 'ctvec__min_df': 2} 0.574899719929\n",
      "27 {'clf__n_neighbors': 50, 'ctvec__max_df': 0.8, 'ctvec__min_df': 3} 0.575901449939\n",
      "28 {'clf__n_neighbors': 50, 'ctvec__max_df': 0.9, 'ctvec__min_df': 3} 0.575901449939\n",
      "29 {'clf__n_neighbors': 50, 'ctvec__max_df': 1.0, 'ctvec__min_df': 3} 0.575901449939\n",
      "30 {'clf__n_neighbors': 50, 'ctvec__max_df': 0.8, 'ctvec__min_df': 5} 0.576159099023\n",
      "31 {'clf__n_neighbors': 50, 'ctvec__max_df': 0.9, 'ctvec__min_df': 5} 0.576159099023\n",
      "32 {'clf__n_neighbors': 50, 'ctvec__max_df': 1.0, 'ctvec__min_df': 5} 0.576159099023\n",
      "33 {'clf__n_neighbors': 100, 'ctvec__max_df': 0.9, 'ctvec__min_df': 3} 0.577032524823\n",
      "34 {'clf__n_neighbors': 100, 'ctvec__max_df': 1.0, 'ctvec__min_df': 3} 0.577032524823\n",
      "35 {'clf__n_neighbors': 100, 'ctvec__max_df': 0.8, 'ctvec__min_df': 3} 0.577032524823\n",
      "36 {'clf__n_neighbors': 100, 'ctvec__max_df': 0.9, 'ctvec__min_df': 5} 0.577346457989\n",
      "37 {'clf__n_neighbors': 100, 'ctvec__max_df': 0.8, 'ctvec__min_df': 5} 0.577346457989\n",
      "38 {'clf__n_neighbors': 100, 'ctvec__max_df': 1.0, 'ctvec__min_df': 5} 0.577346457989\n",
      "39 {'clf__n_neighbors': 50, 'ctvec__max_df': 0.9, 'ctvec__min_df': 2} 0.577678919308\n",
      "40 {'clf__n_neighbors': 50, 'ctvec__max_df': 0.8, 'ctvec__min_df': 2} 0.577678919308\n",
      "41 {'clf__n_neighbors': 50, 'ctvec__max_df': 1.0, 'ctvec__min_df': 2} 0.577678919308\n",
      "42 {'clf__n_neighbors': 100, 'ctvec__max_df': 0.9, 'ctvec__min_df': 2} 0.578128848153\n",
      "43 {'clf__n_neighbors': 100, 'ctvec__max_df': 1.0, 'ctvec__min_df': 2} 0.578128848153\n",
      "44 {'clf__n_neighbors': 100, 'ctvec__max_df': 0.8, 'ctvec__min_df': 2} 0.578128848153\n"
     ]
    },
    {
     "data": {
      "image/png": "[encoded data removed]",
      "text/plain": [
       "<matplotlib.figure.Figure at 0x7f6b53d88588>"
      ]
     },
     "metadata": {},
     "output_type": "display_data"
    }
   ],
   "source": [
    "plot_result(gsearch5_result)"
   ]
  },
  {
   "cell_type": "markdown",
   "metadata": {
    "deletable": true,
    "editable": true
   },
   "source": [
    "### Parameter tuning for RandomForest classifier"
   ]
  },
  {
   "cell_type": "code",
   "execution_count": 119,
   "metadata": {
    "collapsed": true,
    "deletable": true,
    "editable": true
   },
   "outputs": [],
   "source": [
    "def get_rand_wds(wd_file,rand_wd_file):\n",
    "    vocab = pd.read_csv(wd_file).word.values\n",
    "    rand_idx = random.sample(range(len(vocab)),100)\n",
    "    sel_words = []\n",
    "    for idx in rand_idx:\n",
    "        sel_words.append(vocab[idx])\n",
    "    \n",
    "    #pickle.dump(sel_words,open(rand_wd_file,'wb'))\n",
    "    return sel_words"
   ]
  },
  {
   "cell_type": "code",
   "execution_count": 120,
   "metadata": {
    "collapsed": false,
    "deletable": true,
    "editable": true
   },
   "outputs": [],
   "source": [
    "rand_wds = get_rand_wds(wd_file = wd_path + 'wd_paraphrase_xxxl.csv',rand_wd_file = wd_path +'random_100wds.pickle')"
   ]
  },
  {
   "cell_type": "code",
   "execution_count": 122,
   "metadata": {
    "collapsed": false,
    "deletable": true,
    "editable": true
   },
   "outputs": [
    {
     "data": {
      "text/plain": [
       "100"
      ]
     },
     "execution_count": 122,
     "metadata": {},
     "output_type": "execute_result"
    }
   ],
   "source": [
    "len(rand_wds)"
   ]
  },
  {
   "cell_type": "code",
   "execution_count": 126,
   "metadata": {
    "collapsed": false,
    "deletable": true,
    "editable": true
   },
   "outputs": [
    {
     "data": {
      "text/html": [
       "<div>\n",
       "<table border=\"1\" class=\"dataframe\">\n",
       "  <thead>\n",
       "    <tr style=\"text-align: right;\">\n",
       "      <th></th>\n",
       "      <th>neg_sents</th>\n",
       "      <th>pos_sents</th>\n",
       "      <th>word</th>\n",
       "    </tr>\n",
       "  </thead>\n",
       "  <tbody>\n",
       "    <tr>\n",
       "      <th>0</th>\n",
       "      <td>[You'll be one block from bars and restaurants...</td>\n",
       "      <td>[The Hawthorne area is a 10 minute walk north....</td>\n",
       "      <td>10</td>\n",
       "    </tr>\n",
       "    <tr>\n",
       "      <th>1</th>\n",
       "      <td>[Good bars down the road (see guidebook), the ...</td>\n",
       "      <td>[The Hawthorne District, 12 blocks away, offer...</td>\n",
       "      <td>12</td>\n",
       "    </tr>\n",
       "    <tr>\n",
       "      <th>2</th>\n",
       "      <td>[We are a 15 minute direct bus ride to downtow...</td>\n",
       "      <td>[A 15 cart food court - including Vietnamese a...</td>\n",
       "      <td>15</td>\n",
       "    </tr>\n",
       "    <tr>\n",
       "      <th>3</th>\n",
       "      <td>[It stretches about 20 blocks long and has Por...</td>\n",
       "      <td>[A majority of the other sights and natural la...</td>\n",
       "      <td>20</td>\n",
       "    </tr>\n",
       "    <tr>\n",
       "      <th>4</th>\n",
       "      <td>[We live in a very walkable, safe, bike-able a...</td>\n",
       "      <td>[The Evermore Guesthouse is located in the the...</td>\n",
       "      <td>able</td>\n",
       "    </tr>\n",
       "  </tbody>\n",
       "</table>\n",
       "</div>"
      ],
      "text/plain": [
       "                                           neg_sents  \\\n",
       "0  [You'll be one block from bars and restaurants...   \n",
       "1  [Good bars down the road (see guidebook), the ...   \n",
       "2  [We are a 15 minute direct bus ride to downtow...   \n",
       "3  [It stretches about 20 blocks long and has Por...   \n",
       "4  [We live in a very walkable, safe, bike-able a...   \n",
       "\n",
       "                                           pos_sents  word  \n",
       "0  [The Hawthorne area is a 10 minute walk north....    10  \n",
       "1  [The Hawthorne District, 12 blocks away, offer...    12  \n",
       "2  [A 15 cart food court - including Vietnamese a...    15  \n",
       "3  [A majority of the other sights and natural la...    20  \n",
       "4  [The Evermore Guesthouse is located in the the...  able  "
      ]
     },
     "execution_count": 126,
     "metadata": {},
     "output_type": "execute_result"
    }
   ],
   "source": [
    "test.head()"
   ]
  },
  {
   "cell_type": "code",
   "execution_count": 4,
   "metadata": {
    "collapsed": false,
    "deletable": true,
    "editable": true
   },
   "outputs": [],
   "source": [
    "rand_wd_file = \"/data/2/zwang/2018_S_WordTreatment/random_100wds.pickle\"\n",
    "rand_wd = pd.DataFrame(pickle.load(open(rand_wd_file,'rb')))"
   ]
  },
  {
   "cell_type": "code",
   "execution_count": 8,
   "metadata": {
    "collapsed": false,
    "deletable": true,
    "editable": true
   },
   "outputs": [
    {
     "data": {
      "text/plain": [
       "array(['cool', 'wild', 'various', 'able', 'choose', 'extremely',\n",
       "       'downtown', 'etc', 'very', 'climbing', 'mere', 'strong', 'hub',\n",
       "       'goods', 'opinion', 'yard', 'bite', 'southern', 'feeling', 'shop',\n",
       "       'drink', 'sit', 'boutique', 'theatre', 'completely', 'feature',\n",
       "       'fully', 'laundry', 'sure', 'peaceful', 'largest', 'birds',\n",
       "       'tranquil', 'recommendations', 'distance', 'famous', 'experiences',\n",
       "       'neighboring', 'often', 'favorite', 'months', 'theatres', 'were',\n",
       "       'hospital', 'walk', 'neighborhoods', 'festivals', 'busy', 'needs',\n",
       "       'chain', 'artists', 'relaxing', 'has', 'same', 'funky', 'prepared',\n",
       "       'football', 'brew', 'general', 'ask', 'activity', 'done', 'nicest',\n",
       "       'large', 'which', 'exercise', '20', 'ride', 'outdoor', 'plaza',\n",
       "       'excellent', 'family', 'nearly', 'the', 'menus', 'ethnic',\n",
       "       'anything', 'art', 'wide', 'cook', 'following', 'housing', 'how',\n",
       "       'community', 'like', 'mixed', 'seeing', 'own', 'amenities', 'month',\n",
       "       'really', 'freeway', 'fine', 'hop', 'built', 'suggestions',\n",
       "       'eateries', 'reach', 'outdoors', 'year'], dtype=object)"
      ]
     },
     "execution_count": 8,
     "metadata": {},
     "output_type": "execute_result"
    }
   ],
   "source": [
    "rand_wd[0].values"
   ]
  },
  {
   "cell_type": "code",
   "execution_count": 22,
   "metadata": {
    "collapsed": false,
    "deletable": true,
    "editable": true
   },
   "outputs": [],
   "source": [
    "def RFC_tuning(rand_wd_file,wd_sents_file,result_file,my_pipeline, my_params, nfold):\n",
    "    rand_wd = pd.DataFrame(pickle.load(open(rand_wd_file,'rb')))[0].values\n",
    "    sents_pd = pd.DataFrame(pickle.load(open(wd_sents_file,'rb')))\n",
    "    \n",
    "    result = []\n",
    "    for wd in rand_wd:\n",
    "        wdsents_pd = sents_pd[sents_pd['word'] == wd]\n",
    "        wd_sents = wdsents_pd['pos_sents'].values[0] + wdsents_pd['neg_sents'].values[0]\n",
    "        labels = list(np.ones(len(wdsents_pd['pos_sents'].values[0])))+list(np.zeros(len(wdsents_pd['neg_sents'].values[0])))\n",
    "        print(wd,Counter(labels))\n",
    "        if(len(wd_sents)>10000 or (min(Counter(labels)[0],Counter(labels)[1])/nfold)<1):\n",
    "            continue\n",
    "        gsearch = GridSearchCV(my_pipeline, my_params, scoring='roc_auc', cv=nfold, n_jobs = -1)\n",
    "        gsearch.fit(wd_sents,labels)\n",
    "        result.append({'grid_score':gsearch.grid_scores_,'best_param':gsearch.best_params_,'best_score':gsearch.best_score_})\n",
    "    pickle.dump(result,open(result_file,'wb'))\n",
    "    return result"
   ]
  },
  {
   "cell_type": "markdown",
   "metadata": {
    "deletable": true,
    "editable": true
   },
   "source": [
    "#### tuning forest parameters"
   ]
  },
  {
   "cell_type": "code",
   "execution_count": 23,
   "metadata": {
    "collapsed": false,
    "deletable": true,
    "editable": true
   },
   "outputs": [],
   "source": [
    "forest_pipeline = Pipeline([\n",
    "    ('ctvec', CountVectorizer(min_df=2, max_df=0.8)),\n",
    "    ('clf', RandomForestClassifier(oob_score=True, random_state=42,n_jobs=-1))\n",
    "     ])\n",
    "    \n",
    "forest_params = {\n",
    "        #'clf__max_features': ('sqrt','log2',None),\n",
    "        #'clf__min_samples_leaf':(1,2,5,10),\n",
    "        'clf__n_estimators' : (10,100,200,500,1000)\n",
    "        }"
   ]
  },
  {
   "cell_type": "code",
   "execution_count": 24,
   "metadata": {
    "collapsed": false,
    "deletable": true,
    "editable": true
   },
   "outputs": [
    {
     "name": "stdout",
     "output_type": "stream",
     "text": [
      "cool Counter({1.0: 650, 0.0: 185})\n",
      "wild Counter({1.0: 53, 0.0: 12})\n",
      "various Counter({1.0: 138, 0.0: 45})\n",
      "able Counter({1.0: 158, 0.0: 40})\n",
      "choose Counter({1.0: 166, 0.0: 33})\n",
      "extremely Counter({1.0: 266, 0.0: 56})\n",
      "downtown Counter({1.0: 3188, 0.0: 921})\n",
      "etc Counter({1.0: 1242, 0.0: 282})\n",
      "very Counter({1.0: 4341, 0.0: 1102})\n",
      "climbing Counter({1.0: 27, 0.0: 10})\n",
      "mere Counter({1.0: 71, 0.0: 10})\n",
      "strong Counter({1.0: 59, 0.0: 19})\n",
      "hub Counter({1.0: 176, 0.0: 30})\n",
      "goods Counter({1.0: 64, 0.0: 12})\n",
      "opinion Counter({1.0: 77, 0.0: 13})\n",
      "yard Counter({1.0: 74, 0.0: 21})\n",
      "bite Counter({1.0: 63, 0.0: 14})\n",
      "southern Counter({1.0: 231, 0.0: 47})\n",
      "feeling Counter({1.0: 137, 0.0: 32})\n",
      "shop Counter({1.0: 1008, 0.0: 212})\n",
      "drink Counter({1.0: 338, 0.0: 63})\n",
      "sit Counter({1.0: 112, 0.0: 18})\n",
      "boutique Counter({1.0: 341, 0.0: 44})\n",
      "theatre Counter({1.0: 387, 0.0: 172})\n",
      "completely Counter({1.0: 52, 0.0: 18})\n",
      "feature Counter({1.0: 51, 0.0: 10})\n",
      "fully Counter({1.0: 69, 0.0: 11})\n",
      "laundry Counter({1.0: 279, 0.0: 65})\n",
      "sure Counter({1.0: 194, 0.0: 47})\n",
      "peaceful Counter({1.0: 467, 0.0: 87})\n",
      "largest Counter({1.0: 167, 0.0: 31})\n",
      "birds Counter({1.0: 65, 0.0: 21})\n",
      "tranquil Counter({1.0: 72, 0.0: 9})\n",
      "recommendations Counter({1.0: 281, 0.0: 60})\n",
      "distance Counter({1.0: 4919, 0.0: 1140})\n",
      "famous Counter({1.0: 1584, 0.0: 373})\n",
      "experiences Counter({1.0: 50, 0.0: 9})\n",
      "neighboring Counter({1.0: 69, 0.0: 13})\n",
      "often Counter({1.0: 144, 0.0: 34})\n",
      "favorite Counter({1.0: 834, 0.0: 172})\n",
      "months Counter({1.0: 73, 0.0: 14})\n",
      "theatres Counter({1.0: 72, 0.0: 30})\n",
      "were Counter({1.0: 117, 0.0: 19})\n",
      "hospital Counter({1.0: 145, 0.0: 70})\n",
      "walk Counter({1.0: 7609, 0.0: 1726})\n",
      "neighborhoods Counter({1.0: 1894, 0.0: 349})\n",
      "festivals Counter({1.0: 84, 0.0: 13})\n",
      "busy Counter({1.0: 249, 0.0: 66})\n",
      "needs Counter({1.0: 137, 0.0: 27})\n",
      "chain Counter({1.0: 43, 0.0: 12})\n",
      "artists Counter({1.0: 358, 0.0: 147})\n",
      "relaxing Counter({1.0: 170, 0.0: 29})\n",
      "has Counter({1.0: 3812, 0.0: 851})\n",
      "same Counter({1.0: 303, 0.0: 64})\n",
      "funky Counter({1.0: 136, 0.0: 22})\n",
      "prepared Counter({1.0: 46, 0.0: 8})\n",
      "football Counter({1.0: 33, 0.0: 5})\n",
      "brew Counter({1.0: 59, 0.0: 9})\n",
      "general Counter({1.0: 87, 0.0: 24})\n",
      "ask Counter({1.0: 240, 0.0: 49})\n",
      "activity Counter({1.0: 100, 0.0: 28})\n",
      "done Counter({1.0: 38, 0.0: 14})\n",
      "nicest Counter({1.0: 95, 0.0: 7})\n",
      "large Counter({1.0: 478, 0.0: 122})\n",
      "which Counter({1.0: 2270, 0.0: 495})\n",
      "exercise Counter({1.0: 76, 0.0: 13})\n",
      "20 Counter({1.0: 1125, 0.0: 321})\n",
      "ride Counter({1.0: 1428, 0.0: 294})\n",
      "outdoor Counter({1.0: 429, 0.0: 64})\n",
      "plaza Counter({1.0: 202, 0.0: 75})\n",
      "excellent Counter({1.0: 570, 0.0: 91})\n",
      "family Counter({1.0: 862, 0.0: 211})\n",
      "nearly Counter({1.0: 74, 0.0: 19})\n",
      "the Counter({1.0: 41882, 0.0: 9435})\n",
      "menus Counter({1.0: 34, 0.0: 3})\n",
      "ethnic Counter({1.0: 168, 0.0: 50})\n",
      "anything Counter({1.0: 315, 0.0: 68})\n",
      "art Counter({1.0: 1447, 0.0: 559})\n",
      "wide Counter({1.0: 201, 0.0: 30})\n",
      "cook Counter({1.0: 77, 0.0: 10})\n",
      "following Counter({1.0: 79, 0.0: 10})\n",
      "housing Counter({1.0: 39, 0.0: 16})\n",
      "how Counter({1.0: 211, 0.0: 62})\n",
      "community Counter({1.0: 1056, 0.0: 298})\n",
      "like Counter({1.0: 1796, 0.0: 423})\n",
      "mixed Counter({1.0: 82, 0.0: 39})\n",
      "seeing Counter({1.0: 83, 0.0: 25})\n",
      "own Counter({1.0: 267, 0.0: 77})\n",
      "amenities Counter({1.0: 261, 0.0: 51})\n",
      "month Counter({1.0: 104, 0.0: 35})\n",
      "really Counter({1.0: 632, 0.0: 172})\n",
      "freeway Counter({1.0: 338, 0.0: 92})\n",
      "fine Counter({1.0: 292, 0.0: 45})\n",
      "hop Counter({1.0: 194, 0.0: 37})\n",
      "built Counter({1.0: 149, 0.0: 40})\n",
      "suggestions Counter({1.0: 92, 0.0: 16})\n",
      "eateries Counter({1.0: 386, 0.0: 79})\n",
      "reach Counter({1.0: 137, 0.0: 33})\n",
      "outdoors Counter({1.0: 51, 0.0: 10})\n",
      "year Counter({1.0: 254, 0.0: 45})\n",
      "2295.9036009311676\n"
     ]
    }
   ],
   "source": [
    "start = time.time()\n",
    "rand_wd_file = \"/data/2/zwang/2018_S_WordTreatment/random_100wds.pickle\"\n",
    "wd_sents_file = \"/data/2/zwang/2018_S_WordTreatment/wd_labeled_sentences.pickle\"\n",
    "result_file = \"/data/2/zwang/2018_S_WordTreatment/RF_tuning_forest_result.pickle\"\n",
    "RFC_result = RFC_tuning(rand_wd_file,wd_sents_file,result_file,forest_pipeline, forest_params,nfold=10)\n",
    "end = time.time()\n",
    "print(end-start)"
   ]
  },
  {
   "cell_type": "code",
   "execution_count": 143,
   "metadata": {
    "collapsed": false,
    "deletable": true,
    "editable": true
   },
   "outputs": [
    {
     "name": "stdout",
     "output_type": "stream",
     "text": [
      "yes\n"
     ]
    }
   ],
   "source": [
    "#9:58\n",
    "print(\"yes\")"
   ]
  },
  {
   "cell_type": "code",
   "execution_count": 28,
   "metadata": {
    "collapsed": false,
    "deletable": true,
    "editable": true
   },
   "outputs": [
    {
     "name": "stdout",
     "output_type": "stream",
     "text": [
      "0 {'clf__n_estimators': 10} 0.525368834097\n",
      "1 {'clf__n_estimators': 500} 0.538517380773\n",
      "2 {'clf__n_estimators': 100} 0.539316500195\n",
      "3 {'clf__n_estimators': 1000} 0.54017072385\n",
      "4 {'clf__n_estimators': 200} 0.540968837337\n"
     ]
    },
    {
     "data": {
      "image/png": "[encoded data removed]",
      "text/plain": [
       "<matplotlib.figure.Figure at 0x7f10c9cbe5f8>"
      ]
     },
     "metadata": {},
     "output_type": "display_data"
    }
   ],
   "source": [
    "plot_result(RFC_result)"
   ]
  },
  {
   "cell_type": "markdown",
   "metadata": {
    "collapsed": true,
    "deletable": true,
    "editable": true
   },
   "source": [
    "#### tuning tree parameters"
   ]
  },
  {
   "cell_type": "code",
   "execution_count": 29,
   "metadata": {
    "collapsed": false,
    "deletable": true,
    "editable": true
   },
   "outputs": [],
   "source": [
    "tree_pipeline = Pipeline([\n",
    "    ('ctvec', CountVectorizer(min_df=2, max_df=0.8)),\n",
    "    ('clf', RandomForestClassifier(n_estimators=200 ,oob_score=True, \n",
    "                                   random_state=42,n_jobs=-1))\n",
    "     ])\n",
    "    \n",
    "tree_params = {\n",
    "        'clf__max_features': ('sqrt','log2',None),\n",
    "        'clf__min_samples_leaf':(1,2,5,10)\n",
    "        #'clf__n_estimators' : (10,100,200,500,1000)\n",
    "        }"
   ]
  },
  {
   "cell_type": "code",
   "execution_count": 32,
   "metadata": {
    "collapsed": false,
    "deletable": true,
    "editable": true
   },
   "outputs": [
    {
     "name": "stdout",
     "output_type": "stream",
     "text": [
      "cool Counter({1.0: 650, 0.0: 185})\n",
      "wild Counter({1.0: 53, 0.0: 12})\n",
      "various Counter({1.0: 138, 0.0: 45})\n",
      "able Counter({1.0: 158, 0.0: 40})\n",
      "choose Counter({1.0: 166, 0.0: 33})\n",
      "extremely Counter({1.0: 266, 0.0: 56})\n",
      "downtown Counter({1.0: 3188, 0.0: 921})\n",
      "etc Counter({1.0: 1242, 0.0: 282})\n",
      "very Counter({1.0: 4341, 0.0: 1102})\n",
      "climbing Counter({1.0: 27, 0.0: 10})\n",
      "mere Counter({1.0: 71, 0.0: 10})\n",
      "strong Counter({1.0: 59, 0.0: 19})\n",
      "hub Counter({1.0: 176, 0.0: 30})\n",
      "goods Counter({1.0: 64, 0.0: 12})\n",
      "opinion Counter({1.0: 77, 0.0: 13})\n",
      "yard Counter({1.0: 74, 0.0: 21})\n",
      "bite Counter({1.0: 63, 0.0: 14})\n",
      "southern Counter({1.0: 231, 0.0: 47})\n",
      "feeling Counter({1.0: 137, 0.0: 32})\n",
      "shop Counter({1.0: 1008, 0.0: 212})\n",
      "drink Counter({1.0: 338, 0.0: 63})\n",
      "sit Counter({1.0: 112, 0.0: 18})\n",
      "boutique Counter({1.0: 341, 0.0: 44})\n",
      "theatre Counter({1.0: 387, 0.0: 172})\n",
      "completely Counter({1.0: 52, 0.0: 18})\n",
      "feature Counter({1.0: 51, 0.0: 10})\n",
      "fully Counter({1.0: 69, 0.0: 11})\n",
      "laundry Counter({1.0: 279, 0.0: 65})\n",
      "sure Counter({1.0: 194, 0.0: 47})\n",
      "peaceful Counter({1.0: 467, 0.0: 87})\n",
      "largest Counter({1.0: 167, 0.0: 31})\n",
      "birds Counter({1.0: 65, 0.0: 21})\n",
      "tranquil Counter({1.0: 72, 0.0: 9})\n",
      "recommendations Counter({1.0: 281, 0.0: 60})\n",
      "distance Counter({1.0: 4919, 0.0: 1140})\n",
      "famous Counter({1.0: 1584, 0.0: 373})\n",
      "experiences Counter({1.0: 50, 0.0: 9})\n",
      "neighboring Counter({1.0: 69, 0.0: 13})\n",
      "often Counter({1.0: 144, 0.0: 34})\n",
      "favorite Counter({1.0: 834, 0.0: 172})\n",
      "months Counter({1.0: 73, 0.0: 14})\n",
      "theatres Counter({1.0: 72, 0.0: 30})\n",
      "were Counter({1.0: 117, 0.0: 19})\n",
      "hospital Counter({1.0: 145, 0.0: 70})\n",
      "walk Counter({1.0: 7609, 0.0: 1726})\n",
      "neighborhoods Counter({1.0: 1894, 0.0: 349})\n",
      "festivals Counter({1.0: 84, 0.0: 13})\n",
      "busy Counter({1.0: 249, 0.0: 66})\n",
      "needs Counter({1.0: 137, 0.0: 27})\n",
      "chain Counter({1.0: 43, 0.0: 12})\n",
      "artists Counter({1.0: 358, 0.0: 147})\n",
      "relaxing Counter({1.0: 170, 0.0: 29})\n",
      "has Counter({1.0: 3812, 0.0: 851})\n",
      "same Counter({1.0: 303, 0.0: 64})\n",
      "funky Counter({1.0: 136, 0.0: 22})\n",
      "prepared Counter({1.0: 46, 0.0: 8})\n",
      "football Counter({1.0: 33, 0.0: 5})\n",
      "brew Counter({1.0: 59, 0.0: 9})\n",
      "general Counter({1.0: 87, 0.0: 24})\n",
      "ask Counter({1.0: 240, 0.0: 49})\n",
      "activity Counter({1.0: 100, 0.0: 28})\n",
      "done Counter({1.0: 38, 0.0: 14})\n",
      "nicest Counter({1.0: 95, 0.0: 7})\n",
      "large Counter({1.0: 478, 0.0: 122})\n",
      "which Counter({1.0: 2270, 0.0: 495})\n",
      "exercise Counter({1.0: 76, 0.0: 13})\n",
      "20 Counter({1.0: 1125, 0.0: 321})\n",
      "ride Counter({1.0: 1428, 0.0: 294})\n",
      "outdoor Counter({1.0: 429, 0.0: 64})\n",
      "plaza Counter({1.0: 202, 0.0: 75})\n",
      "excellent Counter({1.0: 570, 0.0: 91})\n",
      "family Counter({1.0: 862, 0.0: 211})\n",
      "nearly Counter({1.0: 74, 0.0: 19})\n",
      "the Counter({1.0: 41882, 0.0: 9435})\n",
      "menus Counter({1.0: 34, 0.0: 3})\n",
      "ethnic Counter({1.0: 168, 0.0: 50})\n",
      "anything Counter({1.0: 315, 0.0: 68})\n",
      "art Counter({1.0: 1447, 0.0: 559})\n",
      "wide Counter({1.0: 201, 0.0: 30})\n",
      "cook Counter({1.0: 77, 0.0: 10})\n",
      "following Counter({1.0: 79, 0.0: 10})\n",
      "housing Counter({1.0: 39, 0.0: 16})\n",
      "how Counter({1.0: 211, 0.0: 62})\n",
      "community Counter({1.0: 1056, 0.0: 298})\n",
      "like Counter({1.0: 1796, 0.0: 423})\n",
      "mixed Counter({1.0: 82, 0.0: 39})\n",
      "seeing Counter({1.0: 83, 0.0: 25})\n",
      "own Counter({1.0: 267, 0.0: 77})\n",
      "amenities Counter({1.0: 261, 0.0: 51})\n",
      "month Counter({1.0: 104, 0.0: 35})\n",
      "really Counter({1.0: 632, 0.0: 172})\n",
      "freeway Counter({1.0: 338, 0.0: 92})\n",
      "fine Counter({1.0: 292, 0.0: 45})\n",
      "hop Counter({1.0: 194, 0.0: 37})\n",
      "built Counter({1.0: 149, 0.0: 40})\n",
      "suggestions Counter({1.0: 92, 0.0: 16})\n",
      "eateries Counter({1.0: 386, 0.0: 79})\n",
      "reach Counter({1.0: 137, 0.0: 33})\n",
      "outdoors Counter({1.0: 51, 0.0: 10})\n",
      "year Counter({1.0: 254, 0.0: 45})\n",
      "5180.084015607834\n"
     ]
    }
   ],
   "source": [
    "start = time.time()\n",
    "rand_wd_file = \"/data/2/zwang/2018_S_WordTreatment/random_100wds.pickle\"\n",
    "wd_sents_file = \"/data/2/zwang/2018_S_WordTreatment/wd_labeled_sentences.pickle\"\n",
    "result_file = \"/data/2/zwang/2018_S_WordTreatment/RF_tuning_tree_result.pickle\"\n",
    "\n",
    "RFC_tree_result = RFC_tuning(rand_wd_file,wd_sents_file,result_file,tree_pipeline, tree_params,nfold=10)\n",
    "end = time.time()\n",
    "print(end-start)"
   ]
  },
  {
   "cell_type": "code",
   "execution_count": 33,
   "metadata": {
    "collapsed": false,
    "deletable": true,
    "editable": true
   },
   "outputs": [
    {
     "name": "stdout",
     "output_type": "stream",
     "text": [
      "0 {'clf__max_features': None, 'clf__min_samples_leaf': 2} 0.537714441047\n",
      "1 {'clf__max_features': None, 'clf__min_samples_leaf': 10} 0.537954798932\n",
      "2 {'clf__max_features': None, 'clf__min_samples_leaf': 1} 0.538978384747\n",
      "3 {'clf__max_features': 'log2', 'clf__min_samples_leaf': 10} 0.540154119709\n",
      "4 {'clf__max_features': 'sqrt', 'clf__min_samples_leaf': 1} 0.540968837337\n",
      "5 {'clf__max_features': None, 'clf__min_samples_leaf': 5} 0.541483890733\n",
      "6 {'clf__max_features': 'sqrt', 'clf__min_samples_leaf': 2} 0.542757879268\n",
      "7 {'clf__max_features': 'log2', 'clf__min_samples_leaf': 5} 0.543383594428\n",
      "8 {'clf__max_features': 'sqrt', 'clf__min_samples_leaf': 5} 0.544755942971\n",
      "9 {'clf__max_features': 'sqrt', 'clf__min_samples_leaf': 10} 0.544884587565\n",
      "10 {'clf__max_features': 'log2', 'clf__min_samples_leaf': 1} 0.544978654379\n",
      "11 {'clf__max_features': 'log2', 'clf__min_samples_leaf': 2} 0.546116166792\n"
     ]
    },
    {
     "data": {
      "image/png": "[encoded data removed]",
      "text/plain": [
       "<matplotlib.figure.Figure at 0x7f109ba4ff28>"
      ]
     },
     "metadata": {},
     "output_type": "display_data"
    }
   ],
   "source": [
    "plot_result(RFC_tree_result)"
   ]
  },
  {
   "cell_type": "markdown",
   "metadata": {
    "collapsed": true,
    "deletable": true,
    "editable": true
   },
   "source": [
    "#### tuning for training data"
   ]
  },
  {
   "cell_type": "code",
   "execution_count": null,
   "metadata": {
    "collapsed": true,
    "deletable": true,
    "editable": true
   },
   "outputs": [],
   "source": [
    "train_sents_pd = pd.DataFrame(pickle.load(open(wd_sents_file,'rb')))"
   ]
  },
  {
   "cell_type": "code",
   "execution_count": null,
   "metadata": {
    "collapsed": true,
    "deletable": true,
    "editable": true
   },
   "outputs": [],
   "source": []
  },
  {
   "cell_type": "code",
   "execution_count": null,
   "metadata": {
    "collapsed": true,
    "deletable": true,
    "editable": true
   },
   "outputs": [],
   "source": []
  },
  {
   "cell_type": "markdown",
   "metadata": {
    "deletable": true,
    "editable": true
   },
   "source": [
    "#### tuning for training_eval data"
   ]
  },
  {
   "cell_type": "code",
   "execution_count": null,
   "metadata": {
    "collapsed": true,
    "deletable": true,
    "editable": true
   },
   "outputs": [],
   "source": []
  }
 ],
 "metadata": {
  "kernelspec": {
   "display_name": "Python 3",
   "language": "python",
   "name": "python3"
  },
  "language_info": {
   "codemirror_mode": {
    "name": "ipython",
    "version": 3
   },
   "file_extension": ".py",
   "mimetype": "text/x-python",
   "name": "python",
   "nbconvert_exporter": "python",
   "pygments_lexer": "ipython3",
   "version": "3.4.3"
  },
  "toc": {
   "nav_menu": {},
   "number_sections": true,
   "sideBar": true,
   "skip_h1_title": false,
   "title_cell": "Table of Contents",
   "title_sidebar": "Contents",
   "toc_cell": false,
   "toc_position": {},
   "toc_section_display": true,
   "toc_window_display": false
  }
 },
 "nbformat": 4,
 "nbformat_minor": 2
}
